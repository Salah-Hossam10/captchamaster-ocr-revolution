{
 "cells": [
  {
   "cell_type": "code",
   "execution_count": 1,
   "id": "b48f056a",
   "metadata": {
    "_cell_guid": "b1076dfc-b9ad-4769-8c92-a6c4dae69d19",
    "_uuid": "8f2839f25d086af736a60e9eeb907d3b93b6e0e5",
    "execution": {
     "iopub.execute_input": "2024-10-23T22:45:09.725461Z",
     "iopub.status.busy": "2024-10-23T22:45:09.724954Z",
     "iopub.status.idle": "2024-10-23T22:45:11.188341Z",
     "shell.execute_reply": "2024-10-23T22:45:11.187278Z"
    },
    "papermill": {
     "duration": 1.482355,
     "end_time": "2024-10-23T22:45:11.190940",
     "exception": false,
     "start_time": "2024-10-23T22:45:09.708585",
     "status": "completed"
    },
    "tags": []
   },
   "outputs": [],
   "source": [
    "# This Python 3 environment comes with many helpful analytics libraries installed\n",
    "# It is defined by the kaggle/python Docker image: https://github.com/kaggle/docker-python\n",
    "# For example, here's several helpful packages to load\n",
    "\n",
    "import numpy as np # linear algebra\n",
    "import pandas as pd # data processing, CSV file I/O (e.g. pd.read_csv)\n",
    "\n",
    "# Input data files are available in the read-only \"../input/\" directory\n",
    "# For example, running this (by clicking run or pressing Shift+Enter) will list all files under the input directory\n",
    "\n",
    "import os\n",
    "for dirname, _, filenames in os.walk('/kaggle/input'):\n",
    "    for filename in filenames:\n",
    "        print(os.path.join(dirname, filename))\n",
    "\n",
    "# You can write up to 20GB to the current directory (/kaggle/working/) that gets preserved as output when you create a version using \"Save & Run All\" \n",
    "# You can also write temporary files to /kaggle/temp/, but they won't be saved outside of the current session"
   ]
  },
  {
   "cell_type": "code",
   "execution_count": 2,
   "id": "54b06069",
   "metadata": {
    "execution": {
     "iopub.execute_input": "2024-10-23T22:45:11.221935Z",
     "iopub.status.busy": "2024-10-23T22:45:11.221063Z",
     "iopub.status.idle": "2024-10-23T22:47:20.893130Z",
     "shell.execute_reply": "2024-10-23T22:47:20.891999Z"
    },
    "papermill": {
     "duration": 129.689532,
     "end_time": "2024-10-23T22:47:20.895964",
     "exception": false,
     "start_time": "2024-10-23T22:45:11.206432",
     "status": "completed"
    },
    "tags": []
   },
   "outputs": [
    {
     "name": "stdout",
     "output_type": "stream",
     "text": [
      "Retrieving notices: ...working... done\r\n",
      "Channels:\r\n",
      " - rapidsai\r\n",
      " - nvidia\r\n",
      " - nodefaults\r\n",
      " - conda-forge\r\n",
      " - defaults\r\n",
      " - pytorch\r\n",
      "Platform: linux-64\r\n",
      "Collecting package metadata (repodata.json): \\ \b\b| \b\b/ \b\b- \b\b\\ \b\b| \b\b/ \b\b- \b\b\\ \b\b| \b\b/ \b\b- \b\b\\ \b\b| \b\b/ \b\b- \b\b\\ \b\b| \b\b/ \b\b- \b\b\\ \b\b| \b\b/ \b\b- \b\b\\ \b\b| \b\b/ \b\b- \b\b\\ \b\b| \b\b/ \b\b- \b\b\\ \b\b| \b\b/ \b\b- \b\b\\ \b\b| \b\b/ \b\b- \b\b\\ \b\b| \b\b/ \b\b- \b\b\\ \b\b| \b\b/ \b\b- \b\b\\ \b\b| \b\b/ \b\b- \b\b\\ \b\b| \b\b/ \b\b- \b\b\\ \b\b| \b\b/ \b\b- \b\b\\ \b\b| \b\b/ \b\b- \b\b\\ \b\b| \b\b/ \b\b- \b\b\\ \b\b| \b\b/ \b\b- \b\b\\ \b\b| \b\b/ \b\b- \b\b\\ \b\b| \b\b/ \b\b- \b\b\\ \b\b| \b\b/ \b\b- \b\b\\ \b\b| \b\b/ \b\b- \b\b\\ \b\b| \b\b/ \b\b- \b\b\\ \b\b| \b\b/ \b\b- \b\bdone\r\n",
      "Solving environment: | \b\b/ \b\b- \b\b\\ \b\b| \b\b/ \b\b- \b\b\\ \b\b| \b\b/ \b\b- \b\b\\ \b\b| \b\b/ \b\b- \b\b\\ \b\b| \b\b/ \b\b- \b\b\\ \b\b| \b\b/ \b\b- \b\b\\ \b\b| \b\b/ \b\b- \b\b\\ \b\b| \b\b/ \b\b- \b\b\\ \b\b| \b\b/ \b\b- \b\b\\ \b\b| \b\b/ \b\b- \b\b\\ \b\b| \b\b/ \b\bdone\r\n",
      "\r\n",
      "## Package Plan ##\r\n",
      "\r\n",
      "  environment location: /opt/conda\r\n",
      "\r\n",
      "  added / updated specs:\r\n",
      "    - gdown\r\n",
      "\r\n",
      "\r\n",
      "The following packages will be downloaded:\r\n",
      "\r\n",
      "    package                    |            build\r\n",
      "    ---------------------------|-----------------\r\n",
      "    conda-24.9.2               |  py310hff52083_0         895 KB  conda-forge\r\n",
      "    filelock-3.16.1            |     pyhd8ed1ab_0          17 KB  conda-forge\r\n",
      "    gdown-5.2.0                |     pyhd8ed1ab_0          21 KB  conda-forge\r\n",
      "    ------------------------------------------------------------\r\n",
      "                                           Total:         933 KB\r\n",
      "\r\n",
      "The following NEW packages will be INSTALLED:\r\n",
      "\r\n",
      "  filelock           conda-forge/noarch::filelock-3.16.1-pyhd8ed1ab_0 \r\n",
      "  gdown              conda-forge/noarch::gdown-5.2.0-pyhd8ed1ab_0 \r\n",
      "\r\n",
      "The following packages will be UPDATED:\r\n",
      "\r\n",
      "  conda                              24.9.0-py310hff52083_0 --> 24.9.2-py310hff52083_0 \r\n",
      "\r\n",
      "\r\n",
      "\r\n",
      "Downloading and Extracting Packages:\r\n",
      "conda-24.9.2         | 895 KB    |                                       |   0% \r\n",
      "gdown-5.2.0          | 21 KB     |                                       |   0% \u001b[A\r\n",
      "\r\n",
      "conda-24.9.2         | 895 KB    | 6                                     |   2% \r\n",
      "gdown-5.2.0          | 21 KB     | ##################################### | 100% \u001b[A\r\n",
      "\r\n",
      "filelock-3.16.1      | 17 KB     | ##################################### | 100% \u001b[A\u001b[A\r\n",
      "gdown-5.2.0          | 21 KB     | ##################################### | 100% \u001b[A\r\n",
      "\r\n",
      "\r\n",
      "                                                                                \u001b[A\r\n",
      "\r\n",
      "\r\n",
      "Preparing transaction: \\ \b\bdone\r\n",
      "Verifying transaction: / \b\b- \b\bdone\r\n",
      "Executing transaction: | \b\b/ \b\b- \b\b\\ \b\b| \b\b/ \b\b- \b\b\\ \b\b| \b\b/ \b\b- \b\b\\ \b\b| \b\b/ \b\b- \b\b\\ \b\b| \b\b/ \b\b- \b\b\\ \b\b| \b\b/ \b\b- \b\b\\ \b\b| \b\b/ \b\b- \b\b\\ \b\b| \b\b/ \b\b- \b\b\\ \b\b| \b\b/ \b\b- \b\b\\ \b\b| \b\b/ \b\b- \b\b\\ \b\b| \b\b/ \b\b- \b\b\\ \b\b| \b\b/ \b\b- \b\b\\ \b\b| \b\b/ \b\b- \b\b\\ \b\b| \b\b/ \b\b- \b\b\\ \b\bdone\r\n"
     ]
    }
   ],
   "source": [
    "! conda install -y gdown"
   ]
  },
  {
   "cell_type": "code",
   "execution_count": 3,
   "id": "69c5414d",
   "metadata": {
    "execution": {
     "iopub.execute_input": "2024-10-23T22:47:20.963157Z",
     "iopub.status.busy": "2024-10-23T22:47:20.962647Z",
     "iopub.status.idle": "2024-10-23T22:47:43.603680Z",
     "shell.execute_reply": "2024-10-23T22:47:43.602311Z"
    },
    "papermill": {
     "duration": 22.677951,
     "end_time": "2024-10-23T22:47:43.606344",
     "exception": false,
     "start_time": "2024-10-23T22:47:20.928393",
     "status": "completed"
    },
    "tags": []
   },
   "outputs": [
    {
     "name": "stdout",
     "output_type": "stream",
     "text": [
      "/opt/conda/lib/python3.10/site-packages/gdown/__main__.py:140: FutureWarning: Option `--id` was deprecated in version 4.3.1 and will be removed in 5.0. You don't need to pass it anymore to use a file ID.\r\n",
      "  warnings.warn(\r\n",
      "Downloading...\r\n",
      "From: https://drive.google.com/uc?id=1qo7Ov82N3rpfpgwLNYZLS-O8tRoegpxm\r\n",
      "To: /kaggle/working/CAPTCHA_Images.zip\r\n",
      "100%|██████████████████████████████████████| 18.3M/18.3M [00:00<00:00, 89.1MB/s]\r\n"
     ]
    }
   ],
   "source": [
    "!gdown --id 1qo7Ov82N3rpfpgwLNYZLS-O8tRoegpxm"
   ]
  },
  {
   "cell_type": "code",
   "execution_count": 4,
   "id": "beb6b69b",
   "metadata": {
    "execution": {
     "iopub.execute_input": "2024-10-23T22:47:43.674139Z",
     "iopub.status.busy": "2024-10-23T22:47:43.673688Z",
     "iopub.status.idle": "2024-10-23T22:47:44.104724Z",
     "shell.execute_reply": "2024-10-23T22:47:44.103742Z"
    },
    "papermill": {
     "duration": 0.467836,
     "end_time": "2024-10-23T22:47:44.107398",
     "exception": false,
     "start_time": "2024-10-23T22:47:43.639562",
     "status": "completed"
    },
    "tags": []
   },
   "outputs": [],
   "source": [
    "import zipfile\n",
    "z= zipfile.ZipFile('CAPTCHA_Images.zip')\n",
    "z.extractall()"
   ]
  },
  {
   "cell_type": "markdown",
   "id": "d0f35153",
   "metadata": {
    "papermill": {
     "duration": 0.031221,
     "end_time": "2024-10-23T22:47:44.170825",
     "exception": false,
     "start_time": "2024-10-23T22:47:44.139604",
     "status": "completed"
    },
    "tags": []
   },
   "source": [
    "# Libraries"
   ]
  },
  {
   "cell_type": "code",
   "execution_count": 5,
   "id": "e3147d87",
   "metadata": {
    "execution": {
     "iopub.execute_input": "2024-10-23T22:47:44.236165Z",
     "iopub.status.busy": "2024-10-23T22:47:44.235761Z",
     "iopub.status.idle": "2024-10-23T22:48:06.385636Z",
     "shell.execute_reply": "2024-10-23T22:48:06.384445Z"
    },
    "papermill": {
     "duration": 22.185188,
     "end_time": "2024-10-23T22:48:06.388337",
     "exception": false,
     "start_time": "2024-10-23T22:47:44.203149",
     "status": "completed"
    },
    "tags": []
   },
   "outputs": [],
   "source": [
    "import os\n",
    "import cv2\n",
    "import numpy as np\n",
    "from sklearn.model_selection import train_test_split\n",
    "from tensorflow.keras.models import Model\n",
    "from tensorflow.keras.layers import Conv2D, MaxPooling2D, Flatten, Dense, Dropout, Input, BatchNormalization, SpatialDropout2D\n",
    "from tensorflow.keras.utils import to_categorical\n",
    "from tensorflow.keras.optimizers import Adam\n",
    "from tensorflow.keras.callbacks import ReduceLROnPlateau, EarlyStopping, ModelCheckpoint\n",
    "from tensorflow.keras.regularizers import l2\n",
    "import matplotlib.pyplot as plt\n",
    "import random"
   ]
  },
  {
   "cell_type": "markdown",
   "id": "ae01025e",
   "metadata": {
    "papermill": {
     "duration": 0.031708,
     "end_time": "2024-10-23T22:48:06.452382",
     "exception": false,
     "start_time": "2024-10-23T22:48:06.420674",
     "status": "completed"
    },
    "tags": []
   },
   "source": [
    "# Main execution"
   ]
  },
  {
   "cell_type": "code",
   "execution_count": 6,
   "id": "ab796c56",
   "metadata": {
    "execution": {
     "iopub.execute_input": "2024-10-23T22:48:06.520042Z",
     "iopub.status.busy": "2024-10-23T22:48:06.518995Z",
     "iopub.status.idle": "2024-10-23T22:48:06.524424Z",
     "shell.execute_reply": "2024-10-23T22:48:06.523349Z"
    },
    "papermill": {
     "duration": 0.041353,
     "end_time": "2024-10-23T22:48:06.526512",
     "exception": false,
     "start_time": "2024-10-23T22:48:06.485159",
     "status": "completed"
    },
    "tags": []
   },
   "outputs": [],
   "source": [
    "folder_path = \"/kaggle/working/samples\""
   ]
  },
  {
   "cell_type": "markdown",
   "id": "cd875ebd",
   "metadata": {
    "papermill": {
     "duration": 0.031385,
     "end_time": "2024-10-23T22:48:06.589635",
     "exception": false,
     "start_time": "2024-10-23T22:48:06.558250",
     "status": "completed"
    },
    "tags": []
   },
   "source": [
    "# Set the maximum number of images to process"
   ]
  },
  {
   "cell_type": "code",
   "execution_count": 7,
   "id": "36dc4e51",
   "metadata": {
    "execution": {
     "iopub.execute_input": "2024-10-23T22:48:06.656645Z",
     "iopub.status.busy": "2024-10-23T22:48:06.655811Z",
     "iopub.status.idle": "2024-10-23T22:48:06.660753Z",
     "shell.execute_reply": "2024-10-23T22:48:06.659741Z"
    },
    "papermill": {
     "duration": 0.041546,
     "end_time": "2024-10-23T22:48:06.663354",
     "exception": false,
     "start_time": "2024-10-23T22:48:06.621808",
     "status": "completed"
    },
    "tags": []
   },
   "outputs": [],
   "source": [
    "MAX_IMAGES = 5000  # Adjust this number based on your RAM capacity"
   ]
  },
  {
   "cell_type": "markdown",
   "id": "221a5e74",
   "metadata": {
    "papermill": {
     "duration": 0.031173,
     "end_time": "2024-10-23T22:48:06.727171",
     "exception": false,
     "start_time": "2024-10-23T22:48:06.695998",
     "status": "completed"
    },
    "tags": []
   },
   "source": [
    "# Preprocessing Image"
   ]
  },
  {
   "cell_type": "code",
   "execution_count": 8,
   "id": "ff401e2d",
   "metadata": {
    "execution": {
     "iopub.execute_input": "2024-10-23T22:48:06.792763Z",
     "iopub.status.busy": "2024-10-23T22:48:06.792016Z",
     "iopub.status.idle": "2024-10-23T22:48:06.800314Z",
     "shell.execute_reply": "2024-10-23T22:48:06.799196Z"
    },
    "papermill": {
     "duration": 0.043989,
     "end_time": "2024-10-23T22:48:06.802709",
     "exception": false,
     "start_time": "2024-10-23T22:48:06.758720",
     "status": "completed"
    },
    "tags": []
   },
   "outputs": [],
   "source": [
    "def preprocess_image(img):\n",
    "    \"\"\"Enhanced image preprocessing pipeline.\"\"\"\n",
    "    if img is None:\n",
    "        raise ValueError(\"Image not loaded properly\")\n",
    "    \n",
    "    # Resize image\n",
    "    img = cv2.resize(img, (160, 80))  # Higher resolution\n",
    "    \n",
    "    # Enhance contrast using CLAHE\n",
    "    clahe = cv2.createCLAHE(clipLimit=2.0, tileGridSize=(8,8))\n",
    "    img = clahe.apply(img)\n",
    "    \n",
    "    # Apply Gaussian blur to reduce noise\n",
    "    img = cv2.GaussianBlur(img, (3, 3), 0)\n",
    "    \n",
    "    # Apply adaptive thresholding\n",
    "    img = cv2.adaptiveThreshold(\n",
    "        img, 255, cv2.ADAPTIVE_THRESH_GAUSSIAN_C, \n",
    "        cv2.THRESH_BINARY, 11, 2\n",
    "    )\n",
    "    \n",
    "    # Normalize\n",
    "    img = img.astype('float32') / 255.0\n",
    "    \n",
    "    return img"
   ]
  },
  {
   "cell_type": "code",
   "execution_count": 9,
   "id": "5889f924",
   "metadata": {
    "execution": {
     "iopub.execute_input": "2024-10-23T22:48:06.869145Z",
     "iopub.status.busy": "2024-10-23T22:48:06.868172Z",
     "iopub.status.idle": "2024-10-23T22:48:06.880833Z",
     "shell.execute_reply": "2024-10-23T22:48:06.879779Z"
    },
    "papermill": {
     "duration": 0.048126,
     "end_time": "2024-10-23T22:48:06.883028",
     "exception": false,
     "start_time": "2024-10-23T22:48:06.834902",
     "status": "completed"
    },
    "tags": []
   },
   "outputs": [],
   "source": [
    "def load_and_preprocess_images(folder_path, max_images=None, test_size=0.2):\n",
    "    \"\"\"Load and preprocess images, and split into train and test sets\"\"\"\n",
    "    images = []\n",
    "    labels = []\n",
    "    valid_extensions = {'.jpg', '.jpeg', '.png'}\n",
    "    \n",
    "    files = os.listdir(folder_path)\n",
    "    if max_images:\n",
    "        files = files[:max_images]\n",
    "    \n",
    "    print(f\"Starting to load {len(files)} images...\")\n",
    "    \n",
    "    for filename in files:\n",
    "        if os.path.splitext(filename)[1].lower() in valid_extensions:\n",
    "            try:\n",
    "                img_path = os.path.join(folder_path, filename)\n",
    "                img = cv2.imread(img_path, cv2.IMREAD_GRAYSCALE)\n",
    "                \n",
    "                if img is None:\n",
    "                    print(f\"Failed to load {filename}\")\n",
    "                    continue\n",
    "                    \n",
    "                img = preprocess_image(img)\n",
    "                images.append(img)\n",
    "                \n",
    "                # Extract label from filename (assuming filename contains label)\n",
    "                label = os.path.splitext(filename)[0]\n",
    "                if not label.isalnum():\n",
    "                    print(f\"Invalid label in {filename}\")\n",
    "                    continue\n",
    "                    \n",
    "                labels.append(label)\n",
    "                \n",
    "            except Exception as e:\n",
    "                print(f\"Error processing {filename}: {str(e)}\")\n",
    "                continue\n",
    "    \n",
    "    if not images:\n",
    "        raise ValueError(\"No valid images loaded\")\n",
    "    \n",
    "    print(f\"Successfully loaded {len(images)} images\")\n",
    "    \n",
    "    # Convert lists to arrays\n",
    "    images = np.array(images)\n",
    "    labels = np.array(labels)\n",
    "    \n",
    "    # Split data into training and testing sets\n",
    "    X_train, X_test, y_train, y_test = train_test_split(images, labels, test_size=test_size, random_state=42)\n",
    "    \n",
    "    return X_train, X_test, y_train, y_test\n"
   ]
  },
  {
   "cell_type": "markdown",
   "id": "6359ab2c",
   "metadata": {
    "papermill": {
     "duration": 0.035702,
     "end_time": "2024-10-23T22:48:06.950390",
     "exception": false,
     "start_time": "2024-10-23T22:48:06.914688",
     "status": "completed"
    },
    "tags": []
   },
   "source": [
    "# Load and preprocess the images"
   ]
  },
  {
   "cell_type": "code",
   "execution_count": 10,
   "id": "2f669a42",
   "metadata": {
    "execution": {
     "iopub.execute_input": "2024-10-23T22:48:07.015942Z",
     "iopub.status.busy": "2024-10-23T22:48:07.015534Z",
     "iopub.status.idle": "2024-10-23T22:48:08.302368Z",
     "shell.execute_reply": "2024-10-23T22:48:08.301071Z"
    },
    "papermill": {
     "duration": 1.322225,
     "end_time": "2024-10-23T22:48:08.304777",
     "exception": false,
     "start_time": "2024-10-23T22:48:06.982552",
     "status": "completed"
    },
    "tags": []
   },
   "outputs": [
    {
     "name": "stdout",
     "output_type": "stream",
     "text": [
      "Starting to load 1071 images...\n",
      "Successfully loaded 1070 images\n"
     ]
    }
   ],
   "source": [
    "X_train, X_test, y_train, y_test = load_and_preprocess_images(folder_path, MAX_IMAGES)\n"
   ]
  },
  {
   "cell_type": "markdown",
   "id": "fb399657",
   "metadata": {
    "papermill": {
     "duration": 0.031849,
     "end_time": "2024-10-23T22:48:08.368646",
     "exception": false,
     "start_time": "2024-10-23T22:48:08.336797",
     "status": "completed"
    },
    "tags": []
   },
   "source": [
    "# Create character mappings"
   ]
  },
  {
   "cell_type": "code",
   "execution_count": 11,
   "id": "9152d731",
   "metadata": {
    "execution": {
     "iopub.execute_input": "2024-10-23T22:48:08.435322Z",
     "iopub.status.busy": "2024-10-23T22:48:08.434873Z",
     "iopub.status.idle": "2024-10-23T22:48:08.441209Z",
     "shell.execute_reply": "2024-10-23T22:48:08.440245Z"
    },
    "papermill": {
     "duration": 0.042542,
     "end_time": "2024-10-23T22:48:08.443385",
     "exception": false,
     "start_time": "2024-10-23T22:48:08.400843",
     "status": "completed"
    },
    "tags": []
   },
   "outputs": [],
   "source": [
    "unique_chars = sorted(set(''.join(y_train)))\n",
    "char_to_int = {char: i for i, char in enumerate(unique_chars)}\n",
    "int_to_char = {i: char for char, i in char_to_int.items()}"
   ]
  },
  {
   "cell_type": "markdown",
   "id": "93e28ef7",
   "metadata": {
    "papermill": {
     "duration": 0.032628,
     "end_time": "2024-10-23T22:48:08.508353",
     "exception": false,
     "start_time": "2024-10-23T22:48:08.475725",
     "status": "completed"
    },
    "tags": []
   },
   "source": [
    "# Convert labels to numerical format"
   ]
  },
  {
   "cell_type": "code",
   "execution_count": 12,
   "id": "c501b1fb",
   "metadata": {
    "execution": {
     "iopub.execute_input": "2024-10-23T22:48:08.572322Z",
     "iopub.status.busy": "2024-10-23T22:48:08.571903Z",
     "iopub.status.idle": "2024-10-23T22:48:08.576658Z",
     "shell.execute_reply": "2024-10-23T22:48:08.575719Z"
    },
    "papermill": {
     "duration": 0.039027,
     "end_time": "2024-10-23T22:48:08.578813",
     "exception": false,
     "start_time": "2024-10-23T22:48:08.539786",
     "status": "completed"
    },
    "tags": []
   },
   "outputs": [],
   "source": [
    "label_length = len(y_train[0])\n",
    "num_classes_per_char = len(unique_chars)"
   ]
  },
  {
   "cell_type": "markdown",
   "id": "e298f19c",
   "metadata": {
    "papermill": {
     "duration": 0.030116,
     "end_time": "2024-10-23T22:48:08.640463",
     "exception": false,
     "start_time": "2024-10-23T22:48:08.610347",
     "status": "completed"
    },
    "tags": []
   },
   "source": [
    "# Create separate one-hot encodings for each character position"
   ]
  },
  {
   "cell_type": "code",
   "execution_count": 13,
   "id": "92704425",
   "metadata": {
    "execution": {
     "iopub.execute_input": "2024-10-23T22:48:08.708073Z",
     "iopub.status.busy": "2024-10-23T22:48:08.707666Z",
     "iopub.status.idle": "2024-10-23T22:48:08.717129Z",
     "shell.execute_reply": "2024-10-23T22:48:08.716295Z"
    },
    "papermill": {
     "duration": 0.045344,
     "end_time": "2024-10-23T22:48:08.719429",
     "exception": false,
     "start_time": "2024-10-23T22:48:08.674085",
     "status": "completed"
    },
    "tags": []
   },
   "outputs": [],
   "source": [
    "y_multi = []\n",
    "for i in range(label_length):\n",
    "    char_labels = [char_to_int[label[i]] for label in y_train]\n",
    "    y_multi.append(to_categorical(char_labels, num_classes=num_classes_per_char))"
   ]
  },
  {
   "cell_type": "markdown",
   "id": "ed84a3bb",
   "metadata": {
    "papermill": {
     "duration": 0.031284,
     "end_time": "2024-10-23T22:48:08.782475",
     "exception": false,
     "start_time": "2024-10-23T22:48:08.751191",
     "status": "completed"
    },
    "tags": []
   },
   "source": [
    "# Reshape images for the model"
   ]
  },
  {
   "cell_type": "code",
   "execution_count": 14,
   "id": "0eeeb837",
   "metadata": {
    "execution": {
     "iopub.execute_input": "2024-10-23T22:48:08.847864Z",
     "iopub.status.busy": "2024-10-23T22:48:08.847427Z",
     "iopub.status.idle": "2024-10-23T22:48:08.852656Z",
     "shell.execute_reply": "2024-10-23T22:48:08.851524Z"
    },
    "papermill": {
     "duration": 0.040887,
     "end_time": "2024-10-23T22:48:08.855031",
     "exception": false,
     "start_time": "2024-10-23T22:48:08.814144",
     "status": "completed"
    },
    "tags": []
   },
   "outputs": [],
   "source": [
    "X_train = np.expand_dims(X_train, axis=-1)\n",
    "X_test = np.expand_dims(X_test, axis=-1)"
   ]
  },
  {
   "cell_type": "markdown",
   "id": "f36a694f",
   "metadata": {
    "papermill": {
     "duration": 0.031755,
     "end_time": "2024-10-23T22:48:08.919240",
     "exception": false,
     "start_time": "2024-10-23T22:48:08.887485",
     "status": "completed"
    },
    "tags": []
   },
   "source": [
    "# Split the data\n"
   ]
  },
  {
   "cell_type": "code",
   "execution_count": 15,
   "id": "3ef538bc",
   "metadata": {
    "execution": {
     "iopub.execute_input": "2024-10-23T22:48:08.985945Z",
     "iopub.status.busy": "2024-10-23T22:48:08.985522Z",
     "iopub.status.idle": "2024-10-23T22:48:09.006312Z",
     "shell.execute_reply": "2024-10-23T22:48:09.005277Z"
    },
    "papermill": {
     "duration": 0.057351,
     "end_time": "2024-10-23T22:48:09.008959",
     "exception": false,
     "start_time": "2024-10-23T22:48:08.951608",
     "status": "completed"
    },
    "tags": []
   },
   "outputs": [],
   "source": [
    "X_train_split, X_val = train_test_split(X_train, test_size=0.2, random_state=42)"
   ]
  },
  {
   "cell_type": "code",
   "execution_count": 16,
   "id": "ae306754",
   "metadata": {
    "execution": {
     "iopub.execute_input": "2024-10-23T22:48:09.080115Z",
     "iopub.status.busy": "2024-10-23T22:48:09.079098Z",
     "iopub.status.idle": "2024-10-23T22:48:09.089637Z",
     "shell.execute_reply": "2024-10-23T22:48:09.088756Z"
    },
    "papermill": {
     "duration": 0.047646,
     "end_time": "2024-10-23T22:48:09.091822",
     "exception": false,
     "start_time": "2024-10-23T22:48:09.044176",
     "status": "completed"
    },
    "tags": []
   },
   "outputs": [],
   "source": [
    "y_train_multi = []\n",
    "y_val_multi = []\n",
    "for y_pos in y_multi:\n",
    "    y_train, y_val = train_test_split(y_pos, test_size=0.2, random_state=42)\n",
    "    y_train_multi.append(y_train)\n",
    "    y_val_multi.append(y_val)"
   ]
  },
  {
   "cell_type": "markdown",
   "id": "45b4550b",
   "metadata": {
    "papermill": {
     "duration": 0.031695,
     "end_time": "2024-10-23T22:48:09.156014",
     "exception": false,
     "start_time": "2024-10-23T22:48:09.124319",
     "status": "completed"
    },
    "tags": []
   },
   "source": [
    "# Create model with regularization"
   ]
  },
  {
   "cell_type": "code",
   "execution_count": 17,
   "id": "c94dcab9",
   "metadata": {
    "execution": {
     "iopub.execute_input": "2024-10-23T22:48:09.223057Z",
     "iopub.status.busy": "2024-10-23T22:48:09.222351Z",
     "iopub.status.idle": "2024-10-23T22:48:10.686677Z",
     "shell.execute_reply": "2024-10-23T22:48:10.685565Z"
    },
    "papermill": {
     "duration": 1.500737,
     "end_time": "2024-10-23T22:48:10.689368",
     "exception": false,
     "start_time": "2024-10-23T22:48:09.188631",
     "status": "completed"
    },
    "tags": []
   },
   "outputs": [
    {
     "data": {
      "text/html": [
       "<pre style=\"white-space:pre;overflow-x:auto;line-height:normal;font-family:Menlo,'DejaVu Sans Mono',consolas,'Courier New',monospace\"><span style=\"font-weight: bold\">Model: \"functional_1\"</span>\n",
       "</pre>\n"
      ],
      "text/plain": [
       "\u001b[1mModel: \"functional_1\"\u001b[0m\n"
      ]
     },
     "metadata": {},
     "output_type": "display_data"
    },
    {
     "data": {
      "text/html": [
       "<pre style=\"white-space:pre;overflow-x:auto;line-height:normal;font-family:Menlo,'DejaVu Sans Mono',consolas,'Courier New',monospace\">┏━━━━━━━━━━━━━━━━━━━━━┳━━━━━━━━━━━━━━━━━━━┳━━━━━━━━━━━━┳━━━━━━━━━━━━━━━━━━━┓\n",
       "┃<span style=\"font-weight: bold\"> Layer (type)        </span>┃<span style=\"font-weight: bold\"> Output Shape      </span>┃<span style=\"font-weight: bold\">    Param # </span>┃<span style=\"font-weight: bold\"> Connected to      </span>┃\n",
       "┡━━━━━━━━━━━━━━━━━━━━━╇━━━━━━━━━━━━━━━━━━━╇━━━━━━━━━━━━╇━━━━━━━━━━━━━━━━━━━┩\n",
       "│ input_layer         │ (<span style=\"color: #00d7ff; text-decoration-color: #00d7ff\">None</span>, <span style=\"color: #00af00; text-decoration-color: #00af00\">80</span>, <span style=\"color: #00af00; text-decoration-color: #00af00\">160</span>,   │          <span style=\"color: #00af00; text-decoration-color: #00af00\">0</span> │ -                 │\n",
       "│ (<span style=\"color: #0087ff; text-decoration-color: #0087ff\">InputLayer</span>)        │ <span style=\"color: #00af00; text-decoration-color: #00af00\">1</span>)                │            │                   │\n",
       "├─────────────────────┼───────────────────┼────────────┼───────────────────┤\n",
       "│ conv2d (<span style=\"color: #0087ff; text-decoration-color: #0087ff\">Conv2D</span>)     │ (<span style=\"color: #00d7ff; text-decoration-color: #00d7ff\">None</span>, <span style=\"color: #00af00; text-decoration-color: #00af00\">80</span>, <span style=\"color: #00af00; text-decoration-color: #00af00\">160</span>,   │        <span style=\"color: #00af00; text-decoration-color: #00af00\">320</span> │ input_layer[<span style=\"color: #00af00; text-decoration-color: #00af00\">0</span>][<span style=\"color: #00af00; text-decoration-color: #00af00\">0</span>] │\n",
       "│                     │ <span style=\"color: #00af00; text-decoration-color: #00af00\">32</span>)               │            │                   │\n",
       "├─────────────────────┼───────────────────┼────────────┼───────────────────┤\n",
       "│ batch_normalization │ (<span style=\"color: #00d7ff; text-decoration-color: #00d7ff\">None</span>, <span style=\"color: #00af00; text-decoration-color: #00af00\">80</span>, <span style=\"color: #00af00; text-decoration-color: #00af00\">160</span>,   │        <span style=\"color: #00af00; text-decoration-color: #00af00\">128</span> │ conv2d[<span style=\"color: #00af00; text-decoration-color: #00af00\">0</span>][<span style=\"color: #00af00; text-decoration-color: #00af00\">0</span>]      │\n",
       "│ (<span style=\"color: #0087ff; text-decoration-color: #0087ff\">BatchNormalizatio…</span> │ <span style=\"color: #00af00; text-decoration-color: #00af00\">32</span>)               │            │                   │\n",
       "├─────────────────────┼───────────────────┼────────────┼───────────────────┤\n",
       "│ conv2d_1 (<span style=\"color: #0087ff; text-decoration-color: #0087ff\">Conv2D</span>)   │ (<span style=\"color: #00d7ff; text-decoration-color: #00d7ff\">None</span>, <span style=\"color: #00af00; text-decoration-color: #00af00\">80</span>, <span style=\"color: #00af00; text-decoration-color: #00af00\">160</span>,   │      <span style=\"color: #00af00; text-decoration-color: #00af00\">9,248</span> │ batch_normalizat… │\n",
       "│                     │ <span style=\"color: #00af00; text-decoration-color: #00af00\">32</span>)               │            │                   │\n",
       "├─────────────────────┼───────────────────┼────────────┼───────────────────┤\n",
       "│ batch_normalizatio… │ (<span style=\"color: #00d7ff; text-decoration-color: #00d7ff\">None</span>, <span style=\"color: #00af00; text-decoration-color: #00af00\">80</span>, <span style=\"color: #00af00; text-decoration-color: #00af00\">160</span>,   │        <span style=\"color: #00af00; text-decoration-color: #00af00\">128</span> │ conv2d_1[<span style=\"color: #00af00; text-decoration-color: #00af00\">0</span>][<span style=\"color: #00af00; text-decoration-color: #00af00\">0</span>]    │\n",
       "│ (<span style=\"color: #0087ff; text-decoration-color: #0087ff\">BatchNormalizatio…</span> │ <span style=\"color: #00af00; text-decoration-color: #00af00\">32</span>)               │            │                   │\n",
       "├─────────────────────┼───────────────────┼────────────┼───────────────────┤\n",
       "│ max_pooling2d       │ (<span style=\"color: #00d7ff; text-decoration-color: #00d7ff\">None</span>, <span style=\"color: #00af00; text-decoration-color: #00af00\">40</span>, <span style=\"color: #00af00; text-decoration-color: #00af00\">80</span>,    │          <span style=\"color: #00af00; text-decoration-color: #00af00\">0</span> │ batch_normalizat… │\n",
       "│ (<span style=\"color: #0087ff; text-decoration-color: #0087ff\">MaxPooling2D</span>)      │ <span style=\"color: #00af00; text-decoration-color: #00af00\">32</span>)               │            │                   │\n",
       "├─────────────────────┼───────────────────┼────────────┼───────────────────┤\n",
       "│ spatial_dropout2d   │ (<span style=\"color: #00d7ff; text-decoration-color: #00d7ff\">None</span>, <span style=\"color: #00af00; text-decoration-color: #00af00\">40</span>, <span style=\"color: #00af00; text-decoration-color: #00af00\">80</span>,    │          <span style=\"color: #00af00; text-decoration-color: #00af00\">0</span> │ max_pooling2d[<span style=\"color: #00af00; text-decoration-color: #00af00\">0</span>]… │\n",
       "│ (<span style=\"color: #0087ff; text-decoration-color: #0087ff\">SpatialDropout2D</span>)  │ <span style=\"color: #00af00; text-decoration-color: #00af00\">32</span>)               │            │                   │\n",
       "├─────────────────────┼───────────────────┼────────────┼───────────────────┤\n",
       "│ conv2d_2 (<span style=\"color: #0087ff; text-decoration-color: #0087ff\">Conv2D</span>)   │ (<span style=\"color: #00d7ff; text-decoration-color: #00d7ff\">None</span>, <span style=\"color: #00af00; text-decoration-color: #00af00\">40</span>, <span style=\"color: #00af00; text-decoration-color: #00af00\">80</span>,    │     <span style=\"color: #00af00; text-decoration-color: #00af00\">18,496</span> │ spatial_dropout2… │\n",
       "│                     │ <span style=\"color: #00af00; text-decoration-color: #00af00\">64</span>)               │            │                   │\n",
       "├─────────────────────┼───────────────────┼────────────┼───────────────────┤\n",
       "│ batch_normalizatio… │ (<span style=\"color: #00d7ff; text-decoration-color: #00d7ff\">None</span>, <span style=\"color: #00af00; text-decoration-color: #00af00\">40</span>, <span style=\"color: #00af00; text-decoration-color: #00af00\">80</span>,    │        <span style=\"color: #00af00; text-decoration-color: #00af00\">256</span> │ conv2d_2[<span style=\"color: #00af00; text-decoration-color: #00af00\">0</span>][<span style=\"color: #00af00; text-decoration-color: #00af00\">0</span>]    │\n",
       "│ (<span style=\"color: #0087ff; text-decoration-color: #0087ff\">BatchNormalizatio…</span> │ <span style=\"color: #00af00; text-decoration-color: #00af00\">64</span>)               │            │                   │\n",
       "├─────────────────────┼───────────────────┼────────────┼───────────────────┤\n",
       "│ conv2d_3 (<span style=\"color: #0087ff; text-decoration-color: #0087ff\">Conv2D</span>)   │ (<span style=\"color: #00d7ff; text-decoration-color: #00d7ff\">None</span>, <span style=\"color: #00af00; text-decoration-color: #00af00\">40</span>, <span style=\"color: #00af00; text-decoration-color: #00af00\">80</span>,    │     <span style=\"color: #00af00; text-decoration-color: #00af00\">36,928</span> │ batch_normalizat… │\n",
       "│                     │ <span style=\"color: #00af00; text-decoration-color: #00af00\">64</span>)               │            │                   │\n",
       "├─────────────────────┼───────────────────┼────────────┼───────────────────┤\n",
       "│ batch_normalizatio… │ (<span style=\"color: #00d7ff; text-decoration-color: #00d7ff\">None</span>, <span style=\"color: #00af00; text-decoration-color: #00af00\">40</span>, <span style=\"color: #00af00; text-decoration-color: #00af00\">80</span>,    │        <span style=\"color: #00af00; text-decoration-color: #00af00\">256</span> │ conv2d_3[<span style=\"color: #00af00; text-decoration-color: #00af00\">0</span>][<span style=\"color: #00af00; text-decoration-color: #00af00\">0</span>]    │\n",
       "│ (<span style=\"color: #0087ff; text-decoration-color: #0087ff\">BatchNormalizatio…</span> │ <span style=\"color: #00af00; text-decoration-color: #00af00\">64</span>)               │            │                   │\n",
       "├─────────────────────┼───────────────────┼────────────┼───────────────────┤\n",
       "│ max_pooling2d_1     │ (<span style=\"color: #00d7ff; text-decoration-color: #00d7ff\">None</span>, <span style=\"color: #00af00; text-decoration-color: #00af00\">20</span>, <span style=\"color: #00af00; text-decoration-color: #00af00\">40</span>,    │          <span style=\"color: #00af00; text-decoration-color: #00af00\">0</span> │ batch_normalizat… │\n",
       "│ (<span style=\"color: #0087ff; text-decoration-color: #0087ff\">MaxPooling2D</span>)      │ <span style=\"color: #00af00; text-decoration-color: #00af00\">64</span>)               │            │                   │\n",
       "├─────────────────────┼───────────────────┼────────────┼───────────────────┤\n",
       "│ spatial_dropout2d_1 │ (<span style=\"color: #00d7ff; text-decoration-color: #00d7ff\">None</span>, <span style=\"color: #00af00; text-decoration-color: #00af00\">20</span>, <span style=\"color: #00af00; text-decoration-color: #00af00\">40</span>,    │          <span style=\"color: #00af00; text-decoration-color: #00af00\">0</span> │ max_pooling2d_1[<span style=\"color: #00af00; text-decoration-color: #00af00\">…</span> │\n",
       "│ (<span style=\"color: #0087ff; text-decoration-color: #0087ff\">SpatialDropout2D</span>)  │ <span style=\"color: #00af00; text-decoration-color: #00af00\">64</span>)               │            │                   │\n",
       "├─────────────────────┼───────────────────┼────────────┼───────────────────┤\n",
       "│ conv2d_4 (<span style=\"color: #0087ff; text-decoration-color: #0087ff\">Conv2D</span>)   │ (<span style=\"color: #00d7ff; text-decoration-color: #00d7ff\">None</span>, <span style=\"color: #00af00; text-decoration-color: #00af00\">20</span>, <span style=\"color: #00af00; text-decoration-color: #00af00\">40</span>,    │     <span style=\"color: #00af00; text-decoration-color: #00af00\">73,856</span> │ spatial_dropout2… │\n",
       "│                     │ <span style=\"color: #00af00; text-decoration-color: #00af00\">128</span>)              │            │                   │\n",
       "├─────────────────────┼───────────────────┼────────────┼───────────────────┤\n",
       "│ batch_normalizatio… │ (<span style=\"color: #00d7ff; text-decoration-color: #00d7ff\">None</span>, <span style=\"color: #00af00; text-decoration-color: #00af00\">20</span>, <span style=\"color: #00af00; text-decoration-color: #00af00\">40</span>,    │        <span style=\"color: #00af00; text-decoration-color: #00af00\">512</span> │ conv2d_4[<span style=\"color: #00af00; text-decoration-color: #00af00\">0</span>][<span style=\"color: #00af00; text-decoration-color: #00af00\">0</span>]    │\n",
       "│ (<span style=\"color: #0087ff; text-decoration-color: #0087ff\">BatchNormalizatio…</span> │ <span style=\"color: #00af00; text-decoration-color: #00af00\">128</span>)              │            │                   │\n",
       "├─────────────────────┼───────────────────┼────────────┼───────────────────┤\n",
       "│ conv2d_5 (<span style=\"color: #0087ff; text-decoration-color: #0087ff\">Conv2D</span>)   │ (<span style=\"color: #00d7ff; text-decoration-color: #00d7ff\">None</span>, <span style=\"color: #00af00; text-decoration-color: #00af00\">20</span>, <span style=\"color: #00af00; text-decoration-color: #00af00\">40</span>,    │    <span style=\"color: #00af00; text-decoration-color: #00af00\">147,584</span> │ batch_normalizat… │\n",
       "│                     │ <span style=\"color: #00af00; text-decoration-color: #00af00\">128</span>)              │            │                   │\n",
       "├─────────────────────┼───────────────────┼────────────┼───────────────────┤\n",
       "│ batch_normalizatio… │ (<span style=\"color: #00d7ff; text-decoration-color: #00d7ff\">None</span>, <span style=\"color: #00af00; text-decoration-color: #00af00\">20</span>, <span style=\"color: #00af00; text-decoration-color: #00af00\">40</span>,    │        <span style=\"color: #00af00; text-decoration-color: #00af00\">512</span> │ conv2d_5[<span style=\"color: #00af00; text-decoration-color: #00af00\">0</span>][<span style=\"color: #00af00; text-decoration-color: #00af00\">0</span>]    │\n",
       "│ (<span style=\"color: #0087ff; text-decoration-color: #0087ff\">BatchNormalizatio…</span> │ <span style=\"color: #00af00; text-decoration-color: #00af00\">128</span>)              │            │                   │\n",
       "├─────────────────────┼───────────────────┼────────────┼───────────────────┤\n",
       "│ max_pooling2d_2     │ (<span style=\"color: #00d7ff; text-decoration-color: #00d7ff\">None</span>, <span style=\"color: #00af00; text-decoration-color: #00af00\">10</span>, <span style=\"color: #00af00; text-decoration-color: #00af00\">20</span>,    │          <span style=\"color: #00af00; text-decoration-color: #00af00\">0</span> │ batch_normalizat… │\n",
       "│ (<span style=\"color: #0087ff; text-decoration-color: #0087ff\">MaxPooling2D</span>)      │ <span style=\"color: #00af00; text-decoration-color: #00af00\">128</span>)              │            │                   │\n",
       "├─────────────────────┼───────────────────┼────────────┼───────────────────┤\n",
       "│ spatial_dropout2d_2 │ (<span style=\"color: #00d7ff; text-decoration-color: #00d7ff\">None</span>, <span style=\"color: #00af00; text-decoration-color: #00af00\">10</span>, <span style=\"color: #00af00; text-decoration-color: #00af00\">20</span>,    │          <span style=\"color: #00af00; text-decoration-color: #00af00\">0</span> │ max_pooling2d_2[<span style=\"color: #00af00; text-decoration-color: #00af00\">…</span> │\n",
       "│ (<span style=\"color: #0087ff; text-decoration-color: #0087ff\">SpatialDropout2D</span>)  │ <span style=\"color: #00af00; text-decoration-color: #00af00\">128</span>)              │            │                   │\n",
       "├─────────────────────┼───────────────────┼────────────┼───────────────────┤\n",
       "│ flatten (<span style=\"color: #0087ff; text-decoration-color: #0087ff\">Flatten</span>)   │ (<span style=\"color: #00d7ff; text-decoration-color: #00d7ff\">None</span>, <span style=\"color: #00af00; text-decoration-color: #00af00\">25600</span>)     │          <span style=\"color: #00af00; text-decoration-color: #00af00\">0</span> │ spatial_dropout2… │\n",
       "├─────────────────────┼───────────────────┼────────────┼───────────────────┤\n",
       "│ dense (<span style=\"color: #0087ff; text-decoration-color: #0087ff\">Dense</span>)       │ (<span style=\"color: #00d7ff; text-decoration-color: #00d7ff\">None</span>, <span style=\"color: #00af00; text-decoration-color: #00af00\">256</span>)       │  <span style=\"color: #00af00; text-decoration-color: #00af00\">6,553,856</span> │ flatten[<span style=\"color: #00af00; text-decoration-color: #00af00\">0</span>][<span style=\"color: #00af00; text-decoration-color: #00af00\">0</span>]     │\n",
       "├─────────────────────┼───────────────────┼────────────┼───────────────────┤\n",
       "│ batch_normalizatio… │ (<span style=\"color: #00d7ff; text-decoration-color: #00d7ff\">None</span>, <span style=\"color: #00af00; text-decoration-color: #00af00\">256</span>)       │      <span style=\"color: #00af00; text-decoration-color: #00af00\">1,024</span> │ dense[<span style=\"color: #00af00; text-decoration-color: #00af00\">0</span>][<span style=\"color: #00af00; text-decoration-color: #00af00\">0</span>]       │\n",
       "│ (<span style=\"color: #0087ff; text-decoration-color: #0087ff\">BatchNormalizatio…</span> │                   │            │                   │\n",
       "├─────────────────────┼───────────────────┼────────────┼───────────────────┤\n",
       "│ dropout (<span style=\"color: #0087ff; text-decoration-color: #0087ff\">Dropout</span>)   │ (<span style=\"color: #00d7ff; text-decoration-color: #00d7ff\">None</span>, <span style=\"color: #00af00; text-decoration-color: #00af00\">256</span>)       │          <span style=\"color: #00af00; text-decoration-color: #00af00\">0</span> │ batch_normalizat… │\n",
       "├─────────────────────┼───────────────────┼────────────┼───────────────────┤\n",
       "│ dense_1 (<span style=\"color: #0087ff; text-decoration-color: #0087ff\">Dense</span>)     │ (<span style=\"color: #00d7ff; text-decoration-color: #00d7ff\">None</span>, <span style=\"color: #00af00; text-decoration-color: #00af00\">128</span>)       │     <span style=\"color: #00af00; text-decoration-color: #00af00\">32,896</span> │ dropout[<span style=\"color: #00af00; text-decoration-color: #00af00\">0</span>][<span style=\"color: #00af00; text-decoration-color: #00af00\">0</span>]     │\n",
       "├─────────────────────┼───────────────────┼────────────┼───────────────────┤\n",
       "│ batch_normalizatio… │ (<span style=\"color: #00d7ff; text-decoration-color: #00d7ff\">None</span>, <span style=\"color: #00af00; text-decoration-color: #00af00\">128</span>)       │        <span style=\"color: #00af00; text-decoration-color: #00af00\">512</span> │ dense_1[<span style=\"color: #00af00; text-decoration-color: #00af00\">0</span>][<span style=\"color: #00af00; text-decoration-color: #00af00\">0</span>]     │\n",
       "│ (<span style=\"color: #0087ff; text-decoration-color: #0087ff\">BatchNormalizatio…</span> │                   │            │                   │\n",
       "├─────────────────────┼───────────────────┼────────────┼───────────────────┤\n",
       "│ dropout_1 (<span style=\"color: #0087ff; text-decoration-color: #0087ff\">Dropout</span>) │ (<span style=\"color: #00d7ff; text-decoration-color: #00d7ff\">None</span>, <span style=\"color: #00af00; text-decoration-color: #00af00\">128</span>)       │          <span style=\"color: #00af00; text-decoration-color: #00af00\">0</span> │ batch_normalizat… │\n",
       "├─────────────────────┼───────────────────┼────────────┼───────────────────┤\n",
       "│ char_0 (<span style=\"color: #0087ff; text-decoration-color: #0087ff\">Dense</span>)      │ (<span style=\"color: #00d7ff; text-decoration-color: #00d7ff\">None</span>, <span style=\"color: #00af00; text-decoration-color: #00af00\">19</span>)        │      <span style=\"color: #00af00; text-decoration-color: #00af00\">2,451</span> │ dropout_1[<span style=\"color: #00af00; text-decoration-color: #00af00\">0</span>][<span style=\"color: #00af00; text-decoration-color: #00af00\">0</span>]   │\n",
       "├─────────────────────┼───────────────────┼────────────┼───────────────────┤\n",
       "│ char_1 (<span style=\"color: #0087ff; text-decoration-color: #0087ff\">Dense</span>)      │ (<span style=\"color: #00d7ff; text-decoration-color: #00d7ff\">None</span>, <span style=\"color: #00af00; text-decoration-color: #00af00\">19</span>)        │      <span style=\"color: #00af00; text-decoration-color: #00af00\">2,451</span> │ dropout_1[<span style=\"color: #00af00; text-decoration-color: #00af00\">0</span>][<span style=\"color: #00af00; text-decoration-color: #00af00\">0</span>]   │\n",
       "├─────────────────────┼───────────────────┼────────────┼───────────────────┤\n",
       "│ char_2 (<span style=\"color: #0087ff; text-decoration-color: #0087ff\">Dense</span>)      │ (<span style=\"color: #00d7ff; text-decoration-color: #00d7ff\">None</span>, <span style=\"color: #00af00; text-decoration-color: #00af00\">19</span>)        │      <span style=\"color: #00af00; text-decoration-color: #00af00\">2,451</span> │ dropout_1[<span style=\"color: #00af00; text-decoration-color: #00af00\">0</span>][<span style=\"color: #00af00; text-decoration-color: #00af00\">0</span>]   │\n",
       "├─────────────────────┼───────────────────┼────────────┼───────────────────┤\n",
       "│ char_3 (<span style=\"color: #0087ff; text-decoration-color: #0087ff\">Dense</span>)      │ (<span style=\"color: #00d7ff; text-decoration-color: #00d7ff\">None</span>, <span style=\"color: #00af00; text-decoration-color: #00af00\">19</span>)        │      <span style=\"color: #00af00; text-decoration-color: #00af00\">2,451</span> │ dropout_1[<span style=\"color: #00af00; text-decoration-color: #00af00\">0</span>][<span style=\"color: #00af00; text-decoration-color: #00af00\">0</span>]   │\n",
       "├─────────────────────┼───────────────────┼────────────┼───────────────────┤\n",
       "│ char_4 (<span style=\"color: #0087ff; text-decoration-color: #0087ff\">Dense</span>)      │ (<span style=\"color: #00d7ff; text-decoration-color: #00d7ff\">None</span>, <span style=\"color: #00af00; text-decoration-color: #00af00\">19</span>)        │      <span style=\"color: #00af00; text-decoration-color: #00af00\">2,451</span> │ dropout_1[<span style=\"color: #00af00; text-decoration-color: #00af00\">0</span>][<span style=\"color: #00af00; text-decoration-color: #00af00\">0</span>]   │\n",
       "└─────────────────────┴───────────────────┴────────────┴───────────────────┘\n",
       "</pre>\n"
      ],
      "text/plain": [
       "┏━━━━━━━━━━━━━━━━━━━━━┳━━━━━━━━━━━━━━━━━━━┳━━━━━━━━━━━━┳━━━━━━━━━━━━━━━━━━━┓\n",
       "┃\u001b[1m \u001b[0m\u001b[1mLayer (type)       \u001b[0m\u001b[1m \u001b[0m┃\u001b[1m \u001b[0m\u001b[1mOutput Shape     \u001b[0m\u001b[1m \u001b[0m┃\u001b[1m \u001b[0m\u001b[1m   Param #\u001b[0m\u001b[1m \u001b[0m┃\u001b[1m \u001b[0m\u001b[1mConnected to     \u001b[0m\u001b[1m \u001b[0m┃\n",
       "┡━━━━━━━━━━━━━━━━━━━━━╇━━━━━━━━━━━━━━━━━━━╇━━━━━━━━━━━━╇━━━━━━━━━━━━━━━━━━━┩\n",
       "│ input_layer         │ (\u001b[38;5;45mNone\u001b[0m, \u001b[38;5;34m80\u001b[0m, \u001b[38;5;34m160\u001b[0m,   │          \u001b[38;5;34m0\u001b[0m │ -                 │\n",
       "│ (\u001b[38;5;33mInputLayer\u001b[0m)        │ \u001b[38;5;34m1\u001b[0m)                │            │                   │\n",
       "├─────────────────────┼───────────────────┼────────────┼───────────────────┤\n",
       "│ conv2d (\u001b[38;5;33mConv2D\u001b[0m)     │ (\u001b[38;5;45mNone\u001b[0m, \u001b[38;5;34m80\u001b[0m, \u001b[38;5;34m160\u001b[0m,   │        \u001b[38;5;34m320\u001b[0m │ input_layer[\u001b[38;5;34m0\u001b[0m][\u001b[38;5;34m0\u001b[0m] │\n",
       "│                     │ \u001b[38;5;34m32\u001b[0m)               │            │                   │\n",
       "├─────────────────────┼───────────────────┼────────────┼───────────────────┤\n",
       "│ batch_normalization │ (\u001b[38;5;45mNone\u001b[0m, \u001b[38;5;34m80\u001b[0m, \u001b[38;5;34m160\u001b[0m,   │        \u001b[38;5;34m128\u001b[0m │ conv2d[\u001b[38;5;34m0\u001b[0m][\u001b[38;5;34m0\u001b[0m]      │\n",
       "│ (\u001b[38;5;33mBatchNormalizatio…\u001b[0m │ \u001b[38;5;34m32\u001b[0m)               │            │                   │\n",
       "├─────────────────────┼───────────────────┼────────────┼───────────────────┤\n",
       "│ conv2d_1 (\u001b[38;5;33mConv2D\u001b[0m)   │ (\u001b[38;5;45mNone\u001b[0m, \u001b[38;5;34m80\u001b[0m, \u001b[38;5;34m160\u001b[0m,   │      \u001b[38;5;34m9,248\u001b[0m │ batch_normalizat… │\n",
       "│                     │ \u001b[38;5;34m32\u001b[0m)               │            │                   │\n",
       "├─────────────────────┼───────────────────┼────────────┼───────────────────┤\n",
       "│ batch_normalizatio… │ (\u001b[38;5;45mNone\u001b[0m, \u001b[38;5;34m80\u001b[0m, \u001b[38;5;34m160\u001b[0m,   │        \u001b[38;5;34m128\u001b[0m │ conv2d_1[\u001b[38;5;34m0\u001b[0m][\u001b[38;5;34m0\u001b[0m]    │\n",
       "│ (\u001b[38;5;33mBatchNormalizatio…\u001b[0m │ \u001b[38;5;34m32\u001b[0m)               │            │                   │\n",
       "├─────────────────────┼───────────────────┼────────────┼───────────────────┤\n",
       "│ max_pooling2d       │ (\u001b[38;5;45mNone\u001b[0m, \u001b[38;5;34m40\u001b[0m, \u001b[38;5;34m80\u001b[0m,    │          \u001b[38;5;34m0\u001b[0m │ batch_normalizat… │\n",
       "│ (\u001b[38;5;33mMaxPooling2D\u001b[0m)      │ \u001b[38;5;34m32\u001b[0m)               │            │                   │\n",
       "├─────────────────────┼───────────────────┼────────────┼───────────────────┤\n",
       "│ spatial_dropout2d   │ (\u001b[38;5;45mNone\u001b[0m, \u001b[38;5;34m40\u001b[0m, \u001b[38;5;34m80\u001b[0m,    │          \u001b[38;5;34m0\u001b[0m │ max_pooling2d[\u001b[38;5;34m0\u001b[0m]… │\n",
       "│ (\u001b[38;5;33mSpatialDropout2D\u001b[0m)  │ \u001b[38;5;34m32\u001b[0m)               │            │                   │\n",
       "├─────────────────────┼───────────────────┼────────────┼───────────────────┤\n",
       "│ conv2d_2 (\u001b[38;5;33mConv2D\u001b[0m)   │ (\u001b[38;5;45mNone\u001b[0m, \u001b[38;5;34m40\u001b[0m, \u001b[38;5;34m80\u001b[0m,    │     \u001b[38;5;34m18,496\u001b[0m │ spatial_dropout2… │\n",
       "│                     │ \u001b[38;5;34m64\u001b[0m)               │            │                   │\n",
       "├─────────────────────┼───────────────────┼────────────┼───────────────────┤\n",
       "│ batch_normalizatio… │ (\u001b[38;5;45mNone\u001b[0m, \u001b[38;5;34m40\u001b[0m, \u001b[38;5;34m80\u001b[0m,    │        \u001b[38;5;34m256\u001b[0m │ conv2d_2[\u001b[38;5;34m0\u001b[0m][\u001b[38;5;34m0\u001b[0m]    │\n",
       "│ (\u001b[38;5;33mBatchNormalizatio…\u001b[0m │ \u001b[38;5;34m64\u001b[0m)               │            │                   │\n",
       "├─────────────────────┼───────────────────┼────────────┼───────────────────┤\n",
       "│ conv2d_3 (\u001b[38;5;33mConv2D\u001b[0m)   │ (\u001b[38;5;45mNone\u001b[0m, \u001b[38;5;34m40\u001b[0m, \u001b[38;5;34m80\u001b[0m,    │     \u001b[38;5;34m36,928\u001b[0m │ batch_normalizat… │\n",
       "│                     │ \u001b[38;5;34m64\u001b[0m)               │            │                   │\n",
       "├─────────────────────┼───────────────────┼────────────┼───────────────────┤\n",
       "│ batch_normalizatio… │ (\u001b[38;5;45mNone\u001b[0m, \u001b[38;5;34m40\u001b[0m, \u001b[38;5;34m80\u001b[0m,    │        \u001b[38;5;34m256\u001b[0m │ conv2d_3[\u001b[38;5;34m0\u001b[0m][\u001b[38;5;34m0\u001b[0m]    │\n",
       "│ (\u001b[38;5;33mBatchNormalizatio…\u001b[0m │ \u001b[38;5;34m64\u001b[0m)               │            │                   │\n",
       "├─────────────────────┼───────────────────┼────────────┼───────────────────┤\n",
       "│ max_pooling2d_1     │ (\u001b[38;5;45mNone\u001b[0m, \u001b[38;5;34m20\u001b[0m, \u001b[38;5;34m40\u001b[0m,    │          \u001b[38;5;34m0\u001b[0m │ batch_normalizat… │\n",
       "│ (\u001b[38;5;33mMaxPooling2D\u001b[0m)      │ \u001b[38;5;34m64\u001b[0m)               │            │                   │\n",
       "├─────────────────────┼───────────────────┼────────────┼───────────────────┤\n",
       "│ spatial_dropout2d_1 │ (\u001b[38;5;45mNone\u001b[0m, \u001b[38;5;34m20\u001b[0m, \u001b[38;5;34m40\u001b[0m,    │          \u001b[38;5;34m0\u001b[0m │ max_pooling2d_1[\u001b[38;5;34m…\u001b[0m │\n",
       "│ (\u001b[38;5;33mSpatialDropout2D\u001b[0m)  │ \u001b[38;5;34m64\u001b[0m)               │            │                   │\n",
       "├─────────────────────┼───────────────────┼────────────┼───────────────────┤\n",
       "│ conv2d_4 (\u001b[38;5;33mConv2D\u001b[0m)   │ (\u001b[38;5;45mNone\u001b[0m, \u001b[38;5;34m20\u001b[0m, \u001b[38;5;34m40\u001b[0m,    │     \u001b[38;5;34m73,856\u001b[0m │ spatial_dropout2… │\n",
       "│                     │ \u001b[38;5;34m128\u001b[0m)              │            │                   │\n",
       "├─────────────────────┼───────────────────┼────────────┼───────────────────┤\n",
       "│ batch_normalizatio… │ (\u001b[38;5;45mNone\u001b[0m, \u001b[38;5;34m20\u001b[0m, \u001b[38;5;34m40\u001b[0m,    │        \u001b[38;5;34m512\u001b[0m │ conv2d_4[\u001b[38;5;34m0\u001b[0m][\u001b[38;5;34m0\u001b[0m]    │\n",
       "│ (\u001b[38;5;33mBatchNormalizatio…\u001b[0m │ \u001b[38;5;34m128\u001b[0m)              │            │                   │\n",
       "├─────────────────────┼───────────────────┼────────────┼───────────────────┤\n",
       "│ conv2d_5 (\u001b[38;5;33mConv2D\u001b[0m)   │ (\u001b[38;5;45mNone\u001b[0m, \u001b[38;5;34m20\u001b[0m, \u001b[38;5;34m40\u001b[0m,    │    \u001b[38;5;34m147,584\u001b[0m │ batch_normalizat… │\n",
       "│                     │ \u001b[38;5;34m128\u001b[0m)              │            │                   │\n",
       "├─────────────────────┼───────────────────┼────────────┼───────────────────┤\n",
       "│ batch_normalizatio… │ (\u001b[38;5;45mNone\u001b[0m, \u001b[38;5;34m20\u001b[0m, \u001b[38;5;34m40\u001b[0m,    │        \u001b[38;5;34m512\u001b[0m │ conv2d_5[\u001b[38;5;34m0\u001b[0m][\u001b[38;5;34m0\u001b[0m]    │\n",
       "│ (\u001b[38;5;33mBatchNormalizatio…\u001b[0m │ \u001b[38;5;34m128\u001b[0m)              │            │                   │\n",
       "├─────────────────────┼───────────────────┼────────────┼───────────────────┤\n",
       "│ max_pooling2d_2     │ (\u001b[38;5;45mNone\u001b[0m, \u001b[38;5;34m10\u001b[0m, \u001b[38;5;34m20\u001b[0m,    │          \u001b[38;5;34m0\u001b[0m │ batch_normalizat… │\n",
       "│ (\u001b[38;5;33mMaxPooling2D\u001b[0m)      │ \u001b[38;5;34m128\u001b[0m)              │            │                   │\n",
       "├─────────────────────┼───────────────────┼────────────┼───────────────────┤\n",
       "│ spatial_dropout2d_2 │ (\u001b[38;5;45mNone\u001b[0m, \u001b[38;5;34m10\u001b[0m, \u001b[38;5;34m20\u001b[0m,    │          \u001b[38;5;34m0\u001b[0m │ max_pooling2d_2[\u001b[38;5;34m…\u001b[0m │\n",
       "│ (\u001b[38;5;33mSpatialDropout2D\u001b[0m)  │ \u001b[38;5;34m128\u001b[0m)              │            │                   │\n",
       "├─────────────────────┼───────────────────┼────────────┼───────────────────┤\n",
       "│ flatten (\u001b[38;5;33mFlatten\u001b[0m)   │ (\u001b[38;5;45mNone\u001b[0m, \u001b[38;5;34m25600\u001b[0m)     │          \u001b[38;5;34m0\u001b[0m │ spatial_dropout2… │\n",
       "├─────────────────────┼───────────────────┼────────────┼───────────────────┤\n",
       "│ dense (\u001b[38;5;33mDense\u001b[0m)       │ (\u001b[38;5;45mNone\u001b[0m, \u001b[38;5;34m256\u001b[0m)       │  \u001b[38;5;34m6,553,856\u001b[0m │ flatten[\u001b[38;5;34m0\u001b[0m][\u001b[38;5;34m0\u001b[0m]     │\n",
       "├─────────────────────┼───────────────────┼────────────┼───────────────────┤\n",
       "│ batch_normalizatio… │ (\u001b[38;5;45mNone\u001b[0m, \u001b[38;5;34m256\u001b[0m)       │      \u001b[38;5;34m1,024\u001b[0m │ dense[\u001b[38;5;34m0\u001b[0m][\u001b[38;5;34m0\u001b[0m]       │\n",
       "│ (\u001b[38;5;33mBatchNormalizatio…\u001b[0m │                   │            │                   │\n",
       "├─────────────────────┼───────────────────┼────────────┼───────────────────┤\n",
       "│ dropout (\u001b[38;5;33mDropout\u001b[0m)   │ (\u001b[38;5;45mNone\u001b[0m, \u001b[38;5;34m256\u001b[0m)       │          \u001b[38;5;34m0\u001b[0m │ batch_normalizat… │\n",
       "├─────────────────────┼───────────────────┼────────────┼───────────────────┤\n",
       "│ dense_1 (\u001b[38;5;33mDense\u001b[0m)     │ (\u001b[38;5;45mNone\u001b[0m, \u001b[38;5;34m128\u001b[0m)       │     \u001b[38;5;34m32,896\u001b[0m │ dropout[\u001b[38;5;34m0\u001b[0m][\u001b[38;5;34m0\u001b[0m]     │\n",
       "├─────────────────────┼───────────────────┼────────────┼───────────────────┤\n",
       "│ batch_normalizatio… │ (\u001b[38;5;45mNone\u001b[0m, \u001b[38;5;34m128\u001b[0m)       │        \u001b[38;5;34m512\u001b[0m │ dense_1[\u001b[38;5;34m0\u001b[0m][\u001b[38;5;34m0\u001b[0m]     │\n",
       "│ (\u001b[38;5;33mBatchNormalizatio…\u001b[0m │                   │            │                   │\n",
       "├─────────────────────┼───────────────────┼────────────┼───────────────────┤\n",
       "│ dropout_1 (\u001b[38;5;33mDropout\u001b[0m) │ (\u001b[38;5;45mNone\u001b[0m, \u001b[38;5;34m128\u001b[0m)       │          \u001b[38;5;34m0\u001b[0m │ batch_normalizat… │\n",
       "├─────────────────────┼───────────────────┼────────────┼───────────────────┤\n",
       "│ char_0 (\u001b[38;5;33mDense\u001b[0m)      │ (\u001b[38;5;45mNone\u001b[0m, \u001b[38;5;34m19\u001b[0m)        │      \u001b[38;5;34m2,451\u001b[0m │ dropout_1[\u001b[38;5;34m0\u001b[0m][\u001b[38;5;34m0\u001b[0m]   │\n",
       "├─────────────────────┼───────────────────┼────────────┼───────────────────┤\n",
       "│ char_1 (\u001b[38;5;33mDense\u001b[0m)      │ (\u001b[38;5;45mNone\u001b[0m, \u001b[38;5;34m19\u001b[0m)        │      \u001b[38;5;34m2,451\u001b[0m │ dropout_1[\u001b[38;5;34m0\u001b[0m][\u001b[38;5;34m0\u001b[0m]   │\n",
       "├─────────────────────┼───────────────────┼────────────┼───────────────────┤\n",
       "│ char_2 (\u001b[38;5;33mDense\u001b[0m)      │ (\u001b[38;5;45mNone\u001b[0m, \u001b[38;5;34m19\u001b[0m)        │      \u001b[38;5;34m2,451\u001b[0m │ dropout_1[\u001b[38;5;34m0\u001b[0m][\u001b[38;5;34m0\u001b[0m]   │\n",
       "├─────────────────────┼───────────────────┼────────────┼───────────────────┤\n",
       "│ char_3 (\u001b[38;5;33mDense\u001b[0m)      │ (\u001b[38;5;45mNone\u001b[0m, \u001b[38;5;34m19\u001b[0m)        │      \u001b[38;5;34m2,451\u001b[0m │ dropout_1[\u001b[38;5;34m0\u001b[0m][\u001b[38;5;34m0\u001b[0m]   │\n",
       "├─────────────────────┼───────────────────┼────────────┼───────────────────┤\n",
       "│ char_4 (\u001b[38;5;33mDense\u001b[0m)      │ (\u001b[38;5;45mNone\u001b[0m, \u001b[38;5;34m19\u001b[0m)        │      \u001b[38;5;34m2,451\u001b[0m │ dropout_1[\u001b[38;5;34m0\u001b[0m][\u001b[38;5;34m0\u001b[0m]   │\n",
       "└─────────────────────┴───────────────────┴────────────┴───────────────────┘\n"
      ]
     },
     "metadata": {},
     "output_type": "display_data"
    },
    {
     "data": {
      "text/html": [
       "<pre style=\"white-space:pre;overflow-x:auto;line-height:normal;font-family:Menlo,'DejaVu Sans Mono',consolas,'Courier New',monospace\"><span style=\"font-weight: bold\"> Total params: </span><span style=\"color: #00af00; text-decoration-color: #00af00\">6,888,767</span> (26.28 MB)\n",
       "</pre>\n"
      ],
      "text/plain": [
       "\u001b[1m Total params: \u001b[0m\u001b[38;5;34m6,888,767\u001b[0m (26.28 MB)\n"
      ]
     },
     "metadata": {},
     "output_type": "display_data"
    },
    {
     "data": {
      "text/html": [
       "<pre style=\"white-space:pre;overflow-x:auto;line-height:normal;font-family:Menlo,'DejaVu Sans Mono',consolas,'Courier New',monospace\"><span style=\"font-weight: bold\"> Trainable params: </span><span style=\"color: #00af00; text-decoration-color: #00af00\">6,887,103</span> (26.27 MB)\n",
       "</pre>\n"
      ],
      "text/plain": [
       "\u001b[1m Trainable params: \u001b[0m\u001b[38;5;34m6,887,103\u001b[0m (26.27 MB)\n"
      ]
     },
     "metadata": {},
     "output_type": "display_data"
    },
    {
     "data": {
      "text/html": [
       "<pre style=\"white-space:pre;overflow-x:auto;line-height:normal;font-family:Menlo,'DejaVu Sans Mono',consolas,'Courier New',monospace\"><span style=\"font-weight: bold\"> Non-trainable params: </span><span style=\"color: #00af00; text-decoration-color: #00af00\">1,664</span> (6.50 KB)\n",
       "</pre>\n"
      ],
      "text/plain": [
       "\u001b[1m Non-trainable params: \u001b[0m\u001b[38;5;34m1,664\u001b[0m (6.50 KB)\n"
      ]
     },
     "metadata": {},
     "output_type": "display_data"
    }
   ],
   "source": [
    "input_layer = Input(shape=X_train_split.shape[1:])\n",
    "\n",
    "# Weight regularization constant\n",
    "reg = l2(0.01)\n",
    "\n",
    "# First block - initial feature extraction\n",
    "x = Conv2D(32, (3, 3), padding='same', activation='relu', kernel_regularizer=reg)(input_layer)\n",
    "x = BatchNormalization()(x)\n",
    "x = Conv2D(32, (3, 3), padding='same', activation='relu', kernel_regularizer=reg)(x)\n",
    "x = BatchNormalization()(x)\n",
    "x = MaxPooling2D((2, 2))(x)\n",
    "x = SpatialDropout2D(0.2)(x)\n",
    "\n",
    "# Second block - pattern recognition\n",
    "x = Conv2D(64, (3, 3), padding='same', activation='relu', kernel_regularizer=reg)(x)\n",
    "x = BatchNormalization()(x)\n",
    "x = Conv2D(64, (3, 3), padding='same', activation='relu', kernel_regularizer=reg)(x)\n",
    "x = BatchNormalization()(x)\n",
    "x = MaxPooling2D((2, 2))(x)\n",
    "x = SpatialDropout2D(0.2)(x)\n",
    "\n",
    "# Third block - high-level features\n",
    "x = Conv2D(128, (3, 3), padding='same', activation='relu', kernel_regularizer=reg)(x)\n",
    "x = BatchNormalization()(x)\n",
    "x = Conv2D(128, (3, 3), padding='same', activation='relu', kernel_regularizer=reg)(x)\n",
    "x = BatchNormalization()(x)\n",
    "x = MaxPooling2D((2, 2))(x)\n",
    "x = SpatialDropout2D(0.2)(x)\n",
    "\n",
    "# Dense layers\n",
    "x = Flatten()(x)\n",
    "x = Dense(256, activation='relu', kernel_regularizer=reg)(x)\n",
    "x = BatchNormalization()(x)\n",
    "x = Dropout(0.3)(x)\n",
    "x = Dense(128, activation='relu', kernel_regularizer=reg)(x)\n",
    "x = BatchNormalization()(x)\n",
    "x = Dropout(0.3)(x)\n",
    "\n",
    "# Separate output layers for each character\n",
    "outputs = []\n",
    "for i in range(label_length):\n",
    "    output = Dense(num_classes_per_char, activation='softmax', name=f'char_{i}')(x)\n",
    "    outputs.append(output)\n",
    "\n",
    "# Create and compile model\n",
    "model = Model(inputs=input_layer, outputs=outputs)\n",
    "\n",
    "# Print model summary\n",
    "model.summary()"
   ]
  },
  {
   "cell_type": "markdown",
   "id": "a29b77da",
   "metadata": {
    "papermill": {
     "duration": 0.033378,
     "end_time": "2024-10-23T22:48:10.757275",
     "exception": false,
     "start_time": "2024-10-23T22:48:10.723897",
     "status": "completed"
    },
    "tags": []
   },
   "source": [
    "# Data augmentation function\n"
   ]
  },
  {
   "cell_type": "code",
   "execution_count": 18,
   "id": "d9641014",
   "metadata": {
    "execution": {
     "iopub.execute_input": "2024-10-23T22:48:10.826536Z",
     "iopub.status.busy": "2024-10-23T22:48:10.825444Z",
     "iopub.status.idle": "2024-10-23T22:48:10.832888Z",
     "shell.execute_reply": "2024-10-23T22:48:10.831858Z"
    },
    "papermill": {
     "duration": 0.044997,
     "end_time": "2024-10-23T22:48:10.835645",
     "exception": false,
     "start_time": "2024-10-23T22:48:10.790648",
     "status": "completed"
    },
    "tags": []
   },
   "outputs": [],
   "source": [
    "def augment_image(img):\n",
    "    # Random rotation\n",
    "    angle = np.random.uniform(-10, 10)\n",
    "    h, w = img.shape[:2]\n",
    "    M = cv2.getRotationMatrix2D((w/2, h/2), angle, 1)\n",
    "    img = cv2.warpAffine(img, M, (w, h))\n",
    "    \n",
    "    # Random brightness adjustment\n",
    "    if np.random.random() > 0.5:\n",
    "        img = img * np.random.uniform(0.8, 1.2)\n",
    "        img = np.clip(img, 0, 1)\n",
    "    \n",
    "    return img"
   ]
  },
  {
   "cell_type": "code",
   "execution_count": 19,
   "id": "c3b8b0ab",
   "metadata": {
    "execution": {
     "iopub.execute_input": "2024-10-23T22:48:10.904949Z",
     "iopub.status.busy": "2024-10-23T22:48:10.904571Z",
     "iopub.status.idle": "2024-10-23T22:48:11.036898Z",
     "shell.execute_reply": "2024-10-23T22:48:11.035980Z"
    },
    "papermill": {
     "duration": 0.169903,
     "end_time": "2024-10-23T22:48:11.039506",
     "exception": false,
     "start_time": "2024-10-23T22:48:10.869603",
     "status": "completed"
    },
    "tags": []
   },
   "outputs": [],
   "source": [
    "# Prepare augmented training data\n",
    "X_train_aug = np.copy(X_train_split)\n",
    "for i in range(len(X_train_aug)):\n",
    "    X_train_aug[i, :, :, 0] = augment_image(X_train_aug[i, :, :, 0])"
   ]
  },
  {
   "cell_type": "code",
   "execution_count": 20,
   "id": "53a0063a",
   "metadata": {
    "execution": {
     "iopub.execute_input": "2024-10-23T22:48:11.107976Z",
     "iopub.status.busy": "2024-10-23T22:48:11.107568Z",
     "iopub.status.idle": "2024-10-23T22:48:11.138360Z",
     "shell.execute_reply": "2024-10-23T22:48:11.137503Z"
    },
    "papermill": {
     "duration": 0.067887,
     "end_time": "2024-10-23T22:48:11.140863",
     "exception": false,
     "start_time": "2024-10-23T22:48:11.072976",
     "status": "completed"
    },
    "tags": []
   },
   "outputs": [],
   "source": [
    "# Combine original and augmented data\n",
    "X_train_combined = np.concatenate([X_train_split, X_train_aug], axis=0)\n",
    "y_train_multi_combined = [np.concatenate([y_train, y_train], axis=0) for y_train in y_train_multi]"
   ]
  },
  {
   "cell_type": "code",
   "execution_count": 21,
   "id": "2e8eabb1",
   "metadata": {
    "execution": {
     "iopub.execute_input": "2024-10-23T22:48:11.209693Z",
     "iopub.status.busy": "2024-10-23T22:48:11.209284Z",
     "iopub.status.idle": "2024-10-23T22:48:11.224985Z",
     "shell.execute_reply": "2024-10-23T22:48:11.224051Z"
    },
    "papermill": {
     "duration": 0.052852,
     "end_time": "2024-10-23T22:48:11.227218",
     "exception": false,
     "start_time": "2024-10-23T22:48:11.174366",
     "status": "completed"
    },
    "tags": []
   },
   "outputs": [],
   "source": [
    "model.compile(\n",
    "    optimizer=Adam(learning_rate=0.001),  # Slightly higher learning rate\n",
    "    loss=['categorical_crossentropy'] * label_length,\n",
    "    metrics=['accuracy'] * label_length\n",
    ")"
   ]
  },
  {
   "cell_type": "markdown",
   "id": "58039312",
   "metadata": {
    "papermill": {
     "duration": 0.033589,
     "end_time": "2024-10-23T22:48:11.293970",
     "exception": false,
     "start_time": "2024-10-23T22:48:11.260381",
     "status": "completed"
    },
    "tags": []
   },
   "source": [
    "# Train the model\n"
   ]
  },
  {
   "cell_type": "code",
   "execution_count": 22,
   "id": "8e605e9a",
   "metadata": {
    "execution": {
     "iopub.execute_input": "2024-10-23T22:48:11.362447Z",
     "iopub.status.busy": "2024-10-23T22:48:11.362029Z",
     "iopub.status.idle": "2024-10-23T22:52:32.067015Z",
     "shell.execute_reply": "2024-10-23T22:52:32.065812Z"
    },
    "papermill": {
     "duration": 260.742906,
     "end_time": "2024-10-23T22:52:32.070337",
     "exception": false,
     "start_time": "2024-10-23T22:48:11.327431",
     "status": "completed"
    },
    "tags": []
   },
   "outputs": [
    {
     "name": "stdout",
     "output_type": "stream",
     "text": [
      "Epoch 1/100\n"
     ]
    },
    {
     "name": "stderr",
     "output_type": "stream",
     "text": [
      "WARNING: All log messages before absl::InitializeLog() is called are written to STDERR\n",
      "I0000 00:00:1729723700.186906     124 service.cc:145] XLA service 0x7d84a4029fa0 initialized for platform CUDA (this does not guarantee that XLA will be used). Devices:\n",
      "I0000 00:00:1729723700.186953     124 service.cc:153]   StreamExecutor device (0): Tesla T4, Compute Capability 7.5\n",
      "I0000 00:00:1729723700.186958     124 service.cc:153]   StreamExecutor device (1): Tesla T4, Compute Capability 7.5\n"
     ]
    },
    {
     "name": "stdout",
     "output_type": "stream",
     "text": [
      "\u001b[1m 3/43\u001b[0m \u001b[32m━\u001b[0m\u001b[37m━━━━━━━━━━━━━━━━━━━\u001b[0m \u001b[1m2s\u001b[0m 58ms/step - char_0_accuracy: 0.0434 - char_1_accuracy: 0.0469 - char_2_accuracy: 0.0347 - char_3_accuracy: 0.0104 - char_4_accuracy: 0.0903 - loss: 30.8040    "
     ]
    },
    {
     "name": "stderr",
     "output_type": "stream",
     "text": [
      "I0000 00:00:1729723721.062123     124 device_compiler.h:188] Compiled cluster using XLA!  This line is logged at most once for the lifetime of the process.\n"
     ]
    },
    {
     "name": "stdout",
     "output_type": "stream",
     "text": [
      "\u001b[1m43/43\u001b[0m \u001b[32m━━━━━━━━━━━━━━━━━━━━\u001b[0m\u001b[37m\u001b[0m \u001b[1m0s\u001b[0m 446ms/step - char_0_accuracy: 0.0599 - char_1_accuracy: 0.0658 - char_2_accuracy: 0.0653 - char_3_accuracy: 0.0434 - char_4_accuracy: 0.0744 - loss: 30.1444\n",
      "Epoch 1: val_loss improved from inf to 27.79198, saving model to best_captcha_model.keras\n",
      "\u001b[1m43/43\u001b[0m \u001b[32m━━━━━━━━━━━━━━━━━━━━\u001b[0m\u001b[37m\u001b[0m \u001b[1m53s\u001b[0m 554ms/step - char_0_accuracy: 0.0601 - char_1_accuracy: 0.0660 - char_2_accuracy: 0.0656 - char_3_accuracy: 0.0438 - char_4_accuracy: 0.0745 - loss: 30.1364 - val_char_0_accuracy: 0.0407 - val_char_1_accuracy: 0.0581 - val_char_2_accuracy: 0.0407 - val_char_3_accuracy: 0.0756 - val_char_4_accuracy: 0.0407 - val_loss: 27.7920 - learning_rate: 0.0010\n",
      "Epoch 2/100\n",
      "\u001b[1m43/43\u001b[0m \u001b[32m━━━━━━━━━━━━━━━━━━━━\u001b[0m\u001b[37m\u001b[0m \u001b[1m0s\u001b[0m 37ms/step - char_0_accuracy: 0.1296 - char_1_accuracy: 0.1722 - char_2_accuracy: 0.1123 - char_3_accuracy: 0.1205 - char_4_accuracy: 0.1370 - loss: 26.9009\n",
      "Epoch 2: val_loss did not improve from 27.79198\n",
      "\u001b[1m43/43\u001b[0m \u001b[32m━━━━━━━━━━━━━━━━━━━━\u001b[0m\u001b[37m\u001b[0m \u001b[1m2s\u001b[0m 39ms/step - char_0_accuracy: 0.1303 - char_1_accuracy: 0.1724 - char_2_accuracy: 0.1127 - char_3_accuracy: 0.1212 - char_4_accuracy: 0.1373 - loss: 26.8820 - val_char_0_accuracy: 0.0407 - val_char_1_accuracy: 0.0465 - val_char_2_accuracy: 0.0698 - val_char_3_accuracy: 0.0698 - val_char_4_accuracy: 0.0349 - val_loss: 28.5476 - learning_rate: 0.0010\n",
      "Epoch 3/100\n",
      "\u001b[1m43/43\u001b[0m \u001b[32m━━━━━━━━━━━━━━━━━━━━\u001b[0m\u001b[37m\u001b[0m \u001b[1m0s\u001b[0m 37ms/step - char_0_accuracy: 0.2888 - char_1_accuracy: 0.2684 - char_2_accuracy: 0.2702 - char_3_accuracy: 0.2803 - char_4_accuracy: 0.2588 - loss: 22.7915\n",
      "Epoch 3: val_loss improved from 27.79198 to 25.76148, saving model to best_captcha_model.keras\n",
      "\u001b[1m43/43\u001b[0m \u001b[32m━━━━━━━━━━━━━━━━━━━━\u001b[0m\u001b[37m\u001b[0m \u001b[1m2s\u001b[0m 50ms/step - char_0_accuracy: 0.2896 - char_1_accuracy: 0.2697 - char_2_accuracy: 0.2705 - char_3_accuracy: 0.2808 - char_4_accuracy: 0.2594 - loss: 22.7730 - val_char_0_accuracy: 0.0291 - val_char_1_accuracy: 0.0814 - val_char_2_accuracy: 0.0872 - val_char_3_accuracy: 0.0698 - val_char_4_accuracy: 0.0581 - val_loss: 25.7615 - learning_rate: 0.0010\n",
      "Epoch 4/100\n",
      "\u001b[1m43/43\u001b[0m \u001b[32m━━━━━━━━━━━━━━━━━━━━\u001b[0m\u001b[37m\u001b[0m \u001b[1m0s\u001b[0m 36ms/step - char_0_accuracy: 0.4730 - char_1_accuracy: 0.4695 - char_2_accuracy: 0.4153 - char_3_accuracy: 0.4012 - char_4_accuracy: 0.3642 - loss: 19.2890\n",
      "Epoch 4: val_loss improved from 25.76148 to 24.59546, saving model to best_captcha_model.keras\n",
      "\u001b[1m43/43\u001b[0m \u001b[32m━━━━━━━━━━━━━━━━━━━━\u001b[0m\u001b[37m\u001b[0m \u001b[1m2s\u001b[0m 49ms/step - char_0_accuracy: 0.4732 - char_1_accuracy: 0.4700 - char_2_accuracy: 0.4157 - char_3_accuracy: 0.4014 - char_4_accuracy: 0.3651 - loss: 19.2794 - val_char_0_accuracy: 0.0349 - val_char_1_accuracy: 0.1163 - val_char_2_accuracy: 0.1105 - val_char_3_accuracy: 0.0523 - val_char_4_accuracy: 0.0349 - val_loss: 24.5955 - learning_rate: 0.0010\n",
      "Epoch 5/100\n",
      "\u001b[1m43/43\u001b[0m \u001b[32m━━━━━━━━━━━━━━━━━━━━\u001b[0m\u001b[37m\u001b[0m \u001b[1m0s\u001b[0m 37ms/step - char_0_accuracy: 0.5409 - char_1_accuracy: 0.5985 - char_2_accuracy: 0.5542 - char_3_accuracy: 0.5041 - char_4_accuracy: 0.4741 - loss: 16.8221\n",
      "Epoch 5: val_loss improved from 24.59546 to 22.97446, saving model to best_captcha_model.keras\n",
      "\u001b[1m43/43\u001b[0m \u001b[32m━━━━━━━━━━━━━━━━━━━━\u001b[0m\u001b[37m\u001b[0m \u001b[1m2s\u001b[0m 50ms/step - char_0_accuracy: 0.5417 - char_1_accuracy: 0.5983 - char_2_accuracy: 0.5541 - char_3_accuracy: 0.5047 - char_4_accuracy: 0.4747 - loss: 16.8131 - val_char_0_accuracy: 0.1047 - val_char_1_accuracy: 0.2093 - val_char_2_accuracy: 0.1279 - val_char_3_accuracy: 0.0581 - val_char_4_accuracy: 0.0523 - val_loss: 22.9745 - learning_rate: 0.0010\n",
      "Epoch 6/100\n",
      "\u001b[1m43/43\u001b[0m \u001b[32m━━━━━━━━━━━━━━━━━━━━\u001b[0m\u001b[37m\u001b[0m \u001b[1m0s\u001b[0m 37ms/step - char_0_accuracy: 0.6461 - char_1_accuracy: 0.6668 - char_2_accuracy: 0.6087 - char_3_accuracy: 0.5813 - char_4_accuracy: 0.6085 - loss: 14.8505\n",
      "Epoch 6: val_loss improved from 22.97446 to 21.55000, saving model to best_captcha_model.keras\n",
      "\u001b[1m43/43\u001b[0m \u001b[32m━━━━━━━━━━━━━━━━━━━━\u001b[0m\u001b[37m\u001b[0m \u001b[1m2s\u001b[0m 50ms/step - char_0_accuracy: 0.6465 - char_1_accuracy: 0.6669 - char_2_accuracy: 0.6091 - char_3_accuracy: 0.5813 - char_4_accuracy: 0.6086 - loss: 14.8441 - val_char_0_accuracy: 0.2965 - val_char_1_accuracy: 0.2558 - val_char_2_accuracy: 0.1279 - val_char_3_accuracy: 0.2035 - val_char_4_accuracy: 0.0988 - val_loss: 21.5500 - learning_rate: 0.0010\n",
      "Epoch 7/100\n",
      "\u001b[1m43/43\u001b[0m \u001b[32m━━━━━━━━━━━━━━━━━━━━\u001b[0m\u001b[37m\u001b[0m \u001b[1m0s\u001b[0m 36ms/step - char_0_accuracy: 0.7150 - char_1_accuracy: 0.7075 - char_2_accuracy: 0.6796 - char_3_accuracy: 0.6626 - char_4_accuracy: 0.6983 - loss: 13.1706\n",
      "Epoch 7: val_loss improved from 21.55000 to 18.42869, saving model to best_captcha_model.keras\n",
      "\u001b[1m43/43\u001b[0m \u001b[32m━━━━━━━━━━━━━━━━━━━━\u001b[0m\u001b[37m\u001b[0m \u001b[1m2s\u001b[0m 50ms/step - char_0_accuracy: 0.7149 - char_1_accuracy: 0.7076 - char_2_accuracy: 0.6798 - char_3_accuracy: 0.6625 - char_4_accuracy: 0.6981 - loss: 13.1659 - val_char_0_accuracy: 0.5698 - val_char_1_accuracy: 0.4419 - val_char_2_accuracy: 0.4477 - val_char_3_accuracy: 0.2674 - val_char_4_accuracy: 0.2500 - val_loss: 18.4287 - learning_rate: 0.0010\n",
      "Epoch 8/100\n",
      "\u001b[1m43/43\u001b[0m \u001b[32m━━━━━━━━━━━━━━━━━━━━\u001b[0m\u001b[37m\u001b[0m \u001b[1m0s\u001b[0m 37ms/step - char_0_accuracy: 0.7493 - char_1_accuracy: 0.7628 - char_2_accuracy: 0.7325 - char_3_accuracy: 0.6870 - char_4_accuracy: 0.7224 - loss: 11.9163\n",
      "Epoch 8: val_loss improved from 18.42869 to 15.91633, saving model to best_captcha_model.keras\n",
      "\u001b[1m43/43\u001b[0m \u001b[32m━━━━━━━━━━━━━━━━━━━━\u001b[0m\u001b[37m\u001b[0m \u001b[1m2s\u001b[0m 50ms/step - char_0_accuracy: 0.7496 - char_1_accuracy: 0.7630 - char_2_accuracy: 0.7328 - char_3_accuracy: 0.6874 - char_4_accuracy: 0.7225 - loss: 11.9109 - val_char_0_accuracy: 0.5930 - val_char_1_accuracy: 0.6163 - val_char_2_accuracy: 0.6105 - val_char_3_accuracy: 0.4477 - val_char_4_accuracy: 0.3023 - val_loss: 15.9163 - learning_rate: 0.0010\n",
      "Epoch 9/100\n",
      "\u001b[1m43/43\u001b[0m \u001b[32m━━━━━━━━━━━━━━━━━━━━\u001b[0m\u001b[37m\u001b[0m \u001b[1m0s\u001b[0m 37ms/step - char_0_accuracy: 0.8170 - char_1_accuracy: 0.8256 - char_2_accuracy: 0.7752 - char_3_accuracy: 0.7764 - char_4_accuracy: 0.7633 - loss: 10.6173\n",
      "Epoch 9: val_loss improved from 15.91633 to 13.50995, saving model to best_captcha_model.keras\n",
      "\u001b[1m43/43\u001b[0m \u001b[32m━━━━━━━━━━━━━━━━━━━━\u001b[0m\u001b[37m\u001b[0m \u001b[1m2s\u001b[0m 50ms/step - char_0_accuracy: 0.8168 - char_1_accuracy: 0.8254 - char_2_accuracy: 0.7752 - char_3_accuracy: 0.7765 - char_4_accuracy: 0.7633 - loss: 10.6149 - val_char_0_accuracy: 0.7267 - val_char_1_accuracy: 0.7384 - val_char_2_accuracy: 0.7267 - val_char_3_accuracy: 0.5756 - val_char_4_accuracy: 0.5523 - val_loss: 13.5100 - learning_rate: 0.0010\n",
      "Epoch 10/100\n",
      "\u001b[1m43/43\u001b[0m \u001b[32m━━━━━━━━━━━━━━━━━━━━\u001b[0m\u001b[37m\u001b[0m \u001b[1m0s\u001b[0m 38ms/step - char_0_accuracy: 0.8403 - char_1_accuracy: 0.8138 - char_2_accuracy: 0.8319 - char_3_accuracy: 0.8188 - char_4_accuracy: 0.8080 - loss: 9.6902\n",
      "Epoch 10: val_loss improved from 13.50995 to 12.25100, saving model to best_captcha_model.keras\n",
      "\u001b[1m43/43\u001b[0m \u001b[32m━━━━━━━━━━━━━━━━━━━━\u001b[0m\u001b[37m\u001b[0m \u001b[1m2s\u001b[0m 53ms/step - char_0_accuracy: 0.8402 - char_1_accuracy: 0.8144 - char_2_accuracy: 0.8318 - char_3_accuracy: 0.8184 - char_4_accuracy: 0.8078 - loss: 9.6885 - val_char_0_accuracy: 0.7849 - val_char_1_accuracy: 0.7791 - val_char_2_accuracy: 0.6977 - val_char_3_accuracy: 0.6337 - val_char_4_accuracy: 0.5930 - val_loss: 12.2510 - learning_rate: 0.0010\n",
      "Epoch 11/100\n",
      "\u001b[1m43/43\u001b[0m \u001b[32m━━━━━━━━━━━━━━━━━━━━\u001b[0m\u001b[37m\u001b[0m \u001b[1m0s\u001b[0m 37ms/step - char_0_accuracy: 0.8583 - char_1_accuracy: 0.8635 - char_2_accuracy: 0.8585 - char_3_accuracy: 0.8496 - char_4_accuracy: 0.8738 - loss: 8.8859\n",
      "Epoch 11: val_loss improved from 12.25100 to 11.81649, saving model to best_captcha_model.keras\n",
      "\u001b[1m43/43\u001b[0m \u001b[32m━━━━━━━━━━━━━━━━━━━━\u001b[0m\u001b[37m\u001b[0m \u001b[1m2s\u001b[0m 50ms/step - char_0_accuracy: 0.8584 - char_1_accuracy: 0.8635 - char_2_accuracy: 0.8583 - char_3_accuracy: 0.8492 - char_4_accuracy: 0.8732 - loss: 8.8854 - val_char_0_accuracy: 0.7093 - val_char_1_accuracy: 0.7616 - val_char_2_accuracy: 0.7267 - val_char_3_accuracy: 0.5814 - val_char_4_accuracy: 0.5930 - val_loss: 11.8165 - learning_rate: 0.0010\n",
      "Epoch 12/100\n",
      "\u001b[1m43/43\u001b[0m \u001b[32m━━━━━━━━━━━━━━━━━━━━\u001b[0m\u001b[37m\u001b[0m \u001b[1m0s\u001b[0m 37ms/step - char_0_accuracy: 0.8598 - char_1_accuracy: 0.8485 - char_2_accuracy: 0.8825 - char_3_accuracy: 0.8373 - char_4_accuracy: 0.8647 - loss: 8.3222\n",
      "Epoch 12: val_loss improved from 11.81649 to 10.02435, saving model to best_captcha_model.keras\n",
      "\u001b[1m43/43\u001b[0m \u001b[32m━━━━━━━━━━━━━━━━━━━━\u001b[0m\u001b[37m\u001b[0m \u001b[1m2s\u001b[0m 50ms/step - char_0_accuracy: 0.8599 - char_1_accuracy: 0.8489 - char_2_accuracy: 0.8821 - char_3_accuracy: 0.8373 - char_4_accuracy: 0.8648 - loss: 8.3203 - val_char_0_accuracy: 0.9012 - val_char_1_accuracy: 0.7965 - val_char_2_accuracy: 0.7616 - val_char_3_accuracy: 0.7791 - val_char_4_accuracy: 0.6744 - val_loss: 10.0244 - learning_rate: 0.0010\n",
      "Epoch 13/100\n",
      "\u001b[1m43/43\u001b[0m \u001b[32m━━━━━━━━━━━━━━━━━━━━\u001b[0m\u001b[37m\u001b[0m \u001b[1m0s\u001b[0m 37ms/step - char_0_accuracy: 0.8764 - char_1_accuracy: 0.8968 - char_2_accuracy: 0.8837 - char_3_accuracy: 0.8729 - char_4_accuracy: 0.8959 - loss: 7.7152\n",
      "Epoch 13: val_loss improved from 10.02435 to 9.47960, saving model to best_captcha_model.keras\n",
      "\u001b[1m43/43\u001b[0m \u001b[32m━━━━━━━━━━━━━━━━━━━━\u001b[0m\u001b[37m\u001b[0m \u001b[1m2s\u001b[0m 50ms/step - char_0_accuracy: 0.8765 - char_1_accuracy: 0.8966 - char_2_accuracy: 0.8838 - char_3_accuracy: 0.8728 - char_4_accuracy: 0.8957 - loss: 7.7133 - val_char_0_accuracy: 0.9070 - val_char_1_accuracy: 0.8198 - val_char_2_accuracy: 0.8256 - val_char_3_accuracy: 0.7558 - val_char_4_accuracy: 0.6860 - val_loss: 9.4796 - learning_rate: 0.0010\n",
      "Epoch 14/100\n",
      "\u001b[1m43/43\u001b[0m \u001b[32m━━━━━━━━━━━━━━━━━━━━\u001b[0m\u001b[37m\u001b[0m \u001b[1m0s\u001b[0m 37ms/step - char_0_accuracy: 0.8868 - char_1_accuracy: 0.8825 - char_2_accuracy: 0.8769 - char_3_accuracy: 0.8886 - char_4_accuracy: 0.8979 - loss: 7.2846\n",
      "Epoch 14: val_loss improved from 9.47960 to 8.81688, saving model to best_captcha_model.keras\n",
      "\u001b[1m43/43\u001b[0m \u001b[32m━━━━━━━━━━━━━━━━━━━━\u001b[0m\u001b[37m\u001b[0m \u001b[1m2s\u001b[0m 52ms/step - char_0_accuracy: 0.8867 - char_1_accuracy: 0.8827 - char_2_accuracy: 0.8773 - char_3_accuracy: 0.8886 - char_4_accuracy: 0.8974 - loss: 7.2828 - val_char_0_accuracy: 0.8837 - val_char_1_accuracy: 0.8314 - val_char_2_accuracy: 0.7791 - val_char_3_accuracy: 0.7558 - val_char_4_accuracy: 0.7326 - val_loss: 8.8169 - learning_rate: 0.0010\n",
      "Epoch 15/100\n",
      "\u001b[1m43/43\u001b[0m \u001b[32m━━━━━━━━━━━━━━━━━━━━\u001b[0m\u001b[37m\u001b[0m \u001b[1m0s\u001b[0m 37ms/step - char_0_accuracy: 0.9287 - char_1_accuracy: 0.8903 - char_2_accuracy: 0.9214 - char_3_accuracy: 0.8916 - char_4_accuracy: 0.9025 - loss: 6.7458\n",
      "Epoch 15: val_loss improved from 8.81688 to 8.43899, saving model to best_captcha_model.keras\n",
      "\u001b[1m43/43\u001b[0m \u001b[32m━━━━━━━━━━━━━━━━━━━━\u001b[0m\u001b[37m\u001b[0m \u001b[1m2s\u001b[0m 51ms/step - char_0_accuracy: 0.9281 - char_1_accuracy: 0.8906 - char_2_accuracy: 0.9214 - char_3_accuracy: 0.8916 - char_4_accuracy: 0.9024 - loss: 6.7456 - val_char_0_accuracy: 0.9186 - val_char_1_accuracy: 0.8779 - val_char_2_accuracy: 0.8314 - val_char_3_accuracy: 0.7849 - val_char_4_accuracy: 0.7384 - val_loss: 8.4390 - learning_rate: 0.0010\n",
      "Epoch 16/100\n",
      "\u001b[1m43/43\u001b[0m \u001b[32m━━━━━━━━━━━━━━━━━━━━\u001b[0m\u001b[37m\u001b[0m \u001b[1m0s\u001b[0m 37ms/step - char_0_accuracy: 0.9221 - char_1_accuracy: 0.9019 - char_2_accuracy: 0.9063 - char_3_accuracy: 0.9022 - char_4_accuracy: 0.8962 - loss: 6.4654\n",
      "Epoch 16: val_loss improved from 8.43899 to 8.41684, saving model to best_captcha_model.keras\n",
      "\u001b[1m43/43\u001b[0m \u001b[32m━━━━━━━━━━━━━━━━━━━━\u001b[0m\u001b[37m\u001b[0m \u001b[1m2s\u001b[0m 50ms/step - char_0_accuracy: 0.9218 - char_1_accuracy: 0.9019 - char_2_accuracy: 0.9064 - char_3_accuracy: 0.9020 - char_4_accuracy: 0.8962 - loss: 6.4656 - val_char_0_accuracy: 0.8779 - val_char_1_accuracy: 0.8256 - val_char_2_accuracy: 0.7558 - val_char_3_accuracy: 0.7558 - val_char_4_accuracy: 0.7384 - val_loss: 8.4168 - learning_rate: 0.0010\n",
      "Epoch 17/100\n",
      "\u001b[1m43/43\u001b[0m \u001b[32m━━━━━━━━━━━━━━━━━━━━\u001b[0m\u001b[37m\u001b[0m \u001b[1m0s\u001b[0m 37ms/step - char_0_accuracy: 0.9129 - char_1_accuracy: 0.9106 - char_2_accuracy: 0.8908 - char_3_accuracy: 0.9040 - char_4_accuracy: 0.9118 - loss: 6.2684\n",
      "Epoch 17: val_loss improved from 8.41684 to 8.03727, saving model to best_captcha_model.keras\n",
      "\u001b[1m43/43\u001b[0m \u001b[32m━━━━━━━━━━━━━━━━━━━━\u001b[0m\u001b[37m\u001b[0m \u001b[1m2s\u001b[0m 50ms/step - char_0_accuracy: 0.9129 - char_1_accuracy: 0.9105 - char_2_accuracy: 0.8910 - char_3_accuracy: 0.9038 - char_4_accuracy: 0.9117 - loss: 6.2682 - val_char_0_accuracy: 0.9070 - val_char_1_accuracy: 0.8721 - val_char_2_accuracy: 0.8023 - val_char_3_accuracy: 0.7209 - val_char_4_accuracy: 0.7326 - val_loss: 8.0373 - learning_rate: 0.0010\n",
      "Epoch 18/100\n",
      "\u001b[1m43/43\u001b[0m \u001b[32m━━━━━━━━━━━━━━━━━━━━\u001b[0m\u001b[37m\u001b[0m \u001b[1m0s\u001b[0m 37ms/step - char_0_accuracy: 0.9305 - char_1_accuracy: 0.9030 - char_2_accuracy: 0.9155 - char_3_accuracy: 0.9085 - char_4_accuracy: 0.9045 - loss: 6.1282\n",
      "Epoch 18: val_loss improved from 8.03727 to 7.52541, saving model to best_captcha_model.keras\n",
      "\u001b[1m43/43\u001b[0m \u001b[32m━━━━━━━━━━━━━━━━━━━━\u001b[0m\u001b[37m\u001b[0m \u001b[1m2s\u001b[0m 51ms/step - char_0_accuracy: 0.9304 - char_1_accuracy: 0.9030 - char_2_accuracy: 0.9155 - char_3_accuracy: 0.9082 - char_4_accuracy: 0.9045 - loss: 6.1276 - val_char_0_accuracy: 0.9302 - val_char_1_accuracy: 0.8779 - val_char_2_accuracy: 0.8314 - val_char_3_accuracy: 0.7965 - val_char_4_accuracy: 0.7384 - val_loss: 7.5254 - learning_rate: 0.0010\n",
      "Epoch 19/100\n",
      "\u001b[1m43/43\u001b[0m \u001b[32m━━━━━━━━━━━━━━━━━━━━\u001b[0m\u001b[37m\u001b[0m \u001b[1m0s\u001b[0m 37ms/step - char_0_accuracy: 0.9268 - char_1_accuracy: 0.9145 - char_2_accuracy: 0.9174 - char_3_accuracy: 0.9198 - char_4_accuracy: 0.9181 - loss: 5.8387\n",
      "Epoch 19: val_loss improved from 7.52541 to 7.37841, saving model to best_captcha_model.keras\n",
      "\u001b[1m43/43\u001b[0m \u001b[32m━━━━━━━━━━━━━━━━━━━━\u001b[0m\u001b[37m\u001b[0m \u001b[1m2s\u001b[0m 50ms/step - char_0_accuracy: 0.9267 - char_1_accuracy: 0.9145 - char_2_accuracy: 0.9176 - char_3_accuracy: 0.9196 - char_4_accuracy: 0.9180 - loss: 5.8376 - val_char_0_accuracy: 0.9186 - val_char_1_accuracy: 0.8721 - val_char_2_accuracy: 0.8081 - val_char_3_accuracy: 0.7791 - val_char_4_accuracy: 0.7791 - val_loss: 7.3784 - learning_rate: 0.0010\n",
      "Epoch 20/100\n",
      "\u001b[1m43/43\u001b[0m \u001b[32m━━━━━━━━━━━━━━━━━━━━\u001b[0m\u001b[37m\u001b[0m \u001b[1m0s\u001b[0m 37ms/step - char_0_accuracy: 0.9272 - char_1_accuracy: 0.9074 - char_2_accuracy: 0.9247 - char_3_accuracy: 0.9232 - char_4_accuracy: 0.9307 - loss: 5.6178\n",
      "Epoch 20: val_loss did not improve from 7.37841\n",
      "\u001b[1m43/43\u001b[0m \u001b[32m━━━━━━━━━━━━━━━━━━━━\u001b[0m\u001b[37m\u001b[0m \u001b[1m2s\u001b[0m 39ms/step - char_0_accuracy: 0.9271 - char_1_accuracy: 0.9074 - char_2_accuracy: 0.9244 - char_3_accuracy: 0.9230 - char_4_accuracy: 0.9307 - loss: 5.6175 - val_char_0_accuracy: 0.8721 - val_char_1_accuracy: 0.8663 - val_char_2_accuracy: 0.6860 - val_char_3_accuracy: 0.7907 - val_char_4_accuracy: 0.7558 - val_loss: 7.6776 - learning_rate: 0.0010\n",
      "Epoch 21/100\n",
      "\u001b[1m43/43\u001b[0m \u001b[32m━━━━━━━━━━━━━━━━━━━━\u001b[0m\u001b[37m\u001b[0m \u001b[1m0s\u001b[0m 37ms/step - char_0_accuracy: 0.9227 - char_1_accuracy: 0.9200 - char_2_accuracy: 0.9148 - char_3_accuracy: 0.9112 - char_4_accuracy: 0.9132 - loss: 5.5486\n",
      "Epoch 21: val_loss improved from 7.37841 to 6.93408, saving model to best_captcha_model.keras\n",
      "\u001b[1m43/43\u001b[0m \u001b[32m━━━━━━━━━━━━━━━━━━━━\u001b[0m\u001b[37m\u001b[0m \u001b[1m2s\u001b[0m 51ms/step - char_0_accuracy: 0.9225 - char_1_accuracy: 0.9199 - char_2_accuracy: 0.9150 - char_3_accuracy: 0.9114 - char_4_accuracy: 0.9131 - loss: 5.5480 - val_char_0_accuracy: 0.9186 - val_char_1_accuracy: 0.8430 - val_char_2_accuracy: 0.8256 - val_char_3_accuracy: 0.8198 - val_char_4_accuracy: 0.7733 - val_loss: 6.9341 - learning_rate: 0.0010\n",
      "Epoch 22/100\n",
      "\u001b[1m43/43\u001b[0m \u001b[32m━━━━━━━━━━━━━━━━━━━━\u001b[0m\u001b[37m\u001b[0m \u001b[1m0s\u001b[0m 37ms/step - char_0_accuracy: 0.9095 - char_1_accuracy: 0.9149 - char_2_accuracy: 0.9038 - char_3_accuracy: 0.9028 - char_4_accuracy: 0.9145 - loss: 5.4974\n",
      "Epoch 22: val_loss improved from 6.93408 to 6.92178, saving model to best_captcha_model.keras\n",
      "\u001b[1m43/43\u001b[0m \u001b[32m━━━━━━━━━━━━━━━━━━━━\u001b[0m\u001b[37m\u001b[0m \u001b[1m2s\u001b[0m 50ms/step - char_0_accuracy: 0.9097 - char_1_accuracy: 0.9150 - char_2_accuracy: 0.9041 - char_3_accuracy: 0.9029 - char_4_accuracy: 0.9144 - loss: 5.4965 - val_char_0_accuracy: 0.8779 - val_char_1_accuracy: 0.8837 - val_char_2_accuracy: 0.7965 - val_char_3_accuracy: 0.8256 - val_char_4_accuracy: 0.8140 - val_loss: 6.9218 - learning_rate: 0.0010\n",
      "Epoch 23/100\n",
      "\u001b[1m43/43\u001b[0m \u001b[32m━━━━━━━━━━━━━━━━━━━━\u001b[0m\u001b[37m\u001b[0m \u001b[1m0s\u001b[0m 37ms/step - char_0_accuracy: 0.8911 - char_1_accuracy: 0.9103 - char_2_accuracy: 0.9156 - char_3_accuracy: 0.8996 - char_4_accuracy: 0.9151 - loss: 5.4858\n",
      "Epoch 23: val_loss improved from 6.92178 to 6.58575, saving model to best_captcha_model.keras\n",
      "\u001b[1m43/43\u001b[0m \u001b[32m━━━━━━━━━━━━━━━━━━━━\u001b[0m\u001b[37m\u001b[0m \u001b[1m2s\u001b[0m 50ms/step - char_0_accuracy: 0.8915 - char_1_accuracy: 0.9103 - char_2_accuracy: 0.9159 - char_3_accuracy: 0.8997 - char_4_accuracy: 0.9150 - loss: 5.4842 - val_char_0_accuracy: 0.9709 - val_char_1_accuracy: 0.8837 - val_char_2_accuracy: 0.8081 - val_char_3_accuracy: 0.8256 - val_char_4_accuracy: 0.8314 - val_loss: 6.5858 - learning_rate: 0.0010\n",
      "Epoch 24/100\n",
      "\u001b[1m43/43\u001b[0m \u001b[32m━━━━━━━━━━━━━━━━━━━━\u001b[0m\u001b[37m\u001b[0m \u001b[1m0s\u001b[0m 37ms/step - char_0_accuracy: 0.9333 - char_1_accuracy: 0.9270 - char_2_accuracy: 0.9266 - char_3_accuracy: 0.9175 - char_4_accuracy: 0.9225 - loss: 5.2237\n",
      "Epoch 24: val_loss did not improve from 6.58575\n",
      "\u001b[1m43/43\u001b[0m \u001b[32m━━━━━━━━━━━━━━━━━━━━\u001b[0m\u001b[37m\u001b[0m \u001b[1m2s\u001b[0m 40ms/step - char_0_accuracy: 0.9332 - char_1_accuracy: 0.9268 - char_2_accuracy: 0.9265 - char_3_accuracy: 0.9175 - char_4_accuracy: 0.9226 - loss: 5.2243 - val_char_0_accuracy: 0.8663 - val_char_1_accuracy: 0.7326 - val_char_2_accuracy: 0.6047 - val_char_3_accuracy: 0.5930 - val_char_4_accuracy: 0.6105 - val_loss: 9.3072 - learning_rate: 0.0010\n",
      "Epoch 25/100\n",
      "\u001b[1m43/43\u001b[0m \u001b[32m━━━━━━━━━━━━━━━━━━━━\u001b[0m\u001b[37m\u001b[0m \u001b[1m0s\u001b[0m 38ms/step - char_0_accuracy: 0.9047 - char_1_accuracy: 0.9089 - char_2_accuracy: 0.9402 - char_3_accuracy: 0.9153 - char_4_accuracy: 0.9051 - loss: 5.3315\n",
      "Epoch 25: val_loss improved from 6.58575 to 6.50882, saving model to best_captcha_model.keras\n",
      "\u001b[1m43/43\u001b[0m \u001b[32m━━━━━━━━━━━━━━━━━━━━\u001b[0m\u001b[37m\u001b[0m \u001b[1m2s\u001b[0m 51ms/step - char_0_accuracy: 0.9048 - char_1_accuracy: 0.9091 - char_2_accuracy: 0.9397 - char_3_accuracy: 0.9151 - char_4_accuracy: 0.9051 - loss: 5.3333 - val_char_0_accuracy: 0.9477 - val_char_1_accuracy: 0.8953 - val_char_2_accuracy: 0.8314 - val_char_3_accuracy: 0.8547 - val_char_4_accuracy: 0.8140 - val_loss: 6.5088 - learning_rate: 0.0010\n",
      "Epoch 26/100\n",
      "\u001b[1m43/43\u001b[0m \u001b[32m━━━━━━━━━━━━━━━━━━━━\u001b[0m\u001b[37m\u001b[0m \u001b[1m0s\u001b[0m 38ms/step - char_0_accuracy: 0.9143 - char_1_accuracy: 0.9199 - char_2_accuracy: 0.9069 - char_3_accuracy: 0.9313 - char_4_accuracy: 0.9346 - loss: 5.3110\n",
      "Epoch 26: val_loss improved from 6.50882 to 6.26138, saving model to best_captcha_model.keras\n",
      "\u001b[1m43/43\u001b[0m \u001b[32m━━━━━━━━━━━━━━━━━━━━\u001b[0m\u001b[37m\u001b[0m \u001b[1m2s\u001b[0m 51ms/step - char_0_accuracy: 0.9144 - char_1_accuracy: 0.9198 - char_2_accuracy: 0.9071 - char_3_accuracy: 0.9310 - char_4_accuracy: 0.9345 - loss: 5.3103 - val_char_0_accuracy: 0.9360 - val_char_1_accuracy: 0.8895 - val_char_2_accuracy: 0.8430 - val_char_3_accuracy: 0.8605 - val_char_4_accuracy: 0.8314 - val_loss: 6.2614 - learning_rate: 0.0010\n",
      "Epoch 27/100\n",
      "\u001b[1m43/43\u001b[0m \u001b[32m━━━━━━━━━━━━━━━━━━━━\u001b[0m\u001b[37m\u001b[0m \u001b[1m0s\u001b[0m 37ms/step - char_0_accuracy: 0.9325 - char_1_accuracy: 0.9240 - char_2_accuracy: 0.9247 - char_3_accuracy: 0.9171 - char_4_accuracy: 0.9139 - loss: 5.1553\n",
      "Epoch 27: val_loss improved from 6.26138 to 6.19360, saving model to best_captcha_model.keras\n",
      "\u001b[1m43/43\u001b[0m \u001b[32m━━━━━━━━━━━━━━━━━━━━\u001b[0m\u001b[37m\u001b[0m \u001b[1m2s\u001b[0m 51ms/step - char_0_accuracy: 0.9324 - char_1_accuracy: 0.9239 - char_2_accuracy: 0.9247 - char_3_accuracy: 0.9170 - char_4_accuracy: 0.9137 - loss: 5.1556 - val_char_0_accuracy: 0.9302 - val_char_1_accuracy: 0.9128 - val_char_2_accuracy: 0.8721 - val_char_3_accuracy: 0.8547 - val_char_4_accuracy: 0.8256 - val_loss: 6.1936 - learning_rate: 0.0010\n",
      "Epoch 28/100\n",
      "\u001b[1m43/43\u001b[0m \u001b[32m━━━━━━━━━━━━━━━━━━━━\u001b[0m\u001b[37m\u001b[0m \u001b[1m0s\u001b[0m 37ms/step - char_0_accuracy: 0.9243 - char_1_accuracy: 0.9220 - char_2_accuracy: 0.9325 - char_3_accuracy: 0.9242 - char_4_accuracy: 0.9207 - loss: 5.0317\n",
      "Epoch 28: val_loss did not improve from 6.19360\n",
      "\u001b[1m43/43\u001b[0m \u001b[32m━━━━━━━━━━━━━━━━━━━━\u001b[0m\u001b[37m\u001b[0m \u001b[1m2s\u001b[0m 40ms/step - char_0_accuracy: 0.9244 - char_1_accuracy: 0.9219 - char_2_accuracy: 0.9322 - char_3_accuracy: 0.9241 - char_4_accuracy: 0.9208 - loss: 5.0326 - val_char_0_accuracy: 0.9593 - val_char_1_accuracy: 0.9012 - val_char_2_accuracy: 0.8372 - val_char_3_accuracy: 0.8140 - val_char_4_accuracy: 0.7907 - val_loss: 6.3050 - learning_rate: 0.0010\n",
      "Epoch 29/100\n",
      "\u001b[1m43/43\u001b[0m \u001b[32m━━━━━━━━━━━━━━━━━━━━\u001b[0m\u001b[37m\u001b[0m \u001b[1m0s\u001b[0m 37ms/step - char_0_accuracy: 0.9281 - char_1_accuracy: 0.9191 - char_2_accuracy: 0.9170 - char_3_accuracy: 0.9255 - char_4_accuracy: 0.9196 - loss: 4.9689\n",
      "Epoch 29: val_loss did not improve from 6.19360\n",
      "\u001b[1m43/43\u001b[0m \u001b[32m━━━━━━━━━━━━━━━━━━━━\u001b[0m\u001b[37m\u001b[0m \u001b[1m2s\u001b[0m 39ms/step - char_0_accuracy: 0.9283 - char_1_accuracy: 0.9191 - char_2_accuracy: 0.9171 - char_3_accuracy: 0.9253 - char_4_accuracy: 0.9195 - loss: 4.9698 - val_char_0_accuracy: 0.8721 - val_char_1_accuracy: 0.8256 - val_char_2_accuracy: 0.8372 - val_char_3_accuracy: 0.7907 - val_char_4_accuracy: 0.7849 - val_loss: 6.7820 - learning_rate: 0.0010\n",
      "Epoch 30/100\n",
      "\u001b[1m43/43\u001b[0m \u001b[32m━━━━━━━━━━━━━━━━━━━━\u001b[0m\u001b[37m\u001b[0m \u001b[1m0s\u001b[0m 37ms/step - char_0_accuracy: 0.9170 - char_1_accuracy: 0.9087 - char_2_accuracy: 0.9326 - char_3_accuracy: 0.8918 - char_4_accuracy: 0.9149 - loss: 5.0587\n",
      "Epoch 30: val_loss did not improve from 6.19360\n",
      "\u001b[1m43/43\u001b[0m \u001b[32m━━━━━━━━━━━━━━━━━━━━\u001b[0m\u001b[37m\u001b[0m \u001b[1m2s\u001b[0m 39ms/step - char_0_accuracy: 0.9172 - char_1_accuracy: 0.9089 - char_2_accuracy: 0.9327 - char_3_accuracy: 0.8918 - char_4_accuracy: 0.9149 - loss: 5.0588 - val_char_0_accuracy: 0.9012 - val_char_1_accuracy: 0.8953 - val_char_2_accuracy: 0.7791 - val_char_3_accuracy: 0.8198 - val_char_4_accuracy: 0.7674 - val_loss: 6.4267 - learning_rate: 0.0010\n",
      "Epoch 31/100\n",
      "\u001b[1m43/43\u001b[0m \u001b[32m━━━━━━━━━━━━━━━━━━━━\u001b[0m\u001b[37m\u001b[0m \u001b[1m0s\u001b[0m 37ms/step - char_0_accuracy: 0.9161 - char_1_accuracy: 0.9366 - char_2_accuracy: 0.9170 - char_3_accuracy: 0.9076 - char_4_accuracy: 0.9272 - loss: 4.9858\n",
      "Epoch 31: val_loss improved from 6.19360 to 6.11408, saving model to best_captcha_model.keras\n",
      "\u001b[1m43/43\u001b[0m \u001b[32m━━━━━━━━━━━━━━━━━━━━\u001b[0m\u001b[37m\u001b[0m \u001b[1m2s\u001b[0m 51ms/step - char_0_accuracy: 0.9165 - char_1_accuracy: 0.9365 - char_2_accuracy: 0.9172 - char_3_accuracy: 0.9074 - char_4_accuracy: 0.9270 - loss: 4.9854 - val_char_0_accuracy: 0.9128 - val_char_1_accuracy: 0.8721 - val_char_2_accuracy: 0.8372 - val_char_3_accuracy: 0.8430 - val_char_4_accuracy: 0.8081 - val_loss: 6.1141 - learning_rate: 0.0010\n",
      "Epoch 32/100\n",
      "\u001b[1m43/43\u001b[0m \u001b[32m━━━━━━━━━━━━━━━━━━━━\u001b[0m\u001b[37m\u001b[0m \u001b[1m0s\u001b[0m 37ms/step - char_0_accuracy: 0.9288 - char_1_accuracy: 0.9155 - char_2_accuracy: 0.9283 - char_3_accuracy: 0.9067 - char_4_accuracy: 0.9253 - loss: 4.8957\n",
      "Epoch 32: val_loss did not improve from 6.11408\n",
      "\u001b[1m43/43\u001b[0m \u001b[32m━━━━━━━━━━━━━━━━━━━━\u001b[0m\u001b[37m\u001b[0m \u001b[1m2s\u001b[0m 40ms/step - char_0_accuracy: 0.9287 - char_1_accuracy: 0.9155 - char_2_accuracy: 0.9282 - char_3_accuracy: 0.9069 - char_4_accuracy: 0.9252 - loss: 4.8961 - val_char_0_accuracy: 0.9186 - val_char_1_accuracy: 0.8953 - val_char_2_accuracy: 0.8488 - val_char_3_accuracy: 0.8256 - val_char_4_accuracy: 0.8256 - val_loss: 6.1797 - learning_rate: 0.0010\n",
      "Epoch 33/100\n",
      "\u001b[1m43/43\u001b[0m \u001b[32m━━━━━━━━━━━━━━━━━━━━\u001b[0m\u001b[37m\u001b[0m \u001b[1m0s\u001b[0m 37ms/step - char_0_accuracy: 0.9445 - char_1_accuracy: 0.9315 - char_2_accuracy: 0.9394 - char_3_accuracy: 0.9238 - char_4_accuracy: 0.9043 - loss: 4.8155\n",
      "Epoch 33: val_loss improved from 6.11408 to 5.65632, saving model to best_captcha_model.keras\n",
      "\u001b[1m43/43\u001b[0m \u001b[32m━━━━━━━━━━━━━━━━━━━━\u001b[0m\u001b[37m\u001b[0m \u001b[1m2s\u001b[0m 51ms/step - char_0_accuracy: 0.9444 - char_1_accuracy: 0.9316 - char_2_accuracy: 0.9392 - char_3_accuracy: 0.9237 - char_4_accuracy: 0.9041 - loss: 4.8152 - val_char_0_accuracy: 0.9302 - val_char_1_accuracy: 0.9419 - val_char_2_accuracy: 0.8663 - val_char_3_accuracy: 0.8605 - val_char_4_accuracy: 0.8605 - val_loss: 5.6563 - learning_rate: 0.0010\n",
      "Epoch 34/100\n",
      "\u001b[1m43/43\u001b[0m \u001b[32m━━━━━━━━━━━━━━━━━━━━\u001b[0m\u001b[37m\u001b[0m \u001b[1m0s\u001b[0m 37ms/step - char_0_accuracy: 0.9217 - char_1_accuracy: 0.9348 - char_2_accuracy: 0.9169 - char_3_accuracy: 0.9273 - char_4_accuracy: 0.9218 - loss: 4.7077\n",
      "Epoch 34: val_loss did not improve from 5.65632\n",
      "\u001b[1m43/43\u001b[0m \u001b[32m━━━━━━━━━━━━━━━━━━━━\u001b[0m\u001b[37m\u001b[0m \u001b[1m2s\u001b[0m 40ms/step - char_0_accuracy: 0.9217 - char_1_accuracy: 0.9348 - char_2_accuracy: 0.9170 - char_3_accuracy: 0.9272 - char_4_accuracy: 0.9217 - loss: 4.7079 - val_char_0_accuracy: 0.8953 - val_char_1_accuracy: 0.9128 - val_char_2_accuracy: 0.8488 - val_char_3_accuracy: 0.8663 - val_char_4_accuracy: 0.8256 - val_loss: 5.7971 - learning_rate: 0.0010\n",
      "Epoch 35/100\n",
      "\u001b[1m43/43\u001b[0m \u001b[32m━━━━━━━━━━━━━━━━━━━━\u001b[0m\u001b[37m\u001b[0m \u001b[1m0s\u001b[0m 38ms/step - char_0_accuracy: 0.9090 - char_1_accuracy: 0.9245 - char_2_accuracy: 0.9245 - char_3_accuracy: 0.9307 - char_4_accuracy: 0.9166 - loss: 4.7220\n",
      "Epoch 35: val_loss did not improve from 5.65632\n",
      "\u001b[1m43/43\u001b[0m \u001b[32m━━━━━━━━━━━━━━━━━━━━\u001b[0m\u001b[37m\u001b[0m \u001b[1m2s\u001b[0m 40ms/step - char_0_accuracy: 0.9091 - char_1_accuracy: 0.9243 - char_2_accuracy: 0.9244 - char_3_accuracy: 0.9305 - char_4_accuracy: 0.9166 - loss: 4.7221 - val_char_0_accuracy: 0.9419 - val_char_1_accuracy: 0.9128 - val_char_2_accuracy: 0.8314 - val_char_3_accuracy: 0.8198 - val_char_4_accuracy: 0.8256 - val_loss: 5.8936 - learning_rate: 0.0010\n",
      "Epoch 36/100\n",
      "\u001b[1m43/43\u001b[0m \u001b[32m━━━━━━━━━━━━━━━━━━━━\u001b[0m\u001b[37m\u001b[0m \u001b[1m0s\u001b[0m 38ms/step - char_0_accuracy: 0.9316 - char_1_accuracy: 0.9320 - char_2_accuracy: 0.9367 - char_3_accuracy: 0.9254 - char_4_accuracy: 0.9211 - loss: 4.6594\n",
      "Epoch 36: val_loss did not improve from 5.65632\n",
      "\u001b[1m43/43\u001b[0m \u001b[32m━━━━━━━━━━━━━━━━━━━━\u001b[0m\u001b[37m\u001b[0m \u001b[1m2s\u001b[0m 40ms/step - char_0_accuracy: 0.9316 - char_1_accuracy: 0.9317 - char_2_accuracy: 0.9365 - char_3_accuracy: 0.9252 - char_4_accuracy: 0.9209 - loss: 4.6622 - val_char_0_accuracy: 0.9360 - val_char_1_accuracy: 0.9128 - val_char_2_accuracy: 0.8256 - val_char_3_accuracy: 0.8430 - val_char_4_accuracy: 0.7849 - val_loss: 6.1701 - learning_rate: 0.0010\n",
      "Epoch 37/100\n",
      "\u001b[1m43/43\u001b[0m \u001b[32m━━━━━━━━━━━━━━━━━━━━\u001b[0m\u001b[37m\u001b[0m \u001b[1m0s\u001b[0m 38ms/step - char_0_accuracy: 0.9229 - char_1_accuracy: 0.9255 - char_2_accuracy: 0.9165 - char_3_accuracy: 0.9124 - char_4_accuracy: 0.9425 - loss: 4.8223\n",
      "Epoch 37: val_loss did not improve from 5.65632\n",
      "\u001b[1m43/43\u001b[0m \u001b[32m━━━━━━━━━━━━━━━━━━━━\u001b[0m\u001b[37m\u001b[0m \u001b[1m2s\u001b[0m 40ms/step - char_0_accuracy: 0.9229 - char_1_accuracy: 0.9255 - char_2_accuracy: 0.9167 - char_3_accuracy: 0.9126 - char_4_accuracy: 0.9424 - loss: 4.8216 - val_char_0_accuracy: 0.9535 - val_char_1_accuracy: 0.8895 - val_char_2_accuracy: 0.8430 - val_char_3_accuracy: 0.8605 - val_char_4_accuracy: 0.7907 - val_loss: 5.7167 - learning_rate: 0.0010\n",
      "Epoch 38/100\n",
      "\u001b[1m43/43\u001b[0m \u001b[32m━━━━━━━━━━━━━━━━━━━━\u001b[0m\u001b[37m\u001b[0m \u001b[1m0s\u001b[0m 38ms/step - char_0_accuracy: 0.9226 - char_1_accuracy: 0.9233 - char_2_accuracy: 0.9281 - char_3_accuracy: 0.9057 - char_4_accuracy: 0.9287 - loss: 4.7477\n",
      "Epoch 38: ReduceLROnPlateau reducing learning rate to 0.00020000000949949026.\n",
      "\n",
      "Epoch 38: val_loss did not improve from 5.65632\n",
      "\u001b[1m43/43\u001b[0m \u001b[32m━━━━━━━━━━━━━━━━━━━━\u001b[0m\u001b[37m\u001b[0m \u001b[1m2s\u001b[0m 40ms/step - char_0_accuracy: 0.9225 - char_1_accuracy: 0.9233 - char_2_accuracy: 0.9281 - char_3_accuracy: 0.9058 - char_4_accuracy: 0.9285 - loss: 4.7477 - val_char_0_accuracy: 0.9186 - val_char_1_accuracy: 0.9070 - val_char_2_accuracy: 0.8895 - val_char_3_accuracy: 0.8256 - val_char_4_accuracy: 0.8314 - val_loss: 5.7757 - learning_rate: 0.0010\n",
      "Epoch 39/100\n",
      "\u001b[1m43/43\u001b[0m \u001b[32m━━━━━━━━━━━━━━━━━━━━\u001b[0m\u001b[37m\u001b[0m \u001b[1m0s\u001b[0m 38ms/step - char_0_accuracy: 0.9332 - char_1_accuracy: 0.9422 - char_2_accuracy: 0.9521 - char_3_accuracy: 0.9259 - char_4_accuracy: 0.9266 - loss: 4.5069\n",
      "Epoch 39: val_loss improved from 5.65632 to 5.12330, saving model to best_captcha_model.keras\n",
      "\u001b[1m43/43\u001b[0m \u001b[32m━━━━━━━━━━━━━━━━━━━━\u001b[0m\u001b[37m\u001b[0m \u001b[1m2s\u001b[0m 52ms/step - char_0_accuracy: 0.9333 - char_1_accuracy: 0.9422 - char_2_accuracy: 0.9520 - char_3_accuracy: 0.9261 - char_4_accuracy: 0.9269 - loss: 4.5051 - val_char_0_accuracy: 0.9651 - val_char_1_accuracy: 0.9302 - val_char_2_accuracy: 0.8953 - val_char_3_accuracy: 0.8895 - val_char_4_accuracy: 0.8953 - val_loss: 5.1233 - learning_rate: 2.0000e-04\n",
      "Epoch 40/100\n",
      "\u001b[1m43/43\u001b[0m \u001b[32m━━━━━━━━━━━━━━━━━━━━\u001b[0m\u001b[37m\u001b[0m \u001b[1m0s\u001b[0m 38ms/step - char_0_accuracy: 0.9523 - char_1_accuracy: 0.9561 - char_2_accuracy: 0.9486 - char_3_accuracy: 0.9654 - char_4_accuracy: 0.9562 - loss: 4.1069\n",
      "Epoch 40: val_loss improved from 5.12330 to 4.86867, saving model to best_captcha_model.keras\n",
      "\u001b[1m43/43\u001b[0m \u001b[32m━━━━━━━━━━━━━━━━━━━━\u001b[0m\u001b[37m\u001b[0m \u001b[1m2s\u001b[0m 54ms/step - char_0_accuracy: 0.9524 - char_1_accuracy: 0.9561 - char_2_accuracy: 0.9488 - char_3_accuracy: 0.9652 - char_4_accuracy: 0.9562 - loss: 4.1051 - val_char_0_accuracy: 0.9767 - val_char_1_accuracy: 0.9128 - val_char_2_accuracy: 0.9128 - val_char_3_accuracy: 0.9128 - val_char_4_accuracy: 0.8895 - val_loss: 4.8687 - learning_rate: 2.0000e-04\n",
      "Epoch 41/100\n",
      "\u001b[1m43/43\u001b[0m \u001b[32m━━━━━━━━━━━━━━━━━━━━\u001b[0m\u001b[37m\u001b[0m \u001b[1m0s\u001b[0m 38ms/step - char_0_accuracy: 0.9774 - char_1_accuracy: 0.9636 - char_2_accuracy: 0.9666 - char_3_accuracy: 0.9676 - char_4_accuracy: 0.9631 - loss: 3.7748\n",
      "Epoch 41: val_loss improved from 4.86867 to 4.63583, saving model to best_captcha_model.keras\n",
      "\u001b[1m43/43\u001b[0m \u001b[32m━━━━━━━━━━━━━━━━━━━━\u001b[0m\u001b[37m\u001b[0m \u001b[1m2s\u001b[0m 58ms/step - char_0_accuracy: 0.9774 - char_1_accuracy: 0.9635 - char_2_accuracy: 0.9668 - char_3_accuracy: 0.9675 - char_4_accuracy: 0.9629 - loss: 3.7745 - val_char_0_accuracy: 0.9826 - val_char_1_accuracy: 0.9360 - val_char_2_accuracy: 0.9012 - val_char_3_accuracy: 0.9186 - val_char_4_accuracy: 0.8895 - val_loss: 4.6358 - learning_rate: 2.0000e-04\n",
      "Epoch 42/100\n",
      "\u001b[1m43/43\u001b[0m \u001b[32m━━━━━━━━━━━━━━━━━━━━\u001b[0m\u001b[37m\u001b[0m \u001b[1m0s\u001b[0m 38ms/step - char_0_accuracy: 0.9594 - char_1_accuracy: 0.9677 - char_2_accuracy: 0.9715 - char_3_accuracy: 0.9696 - char_4_accuracy: 0.9793 - loss: 3.6094\n",
      "Epoch 42: val_loss improved from 4.63583 to 4.43751, saving model to best_captcha_model.keras\n",
      "\u001b[1m43/43\u001b[0m \u001b[32m━━━━━━━━━━━━━━━━━━━━\u001b[0m\u001b[37m\u001b[0m \u001b[1m2s\u001b[0m 52ms/step - char_0_accuracy: 0.9594 - char_1_accuracy: 0.9678 - char_2_accuracy: 0.9715 - char_3_accuracy: 0.9697 - char_4_accuracy: 0.9791 - loss: 3.6078 - val_char_0_accuracy: 0.9884 - val_char_1_accuracy: 0.9302 - val_char_2_accuracy: 0.9070 - val_char_3_accuracy: 0.9186 - val_char_4_accuracy: 0.8953 - val_loss: 4.4375 - learning_rate: 2.0000e-04\n",
      "Epoch 43/100\n",
      "\u001b[1m43/43\u001b[0m \u001b[32m━━━━━━━━━━━━━━━━━━━━\u001b[0m\u001b[37m\u001b[0m \u001b[1m0s\u001b[0m 38ms/step - char_0_accuracy: 0.9642 - char_1_accuracy: 0.9581 - char_2_accuracy: 0.9780 - char_3_accuracy: 0.9672 - char_4_accuracy: 0.9636 - loss: 3.4269\n",
      "Epoch 43: val_loss improved from 4.43751 to 4.31625, saving model to best_captcha_model.keras\n",
      "\u001b[1m43/43\u001b[0m \u001b[32m━━━━━━━━━━━━━━━━━━━━\u001b[0m\u001b[37m\u001b[0m \u001b[1m2s\u001b[0m 52ms/step - char_0_accuracy: 0.9643 - char_1_accuracy: 0.9583 - char_2_accuracy: 0.9780 - char_3_accuracy: 0.9673 - char_4_accuracy: 0.9637 - loss: 3.4255 - val_char_0_accuracy: 0.9826 - val_char_1_accuracy: 0.9302 - val_char_2_accuracy: 0.9128 - val_char_3_accuracy: 0.9360 - val_char_4_accuracy: 0.8779 - val_loss: 4.3162 - learning_rate: 2.0000e-04\n",
      "Epoch 44/100\n",
      "\u001b[1m43/43\u001b[0m \u001b[32m━━━━━━━━━━━━━━━━━━━━\u001b[0m\u001b[37m\u001b[0m \u001b[1m0s\u001b[0m 38ms/step - char_0_accuracy: 0.9678 - char_1_accuracy: 0.9659 - char_2_accuracy: 0.9706 - char_3_accuracy: 0.9792 - char_4_accuracy: 0.9698 - loss: 3.2795\n",
      "Epoch 44: val_loss improved from 4.31625 to 4.14928, saving model to best_captcha_model.keras\n",
      "\u001b[1m43/43\u001b[0m \u001b[32m━━━━━━━━━━━━━━━━━━━━\u001b[0m\u001b[37m\u001b[0m \u001b[1m2s\u001b[0m 52ms/step - char_0_accuracy: 0.9678 - char_1_accuracy: 0.9660 - char_2_accuracy: 0.9706 - char_3_accuracy: 0.9791 - char_4_accuracy: 0.9699 - loss: 3.2783 - val_char_0_accuracy: 0.9942 - val_char_1_accuracy: 0.9419 - val_char_2_accuracy: 0.9012 - val_char_3_accuracy: 0.9186 - val_char_4_accuracy: 0.9012 - val_loss: 4.1493 - learning_rate: 2.0000e-04\n",
      "Epoch 45/100\n",
      "\u001b[1m43/43\u001b[0m \u001b[32m━━━━━━━━━━━━━━━━━━━━\u001b[0m\u001b[37m\u001b[0m \u001b[1m0s\u001b[0m 38ms/step - char_0_accuracy: 0.9794 - char_1_accuracy: 0.9739 - char_2_accuracy: 0.9673 - char_3_accuracy: 0.9796 - char_4_accuracy: 0.9873 - loss: 3.0577\n",
      "Epoch 45: val_loss improved from 4.14928 to 4.05197, saving model to best_captcha_model.keras\n",
      "\u001b[1m43/43\u001b[0m \u001b[32m━━━━━━━━━━━━━━━━━━━━\u001b[0m\u001b[37m\u001b[0m \u001b[1m2s\u001b[0m 52ms/step - char_0_accuracy: 0.9794 - char_1_accuracy: 0.9740 - char_2_accuracy: 0.9674 - char_3_accuracy: 0.9795 - char_4_accuracy: 0.9871 - loss: 3.0575 - val_char_0_accuracy: 0.9884 - val_char_1_accuracy: 0.9302 - val_char_2_accuracy: 0.9012 - val_char_3_accuracy: 0.9070 - val_char_4_accuracy: 0.9070 - val_loss: 4.0520 - learning_rate: 2.0000e-04\n",
      "Epoch 46/100\n",
      "\u001b[1m43/43\u001b[0m \u001b[32m━━━━━━━━━━━━━━━━━━━━\u001b[0m\u001b[37m\u001b[0m \u001b[1m0s\u001b[0m 38ms/step - char_0_accuracy: 0.9663 - char_1_accuracy: 0.9813 - char_2_accuracy: 0.9796 - char_3_accuracy: 0.9613 - char_4_accuracy: 0.9764 - loss: 2.9795\n",
      "Epoch 46: val_loss improved from 4.05197 to 3.90801, saving model to best_captcha_model.keras\n",
      "\u001b[1m43/43\u001b[0m \u001b[32m━━━━━━━━━━━━━━━━━━━━\u001b[0m\u001b[37m\u001b[0m \u001b[1m2s\u001b[0m 52ms/step - char_0_accuracy: 0.9663 - char_1_accuracy: 0.9813 - char_2_accuracy: 0.9796 - char_3_accuracy: 0.9615 - char_4_accuracy: 0.9763 - loss: 2.9788 - val_char_0_accuracy: 0.9884 - val_char_1_accuracy: 0.9244 - val_char_2_accuracy: 0.9012 - val_char_3_accuracy: 0.9360 - val_char_4_accuracy: 0.8953 - val_loss: 3.9080 - learning_rate: 2.0000e-04\n",
      "Epoch 47/100\n",
      "\u001b[1m43/43\u001b[0m \u001b[32m━━━━━━━━━━━━━━━━━━━━\u001b[0m\u001b[37m\u001b[0m \u001b[1m0s\u001b[0m 38ms/step - char_0_accuracy: 0.9863 - char_1_accuracy: 0.9672 - char_2_accuracy: 0.9824 - char_3_accuracy: 0.9801 - char_4_accuracy: 0.9746 - loss: 2.8207\n",
      "Epoch 47: val_loss improved from 3.90801 to 3.79727, saving model to best_captcha_model.keras\n",
      "\u001b[1m43/43\u001b[0m \u001b[32m━━━━━━━━━━━━━━━━━━━━\u001b[0m\u001b[37m\u001b[0m \u001b[1m2s\u001b[0m 52ms/step - char_0_accuracy: 0.9862 - char_1_accuracy: 0.9674 - char_2_accuracy: 0.9823 - char_3_accuracy: 0.9800 - char_4_accuracy: 0.9746 - loss: 2.8206 - val_char_0_accuracy: 0.9884 - val_char_1_accuracy: 0.9419 - val_char_2_accuracy: 0.9012 - val_char_3_accuracy: 0.9419 - val_char_4_accuracy: 0.8895 - val_loss: 3.7973 - learning_rate: 2.0000e-04\n",
      "Epoch 48/100\n",
      "\u001b[1m43/43\u001b[0m \u001b[32m━━━━━━━━━━━━━━━━━━━━\u001b[0m\u001b[37m\u001b[0m \u001b[1m0s\u001b[0m 38ms/step - char_0_accuracy: 0.9916 - char_1_accuracy: 0.9796 - char_2_accuracy: 0.9818 - char_3_accuracy: 0.9877 - char_4_accuracy: 0.9777 - loss: 2.6696\n",
      "Epoch 48: val_loss improved from 3.79727 to 3.70087, saving model to best_captcha_model.keras\n",
      "\u001b[1m43/43\u001b[0m \u001b[32m━━━━━━━━━━━━━━━━━━━━\u001b[0m\u001b[37m\u001b[0m \u001b[1m2s\u001b[0m 51ms/step - char_0_accuracy: 0.9915 - char_1_accuracy: 0.9796 - char_2_accuracy: 0.9818 - char_3_accuracy: 0.9876 - char_4_accuracy: 0.9777 - loss: 2.6697 - val_char_0_accuracy: 0.9767 - val_char_1_accuracy: 0.9302 - val_char_2_accuracy: 0.9012 - val_char_3_accuracy: 0.9419 - val_char_4_accuracy: 0.9070 - val_loss: 3.7009 - learning_rate: 2.0000e-04\n",
      "Epoch 49/100\n",
      "\u001b[1m43/43\u001b[0m \u001b[32m━━━━━━━━━━━━━━━━━━━━\u001b[0m\u001b[37m\u001b[0m \u001b[1m0s\u001b[0m 38ms/step - char_0_accuracy: 0.9763 - char_1_accuracy: 0.9766 - char_2_accuracy: 0.9817 - char_3_accuracy: 0.9823 - char_4_accuracy: 0.9825 - loss: 2.6376\n",
      "Epoch 49: val_loss improved from 3.70087 to 3.60377, saving model to best_captcha_model.keras\n",
      "\u001b[1m43/43\u001b[0m \u001b[32m━━━━━━━━━━━━━━━━━━━━\u001b[0m\u001b[37m\u001b[0m \u001b[1m2s\u001b[0m 51ms/step - char_0_accuracy: 0.9764 - char_1_accuracy: 0.9766 - char_2_accuracy: 0.9816 - char_3_accuracy: 0.9822 - char_4_accuracy: 0.9824 - loss: 2.6371 - val_char_0_accuracy: 0.9942 - val_char_1_accuracy: 0.9419 - val_char_2_accuracy: 0.9070 - val_char_3_accuracy: 0.9244 - val_char_4_accuracy: 0.8895 - val_loss: 3.6038 - learning_rate: 2.0000e-04\n",
      "Epoch 50/100\n",
      "\u001b[1m43/43\u001b[0m \u001b[32m━━━━━━━━━━━━━━━━━━━━\u001b[0m\u001b[37m\u001b[0m \u001b[1m0s\u001b[0m 39ms/step - char_0_accuracy: 0.9846 - char_1_accuracy: 0.9833 - char_2_accuracy: 0.9847 - char_3_accuracy: 0.9779 - char_4_accuracy: 0.9811 - loss: 2.5339\n",
      "Epoch 50: val_loss improved from 3.60377 to 3.44319, saving model to best_captcha_model.keras\n",
      "\u001b[1m43/43\u001b[0m \u001b[32m━━━━━━━━━━━━━━━━━━━━\u001b[0m\u001b[37m\u001b[0m \u001b[1m2s\u001b[0m 52ms/step - char_0_accuracy: 0.9846 - char_1_accuracy: 0.9833 - char_2_accuracy: 0.9845 - char_3_accuracy: 0.9779 - char_4_accuracy: 0.9811 - loss: 2.5335 - val_char_0_accuracy: 0.9826 - val_char_1_accuracy: 0.9477 - val_char_2_accuracy: 0.9186 - val_char_3_accuracy: 0.9360 - val_char_4_accuracy: 0.9012 - val_loss: 3.4432 - learning_rate: 2.0000e-04\n",
      "Epoch 51/100\n",
      "\u001b[1m43/43\u001b[0m \u001b[32m━━━━━━━━━━━━━━━━━━━━\u001b[0m\u001b[37m\u001b[0m \u001b[1m0s\u001b[0m 39ms/step - char_0_accuracy: 0.9794 - char_1_accuracy: 0.9862 - char_2_accuracy: 0.9822 - char_3_accuracy: 0.9867 - char_4_accuracy: 0.9805 - loss: 2.4076\n",
      "Epoch 51: val_loss improved from 3.44319 to 3.41254, saving model to best_captcha_model.keras\n",
      "\u001b[1m43/43\u001b[0m \u001b[32m━━━━━━━━━━━━━━━━━━━━\u001b[0m\u001b[37m\u001b[0m \u001b[1m2s\u001b[0m 52ms/step - char_0_accuracy: 0.9795 - char_1_accuracy: 0.9862 - char_2_accuracy: 0.9821 - char_3_accuracy: 0.9867 - char_4_accuracy: 0.9805 - loss: 2.4073 - val_char_0_accuracy: 0.9826 - val_char_1_accuracy: 0.9302 - val_char_2_accuracy: 0.9128 - val_char_3_accuracy: 0.9419 - val_char_4_accuracy: 0.9070 - val_loss: 3.4125 - learning_rate: 2.0000e-04\n",
      "Epoch 52/100\n",
      "\u001b[1m43/43\u001b[0m \u001b[32m━━━━━━━━━━━━━━━━━━━━\u001b[0m\u001b[37m\u001b[0m \u001b[1m0s\u001b[0m 39ms/step - char_0_accuracy: 0.9822 - char_1_accuracy: 0.9794 - char_2_accuracy: 0.9791 - char_3_accuracy: 0.9766 - char_4_accuracy: 0.9800 - loss: 2.3642\n",
      "Epoch 52: val_loss improved from 3.41254 to 3.37839, saving model to best_captcha_model.keras\n",
      "\u001b[1m43/43\u001b[0m \u001b[32m━━━━━━━━━━━━━━━━━━━━\u001b[0m\u001b[37m\u001b[0m \u001b[1m2s\u001b[0m 52ms/step - char_0_accuracy: 0.9821 - char_1_accuracy: 0.9794 - char_2_accuracy: 0.9791 - char_3_accuracy: 0.9766 - char_4_accuracy: 0.9799 - loss: 2.3640 - val_char_0_accuracy: 0.9942 - val_char_1_accuracy: 0.9302 - val_char_2_accuracy: 0.9012 - val_char_3_accuracy: 0.9302 - val_char_4_accuracy: 0.9070 - val_loss: 3.3784 - learning_rate: 2.0000e-04\n",
      "Epoch 53/100\n",
      "\u001b[1m43/43\u001b[0m \u001b[32m━━━━━━━━━━━━━━━━━━━━\u001b[0m\u001b[37m\u001b[0m \u001b[1m0s\u001b[0m 38ms/step - char_0_accuracy: 0.9796 - char_1_accuracy: 0.9823 - char_2_accuracy: 0.9781 - char_3_accuracy: 0.9875 - char_4_accuracy: 0.9824 - loss: 2.2638\n",
      "Epoch 53: val_loss improved from 3.37839 to 3.29342, saving model to best_captcha_model.keras\n",
      "\u001b[1m43/43\u001b[0m \u001b[32m━━━━━━━━━━━━━━━━━━━━\u001b[0m\u001b[37m\u001b[0m \u001b[1m2s\u001b[0m 51ms/step - char_0_accuracy: 0.9796 - char_1_accuracy: 0.9823 - char_2_accuracy: 0.9782 - char_3_accuracy: 0.9875 - char_4_accuracy: 0.9822 - loss: 2.2639 - val_char_0_accuracy: 0.9942 - val_char_1_accuracy: 0.9302 - val_char_2_accuracy: 0.9012 - val_char_3_accuracy: 0.9186 - val_char_4_accuracy: 0.9128 - val_loss: 3.2934 - learning_rate: 2.0000e-04\n",
      "Epoch 54/100\n",
      "\u001b[1m43/43\u001b[0m \u001b[32m━━━━━━━━━━━━━━━━━━━━\u001b[0m\u001b[37m\u001b[0m \u001b[1m0s\u001b[0m 39ms/step - char_0_accuracy: 0.9805 - char_1_accuracy: 0.9838 - char_2_accuracy: 0.9799 - char_3_accuracy: 0.9675 - char_4_accuracy: 0.9759 - loss: 2.2401\n",
      "Epoch 54: val_loss improved from 3.29342 to 3.20289, saving model to best_captcha_model.keras\n",
      "\u001b[1m43/43\u001b[0m \u001b[32m━━━━━━━━━━━━━━━━━━━━\u001b[0m\u001b[37m\u001b[0m \u001b[1m2s\u001b[0m 53ms/step - char_0_accuracy: 0.9806 - char_1_accuracy: 0.9838 - char_2_accuracy: 0.9800 - char_3_accuracy: 0.9678 - char_4_accuracy: 0.9760 - loss: 2.2390 - val_char_0_accuracy: 0.9942 - val_char_1_accuracy: 0.9419 - val_char_2_accuracy: 0.8953 - val_char_3_accuracy: 0.9360 - val_char_4_accuracy: 0.9012 - val_loss: 3.2029 - learning_rate: 2.0000e-04\n",
      "Epoch 55/100\n",
      "\u001b[1m42/43\u001b[0m \u001b[32m━━━━━━━━━━━━━━━━━━━\u001b[0m\u001b[37m━\u001b[0m \u001b[1m0s\u001b[0m 40ms/step - char_0_accuracy: 0.9908 - char_1_accuracy: 0.9800 - char_2_accuracy: 0.9838 - char_3_accuracy: 0.9732 - char_4_accuracy: 0.9823 - loss: 2.1698\n",
      "Epoch 55: val_loss improved from 3.20289 to 3.12435, saving model to best_captcha_model.keras\n",
      "\u001b[1m43/43\u001b[0m \u001b[32m━━━━━━━━━━━━━━━━━━━━\u001b[0m\u001b[37m\u001b[0m \u001b[1m2s\u001b[0m 53ms/step - char_0_accuracy: 0.9907 - char_1_accuracy: 0.9800 - char_2_accuracy: 0.9838 - char_3_accuracy: 0.9735 - char_4_accuracy: 0.9823 - loss: 2.1679 - val_char_0_accuracy: 0.9884 - val_char_1_accuracy: 0.9419 - val_char_2_accuracy: 0.9012 - val_char_3_accuracy: 0.9186 - val_char_4_accuracy: 0.8895 - val_loss: 3.1243 - learning_rate: 2.0000e-04\n",
      "Epoch 56/100\n",
      "\u001b[1m43/43\u001b[0m \u001b[32m━━━━━━━━━━━━━━━━━━━━\u001b[0m\u001b[37m\u001b[0m \u001b[1m0s\u001b[0m 39ms/step - char_0_accuracy: 0.9820 - char_1_accuracy: 0.9823 - char_2_accuracy: 0.9862 - char_3_accuracy: 0.9850 - char_4_accuracy: 0.9881 - loss: 2.0841\n",
      "Epoch 56: val_loss improved from 3.12435 to 3.06669, saving model to best_captcha_model.keras\n",
      "\u001b[1m43/43\u001b[0m \u001b[32m━━━━━━━━━━━━━━━━━━━━\u001b[0m\u001b[37m\u001b[0m \u001b[1m2s\u001b[0m 52ms/step - char_0_accuracy: 0.9820 - char_1_accuracy: 0.9823 - char_2_accuracy: 0.9862 - char_3_accuracy: 0.9850 - char_4_accuracy: 0.9881 - loss: 2.0841 - val_char_0_accuracy: 0.9767 - val_char_1_accuracy: 0.9477 - val_char_2_accuracy: 0.9244 - val_char_3_accuracy: 0.9302 - val_char_4_accuracy: 0.9070 - val_loss: 3.0667 - learning_rate: 2.0000e-04\n",
      "Epoch 57/100\n",
      "\u001b[1m43/43\u001b[0m \u001b[32m━━━━━━━━━━━━━━━━━━━━\u001b[0m\u001b[37m\u001b[0m \u001b[1m0s\u001b[0m 39ms/step - char_0_accuracy: 0.9809 - char_1_accuracy: 0.9851 - char_2_accuracy: 0.9743 - char_3_accuracy: 0.9829 - char_4_accuracy: 0.9738 - loss: 2.0522\n",
      "Epoch 57: val_loss improved from 3.06669 to 3.01073, saving model to best_captcha_model.keras\n",
      "\u001b[1m43/43\u001b[0m \u001b[32m━━━━━━━━━━━━━━━━━━━━\u001b[0m\u001b[37m\u001b[0m \u001b[1m2s\u001b[0m 52ms/step - char_0_accuracy: 0.9808 - char_1_accuracy: 0.9851 - char_2_accuracy: 0.9744 - char_3_accuracy: 0.9828 - char_4_accuracy: 0.9738 - loss: 2.0519 - val_char_0_accuracy: 0.9884 - val_char_1_accuracy: 0.9477 - val_char_2_accuracy: 0.9070 - val_char_3_accuracy: 0.9186 - val_char_4_accuracy: 0.9302 - val_loss: 3.0107 - learning_rate: 2.0000e-04\n",
      "Epoch 58/100\n",
      "\u001b[1m43/43\u001b[0m \u001b[32m━━━━━━━━━━━━━━━━━━━━\u001b[0m\u001b[37m\u001b[0m \u001b[1m0s\u001b[0m 38ms/step - char_0_accuracy: 0.9822 - char_1_accuracy: 0.9836 - char_2_accuracy: 0.9713 - char_3_accuracy: 0.9824 - char_4_accuracy: 0.9830 - loss: 2.0311\n",
      "Epoch 58: val_loss improved from 3.01073 to 3.00922, saving model to best_captcha_model.keras\n",
      "\u001b[1m43/43\u001b[0m \u001b[32m━━━━━━━━━━━━━━━━━━━━\u001b[0m\u001b[37m\u001b[0m \u001b[1m2s\u001b[0m 51ms/step - char_0_accuracy: 0.9822 - char_1_accuracy: 0.9835 - char_2_accuracy: 0.9715 - char_3_accuracy: 0.9823 - char_4_accuracy: 0.9829 - loss: 2.0308 - val_char_0_accuracy: 0.9884 - val_char_1_accuracy: 0.9477 - val_char_2_accuracy: 0.9128 - val_char_3_accuracy: 0.9186 - val_char_4_accuracy: 0.9012 - val_loss: 3.0092 - learning_rate: 2.0000e-04\n",
      "Epoch 59/100\n",
      "\u001b[1m43/43\u001b[0m \u001b[32m━━━━━━━━━━━━━━━━━━━━\u001b[0m\u001b[37m\u001b[0m \u001b[1m0s\u001b[0m 39ms/step - char_0_accuracy: 0.9778 - char_1_accuracy: 0.9788 - char_2_accuracy: 0.9809 - char_3_accuracy: 0.9749 - char_4_accuracy: 0.9851 - loss: 1.9517\n",
      "Epoch 59: val_loss improved from 3.00922 to 2.90012, saving model to best_captcha_model.keras\n",
      "\u001b[1m43/43\u001b[0m \u001b[32m━━━━━━━━━━━━━━━━━━━━\u001b[0m\u001b[37m\u001b[0m \u001b[1m2s\u001b[0m 52ms/step - char_0_accuracy: 0.9779 - char_1_accuracy: 0.9788 - char_2_accuracy: 0.9811 - char_3_accuracy: 0.9749 - char_4_accuracy: 0.9850 - loss: 1.9512 - val_char_0_accuracy: 0.9884 - val_char_1_accuracy: 0.9477 - val_char_2_accuracy: 0.9012 - val_char_3_accuracy: 0.9186 - val_char_4_accuracy: 0.9186 - val_loss: 2.9001 - learning_rate: 2.0000e-04\n",
      "Epoch 60/100\n",
      "\u001b[1m43/43\u001b[0m \u001b[32m━━━━━━━━━━━━━━━━━━━━\u001b[0m\u001b[37m\u001b[0m \u001b[1m0s\u001b[0m 38ms/step - char_0_accuracy: 0.9802 - char_1_accuracy: 0.9771 - char_2_accuracy: 0.9821 - char_3_accuracy: 0.9804 - char_4_accuracy: 0.9762 - loss: 1.9300\n",
      "Epoch 60: val_loss improved from 2.90012 to 2.88023, saving model to best_captcha_model.keras\n",
      "\u001b[1m43/43\u001b[0m \u001b[32m━━━━━━━━━━━━━━━━━━━━\u001b[0m\u001b[37m\u001b[0m \u001b[1m2s\u001b[0m 51ms/step - char_0_accuracy: 0.9802 - char_1_accuracy: 0.9770 - char_2_accuracy: 0.9821 - char_3_accuracy: 0.9804 - char_4_accuracy: 0.9762 - loss: 1.9300 - val_char_0_accuracy: 0.9884 - val_char_1_accuracy: 0.9535 - val_char_2_accuracy: 0.9012 - val_char_3_accuracy: 0.9186 - val_char_4_accuracy: 0.8953 - val_loss: 2.8802 - learning_rate: 2.0000e-04\n",
      "Epoch 61/100\n",
      "\u001b[1m43/43\u001b[0m \u001b[32m━━━━━━━━━━━━━━━━━━━━\u001b[0m\u001b[37m\u001b[0m \u001b[1m0s\u001b[0m 38ms/step - char_0_accuracy: 0.9765 - char_1_accuracy: 0.9904 - char_2_accuracy: 0.9810 - char_3_accuracy: 0.9704 - char_4_accuracy: 0.9738 - loss: 1.9102\n",
      "Epoch 61: val_loss did not improve from 2.88023\n",
      "\u001b[1m43/43\u001b[0m \u001b[32m━━━━━━━━━━━━━━━━━━━━\u001b[0m\u001b[37m\u001b[0m \u001b[1m2s\u001b[0m 41ms/step - char_0_accuracy: 0.9765 - char_1_accuracy: 0.9903 - char_2_accuracy: 0.9810 - char_3_accuracy: 0.9704 - char_4_accuracy: 0.9738 - loss: 1.9102 - val_char_0_accuracy: 0.9593 - val_char_1_accuracy: 0.9419 - val_char_2_accuracy: 0.9012 - val_char_3_accuracy: 0.9186 - val_char_4_accuracy: 0.8721 - val_loss: 3.0328 - learning_rate: 2.0000e-04\n",
      "Epoch 62/100\n",
      "\u001b[1m43/43\u001b[0m \u001b[32m━━━━━━━━━━━━━━━━━━━━\u001b[0m\u001b[37m\u001b[0m \u001b[1m0s\u001b[0m 38ms/step - char_0_accuracy: 0.9741 - char_1_accuracy: 0.9735 - char_2_accuracy: 0.9812 - char_3_accuracy: 0.9831 - char_4_accuracy: 0.9838 - loss: 1.8690\n",
      "Epoch 62: val_loss improved from 2.88023 to 2.87134, saving model to best_captcha_model.keras\n",
      "\u001b[1m43/43\u001b[0m \u001b[32m━━━━━━━━━━━━━━━━━━━━\u001b[0m\u001b[37m\u001b[0m \u001b[1m2s\u001b[0m 51ms/step - char_0_accuracy: 0.9743 - char_1_accuracy: 0.9735 - char_2_accuracy: 0.9812 - char_3_accuracy: 0.9831 - char_4_accuracy: 0.9837 - loss: 1.8687 - val_char_0_accuracy: 0.9826 - val_char_1_accuracy: 0.9477 - val_char_2_accuracy: 0.8895 - val_char_3_accuracy: 0.9186 - val_char_4_accuracy: 0.8779 - val_loss: 2.8713 - learning_rate: 2.0000e-04\n",
      "Epoch 63/100\n",
      "\u001b[1m43/43\u001b[0m \u001b[32m━━━━━━━━━━━━━━━━━━━━\u001b[0m\u001b[37m\u001b[0m \u001b[1m0s\u001b[0m 38ms/step - char_0_accuracy: 0.9785 - char_1_accuracy: 0.9828 - char_2_accuracy: 0.9744 - char_3_accuracy: 0.9709 - char_4_accuracy: 0.9728 - loss: 1.8693\n",
      "Epoch 63: val_loss improved from 2.87134 to 2.81955, saving model to best_captcha_model.keras\n",
      "\u001b[1m43/43\u001b[0m \u001b[32m━━━━━━━━━━━━━━━━━━━━\u001b[0m\u001b[37m\u001b[0m \u001b[1m2s\u001b[0m 51ms/step - char_0_accuracy: 0.9786 - char_1_accuracy: 0.9827 - char_2_accuracy: 0.9744 - char_3_accuracy: 0.9711 - char_4_accuracy: 0.9729 - loss: 1.8686 - val_char_0_accuracy: 0.9884 - val_char_1_accuracy: 0.9535 - val_char_2_accuracy: 0.8953 - val_char_3_accuracy: 0.9244 - val_char_4_accuracy: 0.9070 - val_loss: 2.8196 - learning_rate: 2.0000e-04\n",
      "Epoch 64/100\n",
      "\u001b[1m42/43\u001b[0m \u001b[32m━━━━━━━━━━━━━━━━━━━\u001b[0m\u001b[37m━\u001b[0m \u001b[1m0s\u001b[0m 39ms/step - char_0_accuracy: 0.9778 - char_1_accuracy: 0.9782 - char_2_accuracy: 0.9772 - char_3_accuracy: 0.9726 - char_4_accuracy: 0.9791 - loss: 1.8523\n",
      "Epoch 64: val_loss improved from 2.81955 to 2.77575, saving model to best_captcha_model.keras\n",
      "\u001b[1m43/43\u001b[0m \u001b[32m━━━━━━━━━━━━━━━━━━━━\u001b[0m\u001b[37m\u001b[0m \u001b[1m2s\u001b[0m 52ms/step - char_0_accuracy: 0.9779 - char_1_accuracy: 0.9782 - char_2_accuracy: 0.9772 - char_3_accuracy: 0.9725 - char_4_accuracy: 0.9792 - loss: 1.8519 - val_char_0_accuracy: 0.9826 - val_char_1_accuracy: 0.9593 - val_char_2_accuracy: 0.8953 - val_char_3_accuracy: 0.9244 - val_char_4_accuracy: 0.8895 - val_loss: 2.7757 - learning_rate: 2.0000e-04\n",
      "Epoch 65/100\n",
      "\u001b[1m43/43\u001b[0m \u001b[32m━━━━━━━━━━━━━━━━━━━━\u001b[0m\u001b[37m\u001b[0m \u001b[1m0s\u001b[0m 38ms/step - char_0_accuracy: 0.9712 - char_1_accuracy: 0.9773 - char_2_accuracy: 0.9858 - char_3_accuracy: 0.9789 - char_4_accuracy: 0.9789 - loss: 1.8048\n",
      "Epoch 65: val_loss did not improve from 2.77575\n",
      "\u001b[1m43/43\u001b[0m \u001b[32m━━━━━━━━━━━━━━━━━━━━\u001b[0m\u001b[37m\u001b[0m \u001b[1m2s\u001b[0m 41ms/step - char_0_accuracy: 0.9713 - char_1_accuracy: 0.9774 - char_2_accuracy: 0.9856 - char_3_accuracy: 0.9789 - char_4_accuracy: 0.9788 - loss: 1.8049 - val_char_0_accuracy: 0.9767 - val_char_1_accuracy: 0.9535 - val_char_2_accuracy: 0.9012 - val_char_3_accuracy: 0.9012 - val_char_4_accuracy: 0.8779 - val_loss: 2.8449 - learning_rate: 2.0000e-04\n",
      "Epoch 66/100\n",
      "\u001b[1m43/43\u001b[0m \u001b[32m━━━━━━━━━━━━━━━━━━━━\u001b[0m\u001b[37m\u001b[0m \u001b[1m0s\u001b[0m 38ms/step - char_0_accuracy: 0.9849 - char_1_accuracy: 0.9766 - char_2_accuracy: 0.9806 - char_3_accuracy: 0.9764 - char_4_accuracy: 0.9622 - loss: 1.7872\n",
      "Epoch 66: val_loss did not improve from 2.77575\n",
      "\u001b[1m43/43\u001b[0m \u001b[32m━━━━━━━━━━━━━━━━━━━━\u001b[0m\u001b[37m\u001b[0m \u001b[1m2s\u001b[0m 40ms/step - char_0_accuracy: 0.9848 - char_1_accuracy: 0.9765 - char_2_accuracy: 0.9805 - char_3_accuracy: 0.9764 - char_4_accuracy: 0.9623 - loss: 1.7876 - val_char_0_accuracy: 0.9709 - val_char_1_accuracy: 0.9477 - val_char_2_accuracy: 0.9128 - val_char_3_accuracy: 0.9070 - val_char_4_accuracy: 0.8779 - val_loss: 2.8870 - learning_rate: 2.0000e-04\n",
      "Epoch 67/100\n",
      "\u001b[1m43/43\u001b[0m \u001b[32m━━━━━━━━━━━━━━━━━━━━\u001b[0m\u001b[37m\u001b[0m \u001b[1m0s\u001b[0m 38ms/step - char_0_accuracy: 0.9743 - char_1_accuracy: 0.9751 - char_2_accuracy: 0.9690 - char_3_accuracy: 0.9757 - char_4_accuracy: 0.9762 - loss: 1.7916\n",
      "Epoch 67: val_loss did not improve from 2.77575\n",
      "\u001b[1m43/43\u001b[0m \u001b[32m━━━━━━━━━━━━━━━━━━━━\u001b[0m\u001b[37m\u001b[0m \u001b[1m2s\u001b[0m 40ms/step - char_0_accuracy: 0.9742 - char_1_accuracy: 0.9751 - char_2_accuracy: 0.9691 - char_3_accuracy: 0.9756 - char_4_accuracy: 0.9762 - loss: 1.7915 - val_char_0_accuracy: 0.9826 - val_char_1_accuracy: 0.9477 - val_char_2_accuracy: 0.8837 - val_char_3_accuracy: 0.9012 - val_char_4_accuracy: 0.8837 - val_loss: 2.8783 - learning_rate: 2.0000e-04\n",
      "Epoch 68/100\n",
      "\u001b[1m43/43\u001b[0m \u001b[32m━━━━━━━━━━━━━━━━━━━━\u001b[0m\u001b[37m\u001b[0m \u001b[1m0s\u001b[0m 38ms/step - char_0_accuracy: 0.9785 - char_1_accuracy: 0.9715 - char_2_accuracy: 0.9844 - char_3_accuracy: 0.9689 - char_4_accuracy: 0.9819 - loss: 1.7744\n",
      "Epoch 68: val_loss did not improve from 2.77575\n",
      "\u001b[1m43/43\u001b[0m \u001b[32m━━━━━━━━━━━━━━━━━━━━\u001b[0m\u001b[37m\u001b[0m \u001b[1m2s\u001b[0m 40ms/step - char_0_accuracy: 0.9786 - char_1_accuracy: 0.9716 - char_2_accuracy: 0.9844 - char_3_accuracy: 0.9690 - char_4_accuracy: 0.9818 - loss: 1.7740 - val_char_0_accuracy: 0.9593 - val_char_1_accuracy: 0.9535 - val_char_2_accuracy: 0.8953 - val_char_3_accuracy: 0.9186 - val_char_4_accuracy: 0.8721 - val_loss: 2.8965 - learning_rate: 2.0000e-04\n",
      "Epoch 69/100\n",
      "\u001b[1m43/43\u001b[0m \u001b[32m━━━━━━━━━━━━━━━━━━━━\u001b[0m\u001b[37m\u001b[0m \u001b[1m0s\u001b[0m 38ms/step - char_0_accuracy: 0.9664 - char_1_accuracy: 0.9736 - char_2_accuracy: 0.9685 - char_3_accuracy: 0.9685 - char_4_accuracy: 0.9811 - loss: 1.8055\n",
      "Epoch 69: val_loss improved from 2.77575 to 2.75653, saving model to best_captcha_model.keras\n",
      "\u001b[1m43/43\u001b[0m \u001b[32m━━━━━━━━━━━━━━━━━━━━\u001b[0m\u001b[37m\u001b[0m \u001b[1m2s\u001b[0m 51ms/step - char_0_accuracy: 0.9665 - char_1_accuracy: 0.9737 - char_2_accuracy: 0.9688 - char_3_accuracy: 0.9686 - char_4_accuracy: 0.9811 - loss: 1.8049 - val_char_0_accuracy: 0.9767 - val_char_1_accuracy: 0.9477 - val_char_2_accuracy: 0.9128 - val_char_3_accuracy: 0.9360 - val_char_4_accuracy: 0.8663 - val_loss: 2.7565 - learning_rate: 2.0000e-04\n",
      "Epoch 70/100\n",
      "\u001b[1m43/43\u001b[0m \u001b[32m━━━━━━━━━━━━━━━━━━━━\u001b[0m\u001b[37m\u001b[0m \u001b[1m0s\u001b[0m 39ms/step - char_0_accuracy: 0.9814 - char_1_accuracy: 0.9733 - char_2_accuracy: 0.9785 - char_3_accuracy: 0.9730 - char_4_accuracy: 0.9684 - loss: 1.7671\n",
      "Epoch 70: val_loss improved from 2.75653 to 2.67041, saving model to best_captcha_model.keras\n",
      "\u001b[1m43/43\u001b[0m \u001b[32m━━━━━━━━━━━━━━━━━━━━\u001b[0m\u001b[37m\u001b[0m \u001b[1m2s\u001b[0m 52ms/step - char_0_accuracy: 0.9814 - char_1_accuracy: 0.9733 - char_2_accuracy: 0.9785 - char_3_accuracy: 0.9730 - char_4_accuracy: 0.9684 - loss: 1.7670 - val_char_0_accuracy: 0.9884 - val_char_1_accuracy: 0.9593 - val_char_2_accuracy: 0.9012 - val_char_3_accuracy: 0.9186 - val_char_4_accuracy: 0.8837 - val_loss: 2.6704 - learning_rate: 2.0000e-04\n",
      "Epoch 71/100\n",
      "\u001b[1m43/43\u001b[0m \u001b[32m━━━━━━━━━━━━━━━━━━━━\u001b[0m\u001b[37m\u001b[0m \u001b[1m0s\u001b[0m 38ms/step - char_0_accuracy: 0.9836 - char_1_accuracy: 0.9731 - char_2_accuracy: 0.9798 - char_3_accuracy: 0.9772 - char_4_accuracy: 0.9773 - loss: 1.6991\n",
      "Epoch 71: val_loss did not improve from 2.67041\n",
      "\u001b[1m43/43\u001b[0m \u001b[32m━━━━━━━━━━━━━━━━━━━━\u001b[0m\u001b[37m\u001b[0m \u001b[1m2s\u001b[0m 40ms/step - char_0_accuracy: 0.9835 - char_1_accuracy: 0.9732 - char_2_accuracy: 0.9797 - char_3_accuracy: 0.9772 - char_4_accuracy: 0.9773 - loss: 1.6992 - val_char_0_accuracy: 0.9826 - val_char_1_accuracy: 0.9360 - val_char_2_accuracy: 0.9070 - val_char_3_accuracy: 0.9302 - val_char_4_accuracy: 0.8779 - val_loss: 2.7488 - learning_rate: 2.0000e-04\n",
      "Epoch 72/100\n",
      "\u001b[1m43/43\u001b[0m \u001b[32m━━━━━━━━━━━━━━━━━━━━\u001b[0m\u001b[37m\u001b[0m \u001b[1m0s\u001b[0m 38ms/step - char_0_accuracy: 0.9733 - char_1_accuracy: 0.9732 - char_2_accuracy: 0.9782 - char_3_accuracy: 0.9711 - char_4_accuracy: 0.9703 - loss: 1.7387\n",
      "Epoch 72: val_loss did not improve from 2.67041\n",
      "\u001b[1m43/43\u001b[0m \u001b[32m━━━━━━━━━━━━━━━━━━━━\u001b[0m\u001b[37m\u001b[0m \u001b[1m2s\u001b[0m 40ms/step - char_0_accuracy: 0.9732 - char_1_accuracy: 0.9732 - char_2_accuracy: 0.9782 - char_3_accuracy: 0.9711 - char_4_accuracy: 0.9704 - loss: 1.7384 - val_char_0_accuracy: 0.9767 - val_char_1_accuracy: 0.9477 - val_char_2_accuracy: 0.9012 - val_char_3_accuracy: 0.9302 - val_char_4_accuracy: 0.8779 - val_loss: 2.7125 - learning_rate: 2.0000e-04\n",
      "Epoch 73/100\n",
      "\u001b[1m43/43\u001b[0m \u001b[32m━━━━━━━━━━━━━━━━━━━━\u001b[0m\u001b[37m\u001b[0m \u001b[1m0s\u001b[0m 38ms/step - char_0_accuracy: 0.9704 - char_1_accuracy: 0.9745 - char_2_accuracy: 0.9821 - char_3_accuracy: 0.9762 - char_4_accuracy: 0.9687 - loss: 1.7025\n",
      "Epoch 73: val_loss did not improve from 2.67041\n",
      "\u001b[1m43/43\u001b[0m \u001b[32m━━━━━━━━━━━━━━━━━━━━\u001b[0m\u001b[37m\u001b[0m \u001b[1m2s\u001b[0m 40ms/step - char_0_accuracy: 0.9704 - char_1_accuracy: 0.9745 - char_2_accuracy: 0.9821 - char_3_accuracy: 0.9762 - char_4_accuracy: 0.9687 - loss: 1.7026 - val_char_0_accuracy: 0.9767 - val_char_1_accuracy: 0.9477 - val_char_2_accuracy: 0.8953 - val_char_3_accuracy: 0.9012 - val_char_4_accuracy: 0.8663 - val_loss: 2.8186 - learning_rate: 2.0000e-04\n",
      "Epoch 74/100\n",
      "\u001b[1m43/43\u001b[0m \u001b[32m━━━━━━━━━━━━━━━━━━━━\u001b[0m\u001b[37m\u001b[0m \u001b[1m0s\u001b[0m 38ms/step - char_0_accuracy: 0.9784 - char_1_accuracy: 0.9753 - char_2_accuracy: 0.9716 - char_3_accuracy: 0.9884 - char_4_accuracy: 0.9791 - loss: 1.6501\n",
      "Epoch 74: val_loss did not improve from 2.67041\n",
      "\u001b[1m43/43\u001b[0m \u001b[32m━━━━━━━━━━━━━━━━━━━━\u001b[0m\u001b[37m\u001b[0m \u001b[1m2s\u001b[0m 40ms/step - char_0_accuracy: 0.9783 - char_1_accuracy: 0.9754 - char_2_accuracy: 0.9716 - char_3_accuracy: 0.9883 - char_4_accuracy: 0.9789 - loss: 1.6508 - val_char_0_accuracy: 0.9942 - val_char_1_accuracy: 0.9477 - val_char_2_accuracy: 0.9070 - val_char_3_accuracy: 0.9128 - val_char_4_accuracy: 0.8895 - val_loss: 2.7411 - learning_rate: 2.0000e-04\n",
      "Epoch 75/100\n",
      "\u001b[1m43/43\u001b[0m \u001b[32m━━━━━━━━━━━━━━━━━━━━\u001b[0m\u001b[37m\u001b[0m \u001b[1m0s\u001b[0m 38ms/step - char_0_accuracy: 0.9784 - char_1_accuracy: 0.9810 - char_2_accuracy: 0.9736 - char_3_accuracy: 0.9729 - char_4_accuracy: 0.9811 - loss: 1.6880\n",
      "Epoch 75: ReduceLROnPlateau reducing learning rate to 4.0000001899898055e-05.\n",
      "\n",
      "Epoch 75: val_loss did not improve from 2.67041\n",
      "\u001b[1m43/43\u001b[0m \u001b[32m━━━━━━━━━━━━━━━━━━━━\u001b[0m\u001b[37m\u001b[0m \u001b[1m2s\u001b[0m 40ms/step - char_0_accuracy: 0.9783 - char_1_accuracy: 0.9811 - char_2_accuracy: 0.9736 - char_3_accuracy: 0.9731 - char_4_accuracy: 0.9810 - loss: 1.6874 - val_char_0_accuracy: 0.9709 - val_char_1_accuracy: 0.9302 - val_char_2_accuracy: 0.8895 - val_char_3_accuracy: 0.9128 - val_char_4_accuracy: 0.8895 - val_loss: 2.7146 - learning_rate: 2.0000e-04\n",
      "Epoch 76/100\n",
      "\u001b[1m43/43\u001b[0m \u001b[32m━━━━━━━━━━━━━━━━━━━━\u001b[0m\u001b[37m\u001b[0m \u001b[1m0s\u001b[0m 38ms/step - char_0_accuracy: 0.9770 - char_1_accuracy: 0.9801 - char_2_accuracy: 0.9791 - char_3_accuracy: 0.9747 - char_4_accuracy: 0.9845 - loss: 1.6387\n",
      "Epoch 76: val_loss improved from 2.67041 to 2.62929, saving model to best_captcha_model.keras\n",
      "\u001b[1m43/43\u001b[0m \u001b[32m━━━━━━━━━━━━━━━━━━━━\u001b[0m\u001b[37m\u001b[0m \u001b[1m2s\u001b[0m 51ms/step - char_0_accuracy: 0.9769 - char_1_accuracy: 0.9801 - char_2_accuracy: 0.9791 - char_3_accuracy: 0.9747 - char_4_accuracy: 0.9844 - loss: 1.6389 - val_char_0_accuracy: 0.9767 - val_char_1_accuracy: 0.9360 - val_char_2_accuracy: 0.8953 - val_char_3_accuracy: 0.9302 - val_char_4_accuracy: 0.8837 - val_loss: 2.6293 - learning_rate: 4.0000e-05\n",
      "Epoch 77/100\n",
      "\u001b[1m43/43\u001b[0m \u001b[32m━━━━━━━━━━━━━━━━━━━━\u001b[0m\u001b[37m\u001b[0m \u001b[1m0s\u001b[0m 38ms/step - char_0_accuracy: 0.9770 - char_1_accuracy: 0.9758 - char_2_accuracy: 0.9852 - char_3_accuracy: 0.9787 - char_4_accuracy: 0.9768 - loss: 1.6090\n",
      "Epoch 77: val_loss improved from 2.62929 to 2.56925, saving model to best_captcha_model.keras\n",
      "\u001b[1m43/43\u001b[0m \u001b[32m━━━━━━━━━━━━━━━━━━━━\u001b[0m\u001b[37m\u001b[0m \u001b[1m2s\u001b[0m 51ms/step - char_0_accuracy: 0.9770 - char_1_accuracy: 0.9759 - char_2_accuracy: 0.9852 - char_3_accuracy: 0.9787 - char_4_accuracy: 0.9768 - loss: 1.6088 - val_char_0_accuracy: 0.9767 - val_char_1_accuracy: 0.9360 - val_char_2_accuracy: 0.9070 - val_char_3_accuracy: 0.9302 - val_char_4_accuracy: 0.8895 - val_loss: 2.5693 - learning_rate: 4.0000e-05\n",
      "Epoch 78/100\n",
      "\u001b[1m43/43\u001b[0m \u001b[32m━━━━━━━━━━━━━━━━━━━━\u001b[0m\u001b[37m\u001b[0m \u001b[1m0s\u001b[0m 38ms/step - char_0_accuracy: 0.9825 - char_1_accuracy: 0.9891 - char_2_accuracy: 0.9832 - char_3_accuracy: 0.9809 - char_4_accuracy: 0.9797 - loss: 1.5685\n",
      "Epoch 78: val_loss improved from 2.56925 to 2.52417, saving model to best_captcha_model.keras\n",
      "\u001b[1m43/43\u001b[0m \u001b[32m━━━━━━━━━━━━━━━━━━━━\u001b[0m\u001b[37m\u001b[0m \u001b[1m2s\u001b[0m 51ms/step - char_0_accuracy: 0.9826 - char_1_accuracy: 0.9891 - char_2_accuracy: 0.9832 - char_3_accuracy: 0.9810 - char_4_accuracy: 0.9797 - loss: 1.5680 - val_char_0_accuracy: 0.9767 - val_char_1_accuracy: 0.9419 - val_char_2_accuracy: 0.9070 - val_char_3_accuracy: 0.9419 - val_char_4_accuracy: 0.8895 - val_loss: 2.5242 - learning_rate: 4.0000e-05\n",
      "Epoch 79/100\n",
      "\u001b[1m43/43\u001b[0m \u001b[32m━━━━━━━━━━━━━━━━━━━━\u001b[0m\u001b[37m\u001b[0m \u001b[1m0s\u001b[0m 38ms/step - char_0_accuracy: 0.9850 - char_1_accuracy: 0.9865 - char_2_accuracy: 0.9824 - char_3_accuracy: 0.9832 - char_4_accuracy: 0.9826 - loss: 1.5266\n",
      "Epoch 79: val_loss improved from 2.52417 to 2.48845, saving model to best_captcha_model.keras\n",
      "\u001b[1m43/43\u001b[0m \u001b[32m━━━━━━━━━━━━━━━━━━━━\u001b[0m\u001b[37m\u001b[0m \u001b[1m2s\u001b[0m 51ms/step - char_0_accuracy: 0.9850 - char_1_accuracy: 0.9864 - char_2_accuracy: 0.9824 - char_3_accuracy: 0.9832 - char_4_accuracy: 0.9827 - loss: 1.5264 - val_char_0_accuracy: 0.9767 - val_char_1_accuracy: 0.9535 - val_char_2_accuracy: 0.9070 - val_char_3_accuracy: 0.9419 - val_char_4_accuracy: 0.9070 - val_loss: 2.4885 - learning_rate: 4.0000e-05\n",
      "Epoch 80/100\n",
      "\u001b[1m43/43\u001b[0m \u001b[32m━━━━━━━━━━━━━━━━━━━━\u001b[0m\u001b[37m\u001b[0m \u001b[1m0s\u001b[0m 38ms/step - char_0_accuracy: 0.9902 - char_1_accuracy: 0.9825 - char_2_accuracy: 0.9875 - char_3_accuracy: 0.9831 - char_4_accuracy: 0.9884 - loss: 1.4636\n",
      "Epoch 80: val_loss improved from 2.48845 to 2.45352, saving model to best_captcha_model.keras\n",
      "\u001b[1m43/43\u001b[0m \u001b[32m━━━━━━━━━━━━━━━━━━━━\u001b[0m\u001b[37m\u001b[0m \u001b[1m2s\u001b[0m 51ms/step - char_0_accuracy: 0.9901 - char_1_accuracy: 0.9826 - char_2_accuracy: 0.9875 - char_3_accuracy: 0.9831 - char_4_accuracy: 0.9883 - loss: 1.4638 - val_char_0_accuracy: 0.9767 - val_char_1_accuracy: 0.9593 - val_char_2_accuracy: 0.9070 - val_char_3_accuracy: 0.9419 - val_char_4_accuracy: 0.8953 - val_loss: 2.4535 - learning_rate: 4.0000e-05\n",
      "Epoch 81/100\n",
      "\u001b[1m43/43\u001b[0m \u001b[32m━━━━━━━━━━━━━━━━━━━━\u001b[0m\u001b[37m\u001b[0m \u001b[1m0s\u001b[0m 38ms/step - char_0_accuracy: 0.9925 - char_1_accuracy: 0.9878 - char_2_accuracy: 0.9878 - char_3_accuracy: 0.9834 - char_4_accuracy: 0.9840 - loss: 1.4643\n",
      "Epoch 81: val_loss improved from 2.45352 to 2.43529, saving model to best_captcha_model.keras\n",
      "\u001b[1m43/43\u001b[0m \u001b[32m━━━━━━━━━━━━━━━━━━━━\u001b[0m\u001b[37m\u001b[0m \u001b[1m2s\u001b[0m 50ms/step - char_0_accuracy: 0.9924 - char_1_accuracy: 0.9878 - char_2_accuracy: 0.9878 - char_3_accuracy: 0.9833 - char_4_accuracy: 0.9840 - loss: 1.4643 - val_char_0_accuracy: 0.9884 - val_char_1_accuracy: 0.9535 - val_char_2_accuracy: 0.9012 - val_char_3_accuracy: 0.9477 - val_char_4_accuracy: 0.9012 - val_loss: 2.4353 - learning_rate: 4.0000e-05\n",
      "Epoch 82/100\n",
      "\u001b[1m43/43\u001b[0m \u001b[32m━━━━━━━━━━━━━━━━━━━━\u001b[0m\u001b[37m\u001b[0m \u001b[1m0s\u001b[0m 38ms/step - char_0_accuracy: 0.9895 - char_1_accuracy: 0.9914 - char_2_accuracy: 0.9872 - char_3_accuracy: 0.9892 - char_4_accuracy: 0.9854 - loss: 1.4096\n",
      "Epoch 82: val_loss did not improve from 2.43529\n",
      "\u001b[1m43/43\u001b[0m \u001b[32m━━━━━━━━━━━━━━━━━━━━\u001b[0m\u001b[37m\u001b[0m \u001b[1m2s\u001b[0m 40ms/step - char_0_accuracy: 0.9895 - char_1_accuracy: 0.9914 - char_2_accuracy: 0.9872 - char_3_accuracy: 0.9892 - char_4_accuracy: 0.9853 - loss: 1.4098 - val_char_0_accuracy: 0.9767 - val_char_1_accuracy: 0.9535 - val_char_2_accuracy: 0.9012 - val_char_3_accuracy: 0.9477 - val_char_4_accuracy: 0.8953 - val_loss: 2.4457 - learning_rate: 4.0000e-05\n",
      "Epoch 83/100\n",
      "\u001b[1m43/43\u001b[0m \u001b[32m━━━━━━━━━━━━━━━━━━━━\u001b[0m\u001b[37m\u001b[0m \u001b[1m0s\u001b[0m 38ms/step - char_0_accuracy: 0.9936 - char_1_accuracy: 0.9965 - char_2_accuracy: 0.9894 - char_3_accuracy: 0.9867 - char_4_accuracy: 0.9842 - loss: 1.4128\n",
      "Epoch 83: val_loss improved from 2.43529 to 2.42751, saving model to best_captcha_model.keras\n",
      "\u001b[1m43/43\u001b[0m \u001b[32m━━━━━━━━━━━━━━━━━━━━\u001b[0m\u001b[37m\u001b[0m \u001b[1m2s\u001b[0m 51ms/step - char_0_accuracy: 0.9936 - char_1_accuracy: 0.9965 - char_2_accuracy: 0.9894 - char_3_accuracy: 0.9867 - char_4_accuracy: 0.9843 - loss: 1.4128 - val_char_0_accuracy: 0.9767 - val_char_1_accuracy: 0.9535 - val_char_2_accuracy: 0.9012 - val_char_3_accuracy: 0.9477 - val_char_4_accuracy: 0.8895 - val_loss: 2.4275 - learning_rate: 4.0000e-05\n",
      "Epoch 84/100\n",
      "\u001b[1m43/43\u001b[0m \u001b[32m━━━━━━━━━━━━━━━━━━━━\u001b[0m\u001b[37m\u001b[0m \u001b[1m0s\u001b[0m 38ms/step - char_0_accuracy: 0.9912 - char_1_accuracy: 0.9844 - char_2_accuracy: 0.9888 - char_3_accuracy: 0.9857 - char_4_accuracy: 0.9813 - loss: 1.4190\n",
      "Epoch 84: val_loss improved from 2.42751 to 2.41391, saving model to best_captcha_model.keras\n",
      "\u001b[1m43/43\u001b[0m \u001b[32m━━━━━━━━━━━━━━━━━━━━\u001b[0m\u001b[37m\u001b[0m \u001b[1m2s\u001b[0m 51ms/step - char_0_accuracy: 0.9912 - char_1_accuracy: 0.9844 - char_2_accuracy: 0.9887 - char_3_accuracy: 0.9857 - char_4_accuracy: 0.9813 - loss: 1.4190 - val_char_0_accuracy: 0.9826 - val_char_1_accuracy: 0.9535 - val_char_2_accuracy: 0.9012 - val_char_3_accuracy: 0.9477 - val_char_4_accuracy: 0.8895 - val_loss: 2.4139 - learning_rate: 4.0000e-05\n",
      "Epoch 85/100\n",
      "\u001b[1m43/43\u001b[0m \u001b[32m━━━━━━━━━━━━━━━━━━━━\u001b[0m\u001b[37m\u001b[0m \u001b[1m0s\u001b[0m 38ms/step - char_0_accuracy: 0.9839 - char_1_accuracy: 0.9876 - char_2_accuracy: 0.9854 - char_3_accuracy: 0.9825 - char_4_accuracy: 0.9902 - loss: 1.4133\n",
      "Epoch 85: val_loss improved from 2.41391 to 2.39606, saving model to best_captcha_model.keras\n",
      "\u001b[1m43/43\u001b[0m \u001b[32m━━━━━━━━━━━━━━━━━━━━\u001b[0m\u001b[37m\u001b[0m \u001b[1m2s\u001b[0m 52ms/step - char_0_accuracy: 0.9839 - char_1_accuracy: 0.9876 - char_2_accuracy: 0.9855 - char_3_accuracy: 0.9826 - char_4_accuracy: 0.9903 - loss: 1.4129 - val_char_0_accuracy: 0.9884 - val_char_1_accuracy: 0.9593 - val_char_2_accuracy: 0.9012 - val_char_3_accuracy: 0.9477 - val_char_4_accuracy: 0.8837 - val_loss: 2.3961 - learning_rate: 4.0000e-05\n",
      "Epoch 86/100\n",
      "\u001b[1m43/43\u001b[0m \u001b[32m━━━━━━━━━━━━━━━━━━━━\u001b[0m\u001b[37m\u001b[0m \u001b[1m0s\u001b[0m 38ms/step - char_0_accuracy: 0.9829 - char_1_accuracy: 0.9915 - char_2_accuracy: 0.9878 - char_3_accuracy: 0.9890 - char_4_accuracy: 0.9887 - loss: 1.3632\n",
      "Epoch 86: val_loss improved from 2.39606 to 2.38213, saving model to best_captcha_model.keras\n",
      "\u001b[1m43/43\u001b[0m \u001b[32m━━━━━━━━━━━━━━━━━━━━\u001b[0m\u001b[37m\u001b[0m \u001b[1m2s\u001b[0m 51ms/step - char_0_accuracy: 0.9829 - char_1_accuracy: 0.9915 - char_2_accuracy: 0.9878 - char_3_accuracy: 0.9890 - char_4_accuracy: 0.9888 - loss: 1.3631 - val_char_0_accuracy: 0.9884 - val_char_1_accuracy: 0.9593 - val_char_2_accuracy: 0.9012 - val_char_3_accuracy: 0.9419 - val_char_4_accuracy: 0.8953 - val_loss: 2.3821 - learning_rate: 4.0000e-05\n",
      "Epoch 87/100\n",
      "\u001b[1m43/43\u001b[0m \u001b[32m━━━━━━━━━━━━━━━━━━━━\u001b[0m\u001b[37m\u001b[0m \u001b[1m0s\u001b[0m 38ms/step - char_0_accuracy: 0.9886 - char_1_accuracy: 0.9933 - char_2_accuracy: 0.9814 - char_3_accuracy: 0.9901 - char_4_accuracy: 0.9933 - loss: 1.3649\n",
      "Epoch 87: val_loss improved from 2.38213 to 2.35976, saving model to best_captcha_model.keras\n",
      "\u001b[1m43/43\u001b[0m \u001b[32m━━━━━━━━━━━━━━━━━━━━\u001b[0m\u001b[37m\u001b[0m \u001b[1m2s\u001b[0m 50ms/step - char_0_accuracy: 0.9887 - char_1_accuracy: 0.9934 - char_2_accuracy: 0.9815 - char_3_accuracy: 0.9901 - char_4_accuracy: 0.9933 - loss: 1.3647 - val_char_0_accuracy: 0.9884 - val_char_1_accuracy: 0.9535 - val_char_2_accuracy: 0.9070 - val_char_3_accuracy: 0.9419 - val_char_4_accuracy: 0.8953 - val_loss: 2.3598 - learning_rate: 4.0000e-05\n",
      "Epoch 88/100\n",
      "\u001b[1m43/43\u001b[0m \u001b[32m━━━━━━━━━━━━━━━━━━━━\u001b[0m\u001b[37m\u001b[0m \u001b[1m0s\u001b[0m 38ms/step - char_0_accuracy: 0.9835 - char_1_accuracy: 0.9909 - char_2_accuracy: 0.9843 - char_3_accuracy: 0.9928 - char_4_accuracy: 0.9825 - loss: 1.3453\n",
      "Epoch 88: val_loss improved from 2.35976 to 2.33012, saving model to best_captcha_model.keras\n",
      "\u001b[1m43/43\u001b[0m \u001b[32m━━━━━━━━━━━━━━━━━━━━\u001b[0m\u001b[37m\u001b[0m \u001b[1m2s\u001b[0m 51ms/step - char_0_accuracy: 0.9836 - char_1_accuracy: 0.9909 - char_2_accuracy: 0.9843 - char_3_accuracy: 0.9928 - char_4_accuracy: 0.9825 - loss: 1.3454 - val_char_0_accuracy: 0.9884 - val_char_1_accuracy: 0.9535 - val_char_2_accuracy: 0.9128 - val_char_3_accuracy: 0.9535 - val_char_4_accuracy: 0.9070 - val_loss: 2.3301 - learning_rate: 4.0000e-05\n",
      "Epoch 89/100\n",
      "\u001b[1m43/43\u001b[0m \u001b[32m━━━━━━━━━━━━━━━━━━━━\u001b[0m\u001b[37m\u001b[0m \u001b[1m0s\u001b[0m 38ms/step - char_0_accuracy: 0.9818 - char_1_accuracy: 0.9875 - char_2_accuracy: 0.9937 - char_3_accuracy: 0.9885 - char_4_accuracy: 0.9854 - loss: 1.3620\n",
      "Epoch 89: val_loss improved from 2.33012 to 2.31616, saving model to best_captcha_model.keras\n",
      "\u001b[1m43/43\u001b[0m \u001b[32m━━━━━━━━━━━━━━━━━━━━\u001b[0m\u001b[37m\u001b[0m \u001b[1m2s\u001b[0m 51ms/step - char_0_accuracy: 0.9819 - char_1_accuracy: 0.9875 - char_2_accuracy: 0.9936 - char_3_accuracy: 0.9885 - char_4_accuracy: 0.9855 - loss: 1.3615 - val_char_0_accuracy: 0.9884 - val_char_1_accuracy: 0.9535 - val_char_2_accuracy: 0.9128 - val_char_3_accuracy: 0.9477 - val_char_4_accuracy: 0.9070 - val_loss: 2.3162 - learning_rate: 4.0000e-05\n",
      "Epoch 90/100\n",
      "\u001b[1m43/43\u001b[0m \u001b[32m━━━━━━━━━━━━━━━━━━━━\u001b[0m\u001b[37m\u001b[0m \u001b[1m0s\u001b[0m 38ms/step - char_0_accuracy: 0.9830 - char_1_accuracy: 0.9907 - char_2_accuracy: 0.9881 - char_3_accuracy: 0.9869 - char_4_accuracy: 0.9915 - loss: 1.3257\n",
      "Epoch 90: val_loss improved from 2.31616 to 2.29299, saving model to best_captcha_model.keras\n",
      "\u001b[1m43/43\u001b[0m \u001b[32m━━━━━━━━━━━━━━━━━━━━\u001b[0m\u001b[37m\u001b[0m \u001b[1m2s\u001b[0m 51ms/step - char_0_accuracy: 0.9830 - char_1_accuracy: 0.9907 - char_2_accuracy: 0.9881 - char_3_accuracy: 0.9869 - char_4_accuracy: 0.9915 - loss: 1.3258 - val_char_0_accuracy: 0.9826 - val_char_1_accuracy: 0.9593 - val_char_2_accuracy: 0.9128 - val_char_3_accuracy: 0.9535 - val_char_4_accuracy: 0.9012 - val_loss: 2.2930 - learning_rate: 4.0000e-05\n",
      "Epoch 91/100\n",
      "\u001b[1m43/43\u001b[0m \u001b[32m━━━━━━━━━━━━━━━━━━━━\u001b[0m\u001b[37m\u001b[0m \u001b[1m0s\u001b[0m 38ms/step - char_0_accuracy: 0.9856 - char_1_accuracy: 0.9889 - char_2_accuracy: 0.9807 - char_3_accuracy: 0.9877 - char_4_accuracy: 0.9898 - loss: 1.3489\n",
      "Epoch 91: val_loss improved from 2.29299 to 2.27942, saving model to best_captcha_model.keras\n",
      "\u001b[1m43/43\u001b[0m \u001b[32m━━━━━━━━━━━━━━━━━━━━\u001b[0m\u001b[37m\u001b[0m \u001b[1m2s\u001b[0m 51ms/step - char_0_accuracy: 0.9857 - char_1_accuracy: 0.9889 - char_2_accuracy: 0.9808 - char_3_accuracy: 0.9877 - char_4_accuracy: 0.9898 - loss: 1.3487 - val_char_0_accuracy: 0.9884 - val_char_1_accuracy: 0.9477 - val_char_2_accuracy: 0.9186 - val_char_3_accuracy: 0.9535 - val_char_4_accuracy: 0.9070 - val_loss: 2.2794 - learning_rate: 4.0000e-05\n",
      "Epoch 92/100\n",
      "\u001b[1m43/43\u001b[0m \u001b[32m━━━━━━━━━━━━━━━━━━━━\u001b[0m\u001b[37m\u001b[0m \u001b[1m0s\u001b[0m 38ms/step - char_0_accuracy: 0.9912 - char_1_accuracy: 0.9927 - char_2_accuracy: 0.9900 - char_3_accuracy: 0.9969 - char_4_accuracy: 0.9879 - loss: 1.2623\n",
      "Epoch 92: val_loss did not improve from 2.27942\n",
      "\u001b[1m43/43\u001b[0m \u001b[32m━━━━━━━━━━━━━━━━━━━━\u001b[0m\u001b[37m\u001b[0m \u001b[1m2s\u001b[0m 40ms/step - char_0_accuracy: 0.9912 - char_1_accuracy: 0.9926 - char_2_accuracy: 0.9900 - char_3_accuracy: 0.9967 - char_4_accuracy: 0.9880 - loss: 1.2629 - val_char_0_accuracy: 0.9884 - val_char_1_accuracy: 0.9535 - val_char_2_accuracy: 0.9012 - val_char_3_accuracy: 0.9535 - val_char_4_accuracy: 0.9012 - val_loss: 2.2860 - learning_rate: 4.0000e-05\n",
      "Epoch 93/100\n",
      "\u001b[1m43/43\u001b[0m \u001b[32m━━━━━━━━━━━━━━━━━━━━\u001b[0m\u001b[37m\u001b[0m \u001b[1m0s\u001b[0m 38ms/step - char_0_accuracy: 0.9931 - char_1_accuracy: 0.9906 - char_2_accuracy: 0.9863 - char_3_accuracy: 0.9830 - char_4_accuracy: 0.9849 - loss: 1.3008\n",
      "Epoch 93: val_loss improved from 2.27942 to 2.27932, saving model to best_captcha_model.keras\n",
      "\u001b[1m43/43\u001b[0m \u001b[32m━━━━━━━━━━━━━━━━━━━━\u001b[0m\u001b[37m\u001b[0m \u001b[1m2s\u001b[0m 51ms/step - char_0_accuracy: 0.9931 - char_1_accuracy: 0.9906 - char_2_accuracy: 0.9863 - char_3_accuracy: 0.9831 - char_4_accuracy: 0.9849 - loss: 1.3006 - val_char_0_accuracy: 0.9884 - val_char_1_accuracy: 0.9477 - val_char_2_accuracy: 0.9070 - val_char_3_accuracy: 0.9593 - val_char_4_accuracy: 0.9070 - val_loss: 2.2793 - learning_rate: 4.0000e-05\n",
      "Epoch 94/100\n",
      "\u001b[1m43/43\u001b[0m \u001b[32m━━━━━━━━━━━━━━━━━━━━\u001b[0m\u001b[37m\u001b[0m \u001b[1m0s\u001b[0m 38ms/step - char_0_accuracy: 0.9931 - char_1_accuracy: 0.9835 - char_2_accuracy: 0.9943 - char_3_accuracy: 0.9916 - char_4_accuracy: 0.9959 - loss: 1.2866\n",
      "Epoch 94: val_loss improved from 2.27932 to 2.26329, saving model to best_captcha_model.keras\n",
      "\u001b[1m43/43\u001b[0m \u001b[32m━━━━━━━━━━━━━━━━━━━━\u001b[0m\u001b[37m\u001b[0m \u001b[1m2s\u001b[0m 51ms/step - char_0_accuracy: 0.9930 - char_1_accuracy: 0.9836 - char_2_accuracy: 0.9943 - char_3_accuracy: 0.9916 - char_4_accuracy: 0.9958 - loss: 1.2863 - val_char_0_accuracy: 0.9884 - val_char_1_accuracy: 0.9535 - val_char_2_accuracy: 0.9070 - val_char_3_accuracy: 0.9419 - val_char_4_accuracy: 0.8953 - val_loss: 2.2633 - learning_rate: 4.0000e-05\n",
      "Epoch 95/100\n",
      "\u001b[1m43/43\u001b[0m \u001b[32m━━━━━━━━━━━━━━━━━━━━\u001b[0m\u001b[37m\u001b[0m \u001b[1m0s\u001b[0m 38ms/step - char_0_accuracy: 0.9857 - char_1_accuracy: 0.9933 - char_2_accuracy: 0.9869 - char_3_accuracy: 0.9824 - char_4_accuracy: 0.9905 - loss: 1.2642\n",
      "Epoch 95: val_loss improved from 2.26329 to 2.24883, saving model to best_captcha_model.keras\n",
      "\u001b[1m43/43\u001b[0m \u001b[32m━━━━━━━━━━━━━━━━━━━━\u001b[0m\u001b[37m\u001b[0m \u001b[1m2s\u001b[0m 51ms/step - char_0_accuracy: 0.9858 - char_1_accuracy: 0.9932 - char_2_accuracy: 0.9869 - char_3_accuracy: 0.9824 - char_4_accuracy: 0.9904 - loss: 1.2642 - val_char_0_accuracy: 0.9826 - val_char_1_accuracy: 0.9477 - val_char_2_accuracy: 0.9070 - val_char_3_accuracy: 0.9477 - val_char_4_accuracy: 0.8953 - val_loss: 2.2488 - learning_rate: 4.0000e-05\n",
      "Epoch 96/100\n",
      "\u001b[1m43/43\u001b[0m \u001b[32m━━━━━━━━━━━━━━━━━━━━\u001b[0m\u001b[37m\u001b[0m \u001b[1m0s\u001b[0m 38ms/step - char_0_accuracy: 0.9914 - char_1_accuracy: 0.9919 - char_2_accuracy: 0.9934 - char_3_accuracy: 0.9908 - char_4_accuracy: 0.9918 - loss: 1.2459\n",
      "Epoch 96: val_loss improved from 2.24883 to 2.23594, saving model to best_captcha_model.keras\n",
      "\u001b[1m43/43\u001b[0m \u001b[32m━━━━━━━━━━━━━━━━━━━━\u001b[0m\u001b[37m\u001b[0m \u001b[1m2s\u001b[0m 51ms/step - char_0_accuracy: 0.9913 - char_1_accuracy: 0.9918 - char_2_accuracy: 0.9934 - char_3_accuracy: 0.9908 - char_4_accuracy: 0.9918 - loss: 1.2459 - val_char_0_accuracy: 0.9884 - val_char_1_accuracy: 0.9593 - val_char_2_accuracy: 0.9070 - val_char_3_accuracy: 0.9593 - val_char_4_accuracy: 0.8895 - val_loss: 2.2359 - learning_rate: 4.0000e-05\n",
      "Epoch 97/100\n",
      "\u001b[1m43/43\u001b[0m \u001b[32m━━━━━━━━━━━━━━━━━━━━\u001b[0m\u001b[37m\u001b[0m \u001b[1m0s\u001b[0m 39ms/step - char_0_accuracy: 0.9889 - char_1_accuracy: 0.9870 - char_2_accuracy: 0.9957 - char_3_accuracy: 0.9871 - char_4_accuracy: 0.9909 - loss: 1.2464\n",
      "Epoch 97: val_loss did not improve from 2.23594\n",
      "\u001b[1m43/43\u001b[0m \u001b[32m━━━━━━━━━━━━━━━━━━━━\u001b[0m\u001b[37m\u001b[0m \u001b[1m2s\u001b[0m 41ms/step - char_0_accuracy: 0.9890 - char_1_accuracy: 0.9870 - char_2_accuracy: 0.9957 - char_3_accuracy: 0.9871 - char_4_accuracy: 0.9910 - loss: 1.2462 - val_char_0_accuracy: 0.9942 - val_char_1_accuracy: 0.9535 - val_char_2_accuracy: 0.9186 - val_char_3_accuracy: 0.9477 - val_char_4_accuracy: 0.8895 - val_loss: 2.2407 - learning_rate: 4.0000e-05\n",
      "Epoch 98/100\n",
      "\u001b[1m43/43\u001b[0m \u001b[32m━━━━━━━━━━━━━━━━━━━━\u001b[0m\u001b[37m\u001b[0m \u001b[1m0s\u001b[0m 38ms/step - char_0_accuracy: 0.9944 - char_1_accuracy: 0.9951 - char_2_accuracy: 0.9967 - char_3_accuracy: 0.9946 - char_4_accuracy: 0.9918 - loss: 1.2135\n",
      "Epoch 98: val_loss improved from 2.23594 to 2.23304, saving model to best_captcha_model.keras\n",
      "\u001b[1m43/43\u001b[0m \u001b[32m━━━━━━━━━━━━━━━━━━━━\u001b[0m\u001b[37m\u001b[0m \u001b[1m2s\u001b[0m 51ms/step - char_0_accuracy: 0.9943 - char_1_accuracy: 0.9951 - char_2_accuracy: 0.9966 - char_3_accuracy: 0.9946 - char_4_accuracy: 0.9918 - loss: 1.2132 - val_char_0_accuracy: 0.9884 - val_char_1_accuracy: 0.9535 - val_char_2_accuracy: 0.9186 - val_char_3_accuracy: 0.9535 - val_char_4_accuracy: 0.8953 - val_loss: 2.2330 - learning_rate: 4.0000e-05\n",
      "Epoch 99/100\n",
      "\u001b[1m43/43\u001b[0m \u001b[32m━━━━━━━━━━━━━━━━━━━━\u001b[0m\u001b[37m\u001b[0m \u001b[1m0s\u001b[0m 38ms/step - char_0_accuracy: 0.9794 - char_1_accuracy: 0.9901 - char_2_accuracy: 0.9739 - char_3_accuracy: 0.9933 - char_4_accuracy: 0.9916 - loss: 1.2408\n",
      "Epoch 99: val_loss did not improve from 2.23304\n",
      "\u001b[1m43/43\u001b[0m \u001b[32m━━━━━━━━━━━━━━━━━━━━\u001b[0m\u001b[37m\u001b[0m \u001b[1m2s\u001b[0m 40ms/step - char_0_accuracy: 0.9796 - char_1_accuracy: 0.9901 - char_2_accuracy: 0.9741 - char_3_accuracy: 0.9933 - char_4_accuracy: 0.9917 - loss: 1.2403 - val_char_0_accuracy: 0.9884 - val_char_1_accuracy: 0.9535 - val_char_2_accuracy: 0.9128 - val_char_3_accuracy: 0.9477 - val_char_4_accuracy: 0.8895 - val_loss: 2.2565 - learning_rate: 4.0000e-05\n",
      "Epoch 100/100\n",
      "\u001b[1m43/43\u001b[0m \u001b[32m━━━━━━━━━━━━━━━━━━━━\u001b[0m\u001b[37m\u001b[0m \u001b[1m0s\u001b[0m 38ms/step - char_0_accuracy: 0.9897 - char_1_accuracy: 0.9885 - char_2_accuracy: 0.9909 - char_3_accuracy: 0.9865 - char_4_accuracy: 0.9878 - loss: 1.2105\n",
      "Epoch 100: val_loss did not improve from 2.23304\n",
      "\u001b[1m43/43\u001b[0m \u001b[32m━━━━━━━━━━━━━━━━━━━━\u001b[0m\u001b[37m\u001b[0m \u001b[1m2s\u001b[0m 41ms/step - char_0_accuracy: 0.9897 - char_1_accuracy: 0.9885 - char_2_accuracy: 0.9908 - char_3_accuracy: 0.9866 - char_4_accuracy: 0.9878 - loss: 1.2107 - val_char_0_accuracy: 0.9942 - val_char_1_accuracy: 0.9593 - val_char_2_accuracy: 0.9128 - val_char_3_accuracy: 0.9302 - val_char_4_accuracy: 0.8953 - val_loss: 2.2422 - learning_rate: 4.0000e-05\n"
     ]
    }
   ],
   "source": [
    "# Add callbacks\n",
    "callbacks = [\n",
    "    EarlyStopping(\n",
    "        monitor='val_loss',\n",
    "        patience=15,  # Increased patience\n",
    "        restore_best_weights=True,\n",
    "        min_delta=0.001\n",
    "    ),\n",
    "    ReduceLROnPlateau(\n",
    "        monitor='val_loss',\n",
    "        factor=0.2,\n",
    "        patience=5,\n",
    "        min_lr=0.00001,\n",
    "        verbose=1\n",
    "    ),\n",
    "    ModelCheckpoint(\n",
    "        'best_captcha_model.keras',\n",
    "        monitor='val_loss',\n",
    "        save_best_only=True,\n",
    "        verbose=1\n",
    "    )\n",
    "]\n",
    "\n",
    "# Train the model\n",
    "history=model.fit(\n",
    "        X_train_combined,\n",
    "        y_train_multi_combined,\n",
    "        validation_data=(X_val, y_val_multi),\n",
    "        epochs=100,  # Set the number of epochs based on your needs\n",
    "        batch_size=32,\n",
    "        callbacks=callbacks\n",
    "    )"
   ]
  },
  {
   "cell_type": "markdown",
   "id": "8aca5ace",
   "metadata": {
    "papermill": {
     "duration": 0.278386,
     "end_time": "2024-10-23T22:52:32.633994",
     "exception": false,
     "start_time": "2024-10-23T22:52:32.355608",
     "status": "completed"
    },
    "tags": []
   },
   "source": [
    "# Predictions"
   ]
  },
  {
   "cell_type": "code",
   "execution_count": 23,
   "id": "53daa6fb",
   "metadata": {
    "execution": {
     "iopub.execute_input": "2024-10-23T22:52:33.185644Z",
     "iopub.status.busy": "2024-10-23T22:52:33.185192Z",
     "iopub.status.idle": "2024-10-23T22:52:33.196195Z",
     "shell.execute_reply": "2024-10-23T22:52:33.195190Z"
    },
    "papermill": {
     "duration": 0.288571,
     "end_time": "2024-10-23T22:52:33.198309",
     "exception": false,
     "start_time": "2024-10-23T22:52:32.909738",
     "status": "completed"
    },
    "tags": []
   },
   "outputs": [],
   "source": [
    "def predict_captcha(model, image_path, int_to_char):\n",
    "    \"\"\"Predict text from a CAPTCHA image and display the image.\"\"\"\n",
    "    # Load and preprocess the image\n",
    "    img = cv2.imread(image_path, cv2.IMREAD_GRAYSCALE)\n",
    "    img = preprocess_image(img)  # Use your enhanced preprocessing\n",
    "    \n",
    "    # Make predictions\n",
    "    preds = model.predict(np.expand_dims(img, axis=0))  # Add batch dimension for prediction\n",
    "    \n",
    "    # Ensure preds is a NumPy array if it's a list\n",
    "    preds = np.array(preds) if isinstance(preds, list) else preds\n",
    "    \n",
    "    # Check if predictions are valid\n",
    "    if preds.ndim < 3:\n",
    "        print(\"Error: Predictions are not in the expected shape.\")\n",
    "        return None, None\n",
    "    \n",
    "    # Convert predictions to characters\n",
    "    predicted_text = ''\n",
    "    confidence_scores = []\n",
    "    \n",
    "    # Assuming preds shape is (num_chars, 1, num_classes)\n",
    "    seq_length = preds.shape[0]  # Get the sequence length from predictions\n",
    "    \n",
    "    for i in range(seq_length):  # Loop through each character position\n",
    "        pred_char = np.argmax(preds[i][0])  # Get the index of the highest probability\n",
    "        predicted_text += int_to_char[pred_char]  # Convert to character\n",
    "        confidence_scores.append(np.max(preds[i][0]))  # Get confidence score for this character\n",
    "    \n",
    "    # Display the original image and predicted text\n",
    "    plt.imshow(cv2.imread(image_path, cv2.IMREAD_COLOR))  # Display original image in color\n",
    "    plt.title(f'Predicted: {predicted_text}')\n",
    "    plt.axis('off')\n",
    "    plt.show()\n",
    "    \n",
    "    # Display the preprocessed image for verification\n",
    "    plt.imshow(img, cmap='gray')  # Display preprocessed image\n",
    "    plt.title('Preprocessed Image')\n",
    "    plt.axis('off')\n",
    "    plt.show()\n",
    "    \n",
    "    return predicted_text, confidence_scores  # Return both the predicted text and confidence scores"
   ]
  },
  {
   "cell_type": "code",
   "execution_count": 24,
   "id": "4dec4225",
   "metadata": {
    "execution": {
     "iopub.execute_input": "2024-10-23T22:52:33.750655Z",
     "iopub.status.busy": "2024-10-23T22:52:33.750227Z",
     "iopub.status.idle": "2024-10-23T22:52:35.528192Z",
     "shell.execute_reply": "2024-10-23T22:52:35.527023Z"
    },
    "papermill": {
     "duration": 2.061196,
     "end_time": "2024-10-23T22:52:35.530580",
     "exception": false,
     "start_time": "2024-10-23T22:52:33.469384",
     "status": "completed"
    },
    "tags": []
   },
   "outputs": [
    {
     "name": "stdout",
     "output_type": "stream",
     "text": [
      "\u001b[1m1/1\u001b[0m \u001b[32m━━━━━━━━━━━━━━━━━━━━\u001b[0m\u001b[37m\u001b[0m \u001b[1m1s\u001b[0m 1s/step\n"
     ]
    },
    {
     "data": {
      "image/png": "[encoded data removed]",
      "text/plain": [
       "<Figure size 640x480 with 1 Axes>"
      ]
     },
     "metadata": {},
     "output_type": "display_data"
    },
    {
     "data": {
      "image/png": "[encoded data removed]",
      "text/plain": [
       "<Figure size 640x480 with 1 Axes>"
      ]
     },
     "metadata": {},
     "output_type": "display_data"
    }
   ],
   "source": [
    "# Test the prediction function\n",
    "test_image_path = '/kaggle/working/samples/22d5n.png'  # Change this to the path of your test image\n",
    "predicted_text, confidence_scores = predict_captcha(model, test_image_path, int_to_char)"
   ]
  },
  {
   "cell_type": "markdown",
   "id": "873cf497",
   "metadata": {
    "papermill": {
     "duration": 0.271324,
     "end_time": "2024-10-23T22:52:36.133457",
     "exception": false,
     "start_time": "2024-10-23T22:52:35.862133",
     "status": "completed"
    },
    "tags": []
   },
   "source": [
    "# Test on an unseen image from the dataset"
   ]
  },
  {
   "cell_type": "code",
   "execution_count": 25,
   "id": "e2476116",
   "metadata": {
    "execution": {
     "iopub.execute_input": "2024-10-23T22:52:36.679811Z",
     "iopub.status.busy": "2024-10-23T22:52:36.679385Z",
     "iopub.status.idle": "2024-10-23T22:52:36.685188Z",
     "shell.execute_reply": "2024-10-23T22:52:36.684267Z"
    },
    "papermill": {
     "duration": 0.28335,
     "end_time": "2024-10-23T22:52:36.687470",
     "exception": false,
     "start_time": "2024-10-23T22:52:36.404120",
     "status": "completed"
    },
    "tags": []
   },
   "outputs": [],
   "source": [
    "# Test on an unseen image from the dataset\n",
    "test_image_index = 12  # Change this index to test different images\n",
    "test_image_path = os.path.join(folder_path, os.listdir(folder_path)[test_image_index])"
   ]
  },
  {
   "cell_type": "code",
   "execution_count": 26,
   "id": "778520bf",
   "metadata": {
    "execution": {
     "iopub.execute_input": "2024-10-23T22:52:37.268201Z",
     "iopub.status.busy": "2024-10-23T22:52:37.267775Z",
     "iopub.status.idle": "2024-10-23T22:52:37.702648Z",
     "shell.execute_reply": "2024-10-23T22:52:37.701474Z"
    },
    "papermill": {
     "duration": 0.735737,
     "end_time": "2024-10-23T22:52:37.705083",
     "exception": false,
     "start_time": "2024-10-23T22:52:36.969346",
     "status": "completed"
    },
    "tags": []
   },
   "outputs": [
    {
     "name": "stdout",
     "output_type": "stream",
     "text": [
      "\u001b[1m1/1\u001b[0m \u001b[32m━━━━━━━━━━━━━━━━━━━━\u001b[0m\u001b[37m\u001b[0m \u001b[1m0s\u001b[0m 21ms/step\n"
     ]
    },
    {
     "data": {
      "image/png": "[encoded data removed]",
      "text/plain": [
       "<Figure size 640x480 with 1 Axes>"
      ]
     },
     "metadata": {},
     "output_type": "display_data"
    },
    {
     "data": {
      "image/png": "[encoded data removed]",
      "text/plain": [
       "<Figure size 640x480 with 1 Axes>"
      ]
     },
     "metadata": {},
     "output_type": "display_data"
    }
   ],
   "source": [
    "# Predict on the unseen image\n",
    "predicted_text, confidence_scores = predict_captcha(model, test_image_path, int_to_char)\n",
    "\n",
    "# Get true label from filename\n",
    "true_label = os.path.splitext(os.path.basename(test_image_path))[0]"
   ]
  },
  {
   "cell_type": "markdown",
   "id": "719f4bd6",
   "metadata": {
    "papermill": {
     "duration": 0.277035,
     "end_time": "2024-10-23T22:52:38.264753",
     "exception": false,
     "start_time": "2024-10-23T22:52:37.987718",
     "status": "completed"
    },
    "tags": []
   },
   "source": [
    "# Display the prediction result, confidence scores, and true label"
   ]
  },
  {
   "cell_type": "code",
   "execution_count": 27,
   "id": "eee3cafd",
   "metadata": {
    "execution": {
     "iopub.execute_input": "2024-10-23T22:52:38.852342Z",
     "iopub.status.busy": "2024-10-23T22:52:38.851512Z",
     "iopub.status.idle": "2024-10-23T22:52:38.858053Z",
     "shell.execute_reply": "2024-10-23T22:52:38.856850Z"
    },
    "papermill": {
     "duration": 0.278886,
     "end_time": "2024-10-23T22:52:38.861048",
     "exception": false,
     "start_time": "2024-10-23T22:52:38.582162",
     "status": "completed"
    },
    "tags": []
   },
   "outputs": [
    {
     "name": "stdout",
     "output_type": "stream",
     "text": [
      "Prediction Results:\n",
      "Predicted text: xnd3y\n",
      "True label: xnd3y\n",
      "Confidence scores:\n",
      "Character 1: 0.93\n",
      "Character 2: 1.00\n",
      "Character 3: 0.96\n",
      "Character 4: 0.86\n",
      "Character 5: 0.98\n"
     ]
    }
   ],
   "source": [
    "# Display the prediction result, confidence scores, and true label\n",
    "print(\"Prediction Results:\")\n",
    "print(f\"Predicted text: {predicted_text}\")\n",
    "print(f\"True label: {true_label}\")\n",
    "print(\"Confidence scores:\")\n",
    "for i, score in enumerate(confidence_scores):\n",
    "    print(f\"Character {i + 1}: {score:.2f}\")"
   ]
  },
  {
   "cell_type": "markdown",
   "id": "71ccfa34",
   "metadata": {
    "papermill": {
     "duration": 0.273235,
     "end_time": "2024-10-23T22:52:39.403095",
     "exception": false,
     "start_time": "2024-10-23T22:52:39.129860",
     "status": "completed"
    },
    "tags": []
   },
   "source": [
    "# Print training history (Assuming `history` is available from training)"
   ]
  },
  {
   "cell_type": "code",
   "execution_count": 28,
   "id": "66f7910a",
   "metadata": {
    "execution": {
     "iopub.execute_input": "2024-10-23T22:52:39.958154Z",
     "iopub.status.busy": "2024-10-23T22:52:39.957158Z",
     "iopub.status.idle": "2024-10-23T22:52:39.963897Z",
     "shell.execute_reply": "2024-10-23T22:52:39.962872Z"
    },
    "papermill": {
     "duration": 0.288134,
     "end_time": "2024-10-23T22:52:39.966833",
     "exception": false,
     "start_time": "2024-10-23T22:52:39.678699",
     "status": "completed"
    },
    "tags": []
   },
   "outputs": [
    {
     "name": "stdout",
     "output_type": "stream",
     "text": [
      "\n",
      "Training History:\n",
      "\n",
      "Character position 1:\n",
      "Final training accuracy: 98.98%\n",
      "Final validation accuracy: 99.42%\n",
      "\n",
      "Character position 2:\n",
      "Final training accuracy: 98.83%\n",
      "Final validation accuracy: 95.93%\n",
      "\n",
      "Character position 3:\n",
      "Final training accuracy: 98.83%\n",
      "Final validation accuracy: 91.28%\n",
      "\n",
      "Character position 4:\n",
      "Final training accuracy: 98.83%\n",
      "Final validation accuracy: 93.02%\n",
      "\n",
      "Character position 5:\n",
      "Final training accuracy: 98.83%\n",
      "Final validation accuracy: 89.53%\n"
     ]
    }
   ],
   "source": [
    "# Print training history (Assuming `history` is available from training)\n",
    "print(\"\\nTraining History:\")\n",
    "for i in range(label_length):\n",
    "    print(f\"\\nCharacter position {i + 1}:\")\n",
    "    print(f\"Final training accuracy: {history.history[f'char_{i}_accuracy'][-1]:.2%}\")\n",
    "    print(f\"Final validation accuracy: {history.history[f'val_char_{i}_accuracy'][-1]:.2%}\")\n"
   ]
  },
  {
   "cell_type": "code",
   "execution_count": 29,
   "id": "90f96721",
   "metadata": {
    "execution": {
     "iopub.execute_input": "2024-10-23T22:52:40.517982Z",
     "iopub.status.busy": "2024-10-23T22:52:40.517598Z",
     "iopub.status.idle": "2024-10-23T22:52:40.757042Z",
     "shell.execute_reply": "2024-10-23T22:52:40.755295Z"
    },
    "papermill": {
     "duration": 0.516075,
     "end_time": "2024-10-23T22:52:40.761262",
     "exception": false,
     "start_time": "2024-10-23T22:52:40.245187",
     "status": "completed"
    },
    "tags": []
   },
   "outputs": [],
   "source": [
    "# Save the model\n",
    "model.save('captcha_ocr_model.h5')"
   ]
  },
  {
   "cell_type": "markdown",
   "id": "3b29783e",
   "metadata": {
    "papermill": {
     "duration": 0.278031,
     "end_time": "2024-10-23T22:52:41.316839",
     "exception": false,
     "start_time": "2024-10-23T22:52:41.038808",
     "status": "completed"
    },
    "tags": []
   },
   "source": [
    "# Prediction Of Number Of Captcha To Ensure The Model Is Good"
   ]
  },
  {
   "cell_type": "code",
   "execution_count": 30,
   "id": "74f1c164",
   "metadata": {
    "execution": {
     "iopub.execute_input": "2024-10-23T22:52:41.923004Z",
     "iopub.status.busy": "2024-10-23T22:52:41.922008Z",
     "iopub.status.idle": "2024-10-23T22:52:41.932143Z",
     "shell.execute_reply": "2024-10-23T22:52:41.930882Z"
    },
    "papermill": {
     "duration": 0.341429,
     "end_time": "2024-10-23T22:52:41.934473",
     "exception": false,
     "start_time": "2024-10-23T22:52:41.593044",
     "status": "completed"
    },
    "tags": []
   },
   "outputs": [],
   "source": [
    "\n",
    "def display_random_predictions(model, folder_path, int_to_char, num_images=5):\n",
    "    \"\"\"Display random images with predictions in a vertical layout.\"\"\"\n",
    "    files = [f for f in os.listdir(folder_path) if f.lower().endswith(('.jpg', '.jpeg', '.png'))]\n",
    "    \n",
    "    # Choose random images\n",
    "    random_files = random.sample(files, min(num_images, len(files)))\n",
    "    \n",
    "    # Adjust the figure size for better visibility\n",
    "    plt.figure(figsize=(10, 5 * num_images))  # Increase height for vertical layout\n",
    "    \n",
    "    for i, filename in enumerate(random_files):\n",
    "        image_path = os.path.join(folder_path, filename)\n",
    "        predicted_text, confidence_scores = predict_captcha(model, image_path, int_to_char)\n",
    "        \n",
    "        # Load the image for display\n",
    "        img = cv2.imread(image_path, cv2.IMREAD_GRAYSCALE)  # Load the original image for display\n",
    "        \n",
    "        # Create a subplot for each image in a single column\n",
    "        plt.subplot(num_images, 1, i + 1)\n",
    "        plt.imshow(img, cmap='gray')\n",
    "        plt.axis('off')  # Hide axes\n",
    "        \n",
    "        # Show predicted text below each image\n",
    "        plt.title(f'Predicted: {predicted_text}')\n",
    "    \n",
    "    plt.tight_layout()  # Adjust layout to prevent overlapping\n",
    "    plt.show()"
   ]
  },
  {
   "cell_type": "markdown",
   "id": "ae99697d",
   "metadata": {
    "papermill": {
     "duration": 0.274516,
     "end_time": "2024-10-23T22:52:42.488991",
     "exception": false,
     "start_time": "2024-10-23T22:52:42.214475",
     "status": "completed"
    },
    "tags": []
   },
   "source": [
    "# Display random predictions from the dataset"
   ]
  },
  {
   "cell_type": "code",
   "execution_count": 31,
   "id": "89d9b0e9",
   "metadata": {
    "execution": {
     "iopub.execute_input": "2024-10-23T22:52:43.046346Z",
     "iopub.status.busy": "2024-10-23T22:52:43.045572Z",
     "iopub.status.idle": "2024-10-23T22:52:45.181775Z",
     "shell.execute_reply": "2024-10-23T22:52:45.180281Z"
    },
    "papermill": {
     "duration": 2.42109,
     "end_time": "2024-10-23T22:52:45.185932",
     "exception": false,
     "start_time": "2024-10-23T22:52:42.764842",
     "status": "completed"
    },
    "tags": []
   },
   "outputs": [
    {
     "name": "stdout",
     "output_type": "stream",
     "text": [
      "\u001b[1m1/1\u001b[0m \u001b[32m━━━━━━━━━━━━━━━━━━━━\u001b[0m\u001b[37m\u001b[0m \u001b[1m0s\u001b[0m 22ms/step\n"
     ]
    },
    {
     "data": {
      "image/png": "[encoded data removed]",
      "text/plain": [
       "<Figure size 1000x2500 with 1 Axes>"
      ]
     },
     "metadata": {},
     "output_type": "display_data"
    },
    {
     "data": {
      "image/png": "[encoded data removed]",
      "text/plain": [
       "<Figure size 640x480 with 1 Axes>"
      ]
     },
     "metadata": {},
     "output_type": "display_data"
    },
    {
     "name": "stdout",
     "output_type": "stream",
     "text": [
      "\u001b[1m1/1\u001b[0m \u001b[32m━━━━━━━━━━━━━━━━━━━━\u001b[0m\u001b[37m\u001b[0m \u001b[1m0s\u001b[0m 20ms/step\n"
     ]
    },
    {
     "data": {
      "image/png": "[encoded data removed]",
      "text/plain": [
       "<Figure size 640x480 with 1 Axes>"
      ]
     },
     "metadata": {},
     "output_type": "display_data"
    },
    {
     "data": {
      "image/png": "[encoded data removed]",
      "text/plain": [
       "<Figure size 640x480 with 1 Axes>"
      ]
     },
     "metadata": {},
     "output_type": "display_data"
    },
    {
     "name": "stdout",
     "output_type": "stream",
     "text": [
      "\u001b[1m1/1\u001b[0m \u001b[32m━━━━━━━━━━━━━━━━━━━━\u001b[0m\u001b[37m\u001b[0m \u001b[1m0s\u001b[0m 21ms/step\n"
     ]
    },
    {
     "data": {
      "image/png": "[encoded data removed]",
      "text/plain": [
       "<Figure size 640x480 with 1 Axes>"
      ]
     },
     "metadata": {},
     "output_type": "display_data"
    },
    {
     "data": {
      "image/png": "[encoded data removed]",
      "text/plain": [
       "<Figure size 640x480 with 1 Axes>"
      ]
     },
     "metadata": {},
     "output_type": "display_data"
    },
    {
     "name": "stdout",
     "output_type": "stream",
     "text": [
      "\u001b[1m1/1\u001b[0m \u001b[32m━━━━━━━━━━━━━━━━━━━━\u001b[0m\u001b[37m\u001b[0m \u001b[1m0s\u001b[0m 20ms/step\n"
     ]
    },
    {
     "data": {
      "image/png": "[encoded data removed]",
      "text/plain": [
       "<Figure size 640x480 with 1 Axes>"
      ]
     },
     "metadata": {},
     "output_type": "display_data"
    },
    {
     "data": {
      "image/png": "[encoded data removed]",
      "text/plain": [
       "<Figure size 640x480 with 1 Axes>"
      ]
     },
     "metadata": {},
     "output_type": "display_data"
    },
    {
     "name": "stdout",
     "output_type": "stream",
     "text": [
      "\u001b[1m1/1\u001b[0m \u001b[32m━━━━━━━━━━━━━━━━━━━━\u001b[0m\u001b[37m\u001b[0m \u001b[1m0s\u001b[0m 22ms/step\n"
     ]
    },
    {
     "data": {
      "image/png": "[encoded data removed]",
      "text/plain": [
       "<Figure size 640x480 with 1 Axes>"
      ]
     },
     "metadata": {},
     "output_type": "display_data"
    },
    {
     "data": {
      "image/png": "[encoded data removed]",
      "text/plain": [
       "<Figure size 640x480 with 1 Axes>"
      ]
     },
     "metadata": {},
     "output_type": "display_data"
    },
    {
     "data": {
      "image/png": "[encoded data removed]",
      "text/plain": [
       "<Figure size 640x480 with 1 Axes>"
      ]
     },
     "metadata": {},
     "output_type": "display_data"
    }
   ],
   "source": [
    "# Display random predictions from the dataset\n",
    "display_random_predictions(model, folder_path, int_to_char, num_images=5)"
   ]
  },
  {
   "cell_type": "code",
   "execution_count": null,
   "id": "3e5b0ee5",
   "metadata": {
    "papermill": {
     "duration": 0.275942,
     "end_time": "2024-10-23T22:52:45.770703",
     "exception": false,
     "start_time": "2024-10-23T22:52:45.494761",
     "status": "completed"
    },
    "tags": []
   },
   "outputs": [],
   "source": []
  }
 ],
 "metadata": {
  "kaggle": {
   "accelerator": "nvidiaTeslaT4",
   "dataSources": [],
   "isGpuEnabled": true,
   "isInternetEnabled": true,
   "language": "python",
   "sourceType": "notebook"
  },
  "kernelspec": {
   "display_name": "Python 3",
   "language": "python",
   "name": "python3"
  },
  "language_info": {
   "codemirror_mode": {
    "name": "ipython",
    "version": 3
   },
   "file_extension": ".py",
   "mimetype": "text/x-python",
   "name": "python",
   "nbconvert_exporter": "python",
   "pygments_lexer": "ipython3",
   "version": "3.10.14"
  },
  "papermill": {
   "default_parameters": {},
   "duration": 463.863837,
   "end_time": "2024-10-23T22:52:48.935595",
   "environment_variables": {},
   "exception": null,
   "input_path": "__notebook__.ipynb",
   "output_path": "__notebook__.ipynb",
   "parameters": {},
   "start_time": "2024-10-23T22:45:05.071758",
   "version": "2.6.0"
  }
 },
 "nbformat": 4,
 "nbformat_minor": 5
}
